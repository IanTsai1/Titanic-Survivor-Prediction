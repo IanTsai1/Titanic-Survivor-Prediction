{
 "cells": [
  {
   "cell_type": "code",
   "execution_count": 248,
   "id": "00a97214",
   "metadata": {},
   "outputs": [],
   "source": [
    "import numpy as np\n",
    "from tensorflow.keras.models import Sequential\n",
    "from tensorflow.keras.layers import Dense, Dropout, Activation, Flatten\n",
    "from tensorflow.keras.layers import Conv2D, MaxPooling2D\n",
    "from tensorflow.keras.callbacks import TensorBoard\n",
    "import pickle\n",
    "import time\n",
    "import pandas as pd\n",
    "import matplotlib.pyplot as plt\n",
    "import seaborn as sns\n",
    "%matplotlib inline\n",
    "import pylab \n",
    "import scipy.stats as stats\n",
    "from sklearn.preprocessing import PowerTransformer\n",
    "from sklearn.preprocessing import OneHotEncoder\n",
    "import missingno as msno\n",
    "from sklearn.preprocessing import StandardScaler\n",
    "from sklearn.linear_model import LogisticRegression\n",
    "import os\n",
    "from sklearn.compose import ColumnTransformer\n",
    "from IPython.display import display\n",
    "import random"
   ]
  },
  {
   "cell_type": "markdown",
   "id": "03f8e310",
   "metadata": {},
   "source": [
    "# **Data Cleaning**"
   ]
  },
  {
   "cell_type": "code",
   "execution_count": 249,
   "id": "5d9125e0",
   "metadata": {},
   "outputs": [
    {
     "name": "stdout",
     "output_type": "stream",
     "text": [
      "(891, 12)\n"
     ]
    },
    {
     "data": {
      "text/html": [
       "<div>\n",
       "<style scoped>\n",
       "    .dataframe tbody tr th:only-of-type {\n",
       "        vertical-align: middle;\n",
       "    }\n",
       "\n",
       "    .dataframe tbody tr th {\n",
       "        vertical-align: top;\n",
       "    }\n",
       "\n",
       "    .dataframe thead th {\n",
       "        text-align: right;\n",
       "    }\n",
       "</style>\n",
       "<table border=\"1\" class=\"dataframe\">\n",
       "  <thead>\n",
       "    <tr style=\"text-align: right;\">\n",
       "      <th></th>\n",
       "      <th>PassengerId</th>\n",
       "      <th>Survived</th>\n",
       "      <th>Pclass</th>\n",
       "      <th>Name</th>\n",
       "      <th>Sex</th>\n",
       "      <th>Age</th>\n",
       "      <th>SibSp</th>\n",
       "      <th>Parch</th>\n",
       "      <th>Ticket</th>\n",
       "      <th>Fare</th>\n",
       "      <th>Cabin</th>\n",
       "      <th>Embarked</th>\n",
       "    </tr>\n",
       "  </thead>\n",
       "  <tbody>\n",
       "    <tr>\n",
       "      <th>0</th>\n",
       "      <td>1</td>\n",
       "      <td>0</td>\n",
       "      <td>3</td>\n",
       "      <td>Braund, Mr. Owen Harris</td>\n",
       "      <td>male</td>\n",
       "      <td>22.0</td>\n",
       "      <td>1</td>\n",
       "      <td>0</td>\n",
       "      <td>A/5 21171</td>\n",
       "      <td>7.2500</td>\n",
       "      <td>NaN</td>\n",
       "      <td>S</td>\n",
       "    </tr>\n",
       "    <tr>\n",
       "      <th>1</th>\n",
       "      <td>2</td>\n",
       "      <td>1</td>\n",
       "      <td>1</td>\n",
       "      <td>Cumings, Mrs. John Bradley (Florence Briggs Th...</td>\n",
       "      <td>female</td>\n",
       "      <td>38.0</td>\n",
       "      <td>1</td>\n",
       "      <td>0</td>\n",
       "      <td>PC 17599</td>\n",
       "      <td>71.2833</td>\n",
       "      <td>C85</td>\n",
       "      <td>C</td>\n",
       "    </tr>\n",
       "    <tr>\n",
       "      <th>2</th>\n",
       "      <td>3</td>\n",
       "      <td>1</td>\n",
       "      <td>3</td>\n",
       "      <td>Heikkinen, Miss. Laina</td>\n",
       "      <td>female</td>\n",
       "      <td>26.0</td>\n",
       "      <td>0</td>\n",
       "      <td>0</td>\n",
       "      <td>STON/O2. 3101282</td>\n",
       "      <td>7.9250</td>\n",
       "      <td>NaN</td>\n",
       "      <td>S</td>\n",
       "    </tr>\n",
       "    <tr>\n",
       "      <th>3</th>\n",
       "      <td>4</td>\n",
       "      <td>1</td>\n",
       "      <td>1</td>\n",
       "      <td>Futrelle, Mrs. Jacques Heath (Lily May Peel)</td>\n",
       "      <td>female</td>\n",
       "      <td>35.0</td>\n",
       "      <td>1</td>\n",
       "      <td>0</td>\n",
       "      <td>113803</td>\n",
       "      <td>53.1000</td>\n",
       "      <td>C123</td>\n",
       "      <td>S</td>\n",
       "    </tr>\n",
       "    <tr>\n",
       "      <th>4</th>\n",
       "      <td>5</td>\n",
       "      <td>0</td>\n",
       "      <td>3</td>\n",
       "      <td>Allen, Mr. William Henry</td>\n",
       "      <td>male</td>\n",
       "      <td>35.0</td>\n",
       "      <td>0</td>\n",
       "      <td>0</td>\n",
       "      <td>373450</td>\n",
       "      <td>8.0500</td>\n",
       "      <td>NaN</td>\n",
       "      <td>S</td>\n",
       "    </tr>\n",
       "  </tbody>\n",
       "</table>\n",
       "</div>"
      ],
      "text/plain": [
       "   PassengerId  Survived  Pclass  \\\n",
       "0            1         0       3   \n",
       "1            2         1       1   \n",
       "2            3         1       3   \n",
       "3            4         1       1   \n",
       "4            5         0       3   \n",
       "\n",
       "                                                Name     Sex   Age  SibSp  \\\n",
       "0                            Braund, Mr. Owen Harris    male  22.0      1   \n",
       "1  Cumings, Mrs. John Bradley (Florence Briggs Th...  female  38.0      1   \n",
       "2                             Heikkinen, Miss. Laina  female  26.0      0   \n",
       "3       Futrelle, Mrs. Jacques Heath (Lily May Peel)  female  35.0      1   \n",
       "4                           Allen, Mr. William Henry    male  35.0      0   \n",
       "\n",
       "   Parch            Ticket     Fare Cabin Embarked  \n",
       "0      0         A/5 21171   7.2500   NaN        S  \n",
       "1      0          PC 17599  71.2833   C85        C  \n",
       "2      0  STON/O2. 3101282   7.9250   NaN        S  \n",
       "3      0            113803  53.1000  C123        S  \n",
       "4      0            373450   8.0500   NaN        S  "
      ]
     },
     "execution_count": 249,
     "metadata": {},
     "output_type": "execute_result"
    }
   ],
   "source": [
    "train = pd.read_csv(\"train.csv\")\n",
    "test = pd.read_csv(\"test.csv\")\n",
    "print(train.shape)\n",
    "train.head()"
   ]
  },
  {
   "cell_type": "code",
   "execution_count": 250,
   "id": "95c13988",
   "metadata": {},
   "outputs": [
    {
     "data": {
      "text/plain": [
       "PassengerId      int64\n",
       "Survived         int64\n",
       "Pclass           int64\n",
       "Name            object\n",
       "Sex             object\n",
       "Age            float64\n",
       "SibSp            int64\n",
       "Parch            int64\n",
       "Ticket          object\n",
       "Fare           float64\n",
       "Cabin           object\n",
       "Embarked        object\n",
       "dtype: object"
      ]
     },
     "execution_count": 250,
     "metadata": {},
     "output_type": "execute_result"
    }
   ],
   "source": [
    "train.dtypes"
   ]
  },
  {
   "cell_type": "code",
   "execution_count": 251,
   "id": "1125e9fa",
   "metadata": {},
   "outputs": [
    {
     "name": "stderr",
     "output_type": "stream",
     "text": [
      "C:\\Users\\Ian\\AppData\\Local\\Temp/ipykernel_8704/324537713.py:4: UserWarning: To output multiple subplots, the figure containing the passed axes is being cleared\n",
      "  train.hist(ax = axes)\n"
     ]
    },
    {
     "data": {
      "text/plain": [
       "array([[<AxesSubplot:title={'center':'PassengerId'}>,\n",
       "        <AxesSubplot:title={'center':'Survived'}>,\n",
       "        <AxesSubplot:title={'center':'Pclass'}>],\n",
       "       [<AxesSubplot:title={'center':'Age'}>,\n",
       "        <AxesSubplot:title={'center':'SibSp'}>,\n",
       "        <AxesSubplot:title={'center':'Parch'}>],\n",
       "       [<AxesSubplot:title={'center':'Fare'}>, <AxesSubplot:>,\n",
       "        <AxesSubplot:>]], dtype=object)"
      ]
     },
     "execution_count": 251,
     "metadata": {},
     "output_type": "execute_result"
    },
    {
     "data": {
      "image/png": "[encoded data removed]",
      "text/plain": [
       "<Figure size 1080x1440 with 9 Axes>"
      ]
     },
     "metadata": {
      "needs_background": "light"
     },
     "output_type": "display_data"
    }
   ],
   "source": [
    "# distribution of each of the variables\n",
    "fig = plt.figure(figsize=(15, 20))\n",
    "axes = fig.gca()\n",
    "train.hist(ax = axes)"
   ]
  },
  {
   "cell_type": "markdown",
   "id": "71bcd136",
   "metadata": {},
   "source": [
    "**Invalid Data**"
   ]
  },
  {
   "cell_type": "code",
   "execution_count": 252,
   "id": "6c301edc",
   "metadata": {},
   "outputs": [
    {
     "data": {
      "text/html": [
       "<div>\n",
       "<style scoped>\n",
       "    .dataframe tbody tr th:only-of-type {\n",
       "        vertical-align: middle;\n",
       "    }\n",
       "\n",
       "    .dataframe tbody tr th {\n",
       "        vertical-align: top;\n",
       "    }\n",
       "\n",
       "    .dataframe thead th {\n",
       "        text-align: right;\n",
       "    }\n",
       "</style>\n",
       "<table border=\"1\" class=\"dataframe\">\n",
       "  <thead>\n",
       "    <tr style=\"text-align: right;\">\n",
       "      <th></th>\n",
       "      <th>PassengerId</th>\n",
       "      <th>Survived</th>\n",
       "      <th>Pclass</th>\n",
       "      <th>Name</th>\n",
       "      <th>Sex</th>\n",
       "      <th>Age</th>\n",
       "      <th>SibSp</th>\n",
       "      <th>Parch</th>\n",
       "      <th>Ticket</th>\n",
       "      <th>Fare</th>\n",
       "      <th>Cabin</th>\n",
       "      <th>Embarked</th>\n",
       "    </tr>\n",
       "  </thead>\n",
       "  <tbody>\n",
       "    <tr>\n",
       "      <th>0</th>\n",
       "      <td>1</td>\n",
       "      <td>0</td>\n",
       "      <td>3</td>\n",
       "      <td>Braund, Mr. Owen Harris</td>\n",
       "      <td>male</td>\n",
       "      <td>22.0</td>\n",
       "      <td>1</td>\n",
       "      <td>0</td>\n",
       "      <td>A/5 21171</td>\n",
       "      <td>7.2500</td>\n",
       "      <td>NaN</td>\n",
       "      <td>S</td>\n",
       "    </tr>\n",
       "    <tr>\n",
       "      <th>1</th>\n",
       "      <td>2</td>\n",
       "      <td>1</td>\n",
       "      <td>1</td>\n",
       "      <td>Cumings, Mrs. John Bradley (Florence Briggs Th...</td>\n",
       "      <td>female</td>\n",
       "      <td>38.0</td>\n",
       "      <td>1</td>\n",
       "      <td>0</td>\n",
       "      <td>PC 17599</td>\n",
       "      <td>71.2833</td>\n",
       "      <td>C85</td>\n",
       "      <td>C</td>\n",
       "    </tr>\n",
       "    <tr>\n",
       "      <th>2</th>\n",
       "      <td>3</td>\n",
       "      <td>1</td>\n",
       "      <td>3</td>\n",
       "      <td>Heikkinen, Miss. Laina</td>\n",
       "      <td>female</td>\n",
       "      <td>26.0</td>\n",
       "      <td>0</td>\n",
       "      <td>0</td>\n",
       "      <td>STON/O2. 3101282</td>\n",
       "      <td>7.9250</td>\n",
       "      <td>NaN</td>\n",
       "      <td>S</td>\n",
       "    </tr>\n",
       "    <tr>\n",
       "      <th>3</th>\n",
       "      <td>4</td>\n",
       "      <td>1</td>\n",
       "      <td>1</td>\n",
       "      <td>Futrelle, Mrs. Jacques Heath (Lily May Peel)</td>\n",
       "      <td>female</td>\n",
       "      <td>35.0</td>\n",
       "      <td>1</td>\n",
       "      <td>0</td>\n",
       "      <td>113803</td>\n",
       "      <td>53.1000</td>\n",
       "      <td>C123</td>\n",
       "      <td>S</td>\n",
       "    </tr>\n",
       "    <tr>\n",
       "      <th>4</th>\n",
       "      <td>5</td>\n",
       "      <td>0</td>\n",
       "      <td>3</td>\n",
       "      <td>Allen, Mr. William Henry</td>\n",
       "      <td>male</td>\n",
       "      <td>35.0</td>\n",
       "      <td>0</td>\n",
       "      <td>0</td>\n",
       "      <td>373450</td>\n",
       "      <td>8.0500</td>\n",
       "      <td>NaN</td>\n",
       "      <td>S</td>\n",
       "    </tr>\n",
       "    <tr>\n",
       "      <th>...</th>\n",
       "      <td>...</td>\n",
       "      <td>...</td>\n",
       "      <td>...</td>\n",
       "      <td>...</td>\n",
       "      <td>...</td>\n",
       "      <td>...</td>\n",
       "      <td>...</td>\n",
       "      <td>...</td>\n",
       "      <td>...</td>\n",
       "      <td>...</td>\n",
       "      <td>...</td>\n",
       "      <td>...</td>\n",
       "    </tr>\n",
       "    <tr>\n",
       "      <th>886</th>\n",
       "      <td>887</td>\n",
       "      <td>0</td>\n",
       "      <td>2</td>\n",
       "      <td>Montvila, Rev. Juozas</td>\n",
       "      <td>male</td>\n",
       "      <td>27.0</td>\n",
       "      <td>0</td>\n",
       "      <td>0</td>\n",
       "      <td>211536</td>\n",
       "      <td>13.0000</td>\n",
       "      <td>NaN</td>\n",
       "      <td>S</td>\n",
       "    </tr>\n",
       "    <tr>\n",
       "      <th>887</th>\n",
       "      <td>888</td>\n",
       "      <td>1</td>\n",
       "      <td>1</td>\n",
       "      <td>Graham, Miss. Margaret Edith</td>\n",
       "      <td>female</td>\n",
       "      <td>19.0</td>\n",
       "      <td>0</td>\n",
       "      <td>0</td>\n",
       "      <td>112053</td>\n",
       "      <td>30.0000</td>\n",
       "      <td>B42</td>\n",
       "      <td>S</td>\n",
       "    </tr>\n",
       "    <tr>\n",
       "      <th>888</th>\n",
       "      <td>889</td>\n",
       "      <td>0</td>\n",
       "      <td>3</td>\n",
       "      <td>Johnston, Miss. Catherine Helen \"Carrie\"</td>\n",
       "      <td>female</td>\n",
       "      <td>NaN</td>\n",
       "      <td>1</td>\n",
       "      <td>2</td>\n",
       "      <td>W./C. 6607</td>\n",
       "      <td>23.4500</td>\n",
       "      <td>NaN</td>\n",
       "      <td>S</td>\n",
       "    </tr>\n",
       "    <tr>\n",
       "      <th>889</th>\n",
       "      <td>890</td>\n",
       "      <td>1</td>\n",
       "      <td>1</td>\n",
       "      <td>Behr, Mr. Karl Howell</td>\n",
       "      <td>male</td>\n",
       "      <td>26.0</td>\n",
       "      <td>0</td>\n",
       "      <td>0</td>\n",
       "      <td>111369</td>\n",
       "      <td>30.0000</td>\n",
       "      <td>C148</td>\n",
       "      <td>C</td>\n",
       "    </tr>\n",
       "    <tr>\n",
       "      <th>890</th>\n",
       "      <td>891</td>\n",
       "      <td>0</td>\n",
       "      <td>3</td>\n",
       "      <td>Dooley, Mr. Patrick</td>\n",
       "      <td>male</td>\n",
       "      <td>32.0</td>\n",
       "      <td>0</td>\n",
       "      <td>0</td>\n",
       "      <td>370376</td>\n",
       "      <td>7.7500</td>\n",
       "      <td>NaN</td>\n",
       "      <td>Q</td>\n",
       "    </tr>\n",
       "  </tbody>\n",
       "</table>\n",
       "<p>891 rows × 12 columns</p>\n",
       "</div>"
      ],
      "text/plain": [
       "     PassengerId  Survived  Pclass  \\\n",
       "0              1         0       3   \n",
       "1              2         1       1   \n",
       "2              3         1       3   \n",
       "3              4         1       1   \n",
       "4              5         0       3   \n",
       "..           ...       ...     ...   \n",
       "886          887         0       2   \n",
       "887          888         1       1   \n",
       "888          889         0       3   \n",
       "889          890         1       1   \n",
       "890          891         0       3   \n",
       "\n",
       "                                                  Name     Sex   Age  SibSp  \\\n",
       "0                              Braund, Mr. Owen Harris    male  22.0      1   \n",
       "1    Cumings, Mrs. John Bradley (Florence Briggs Th...  female  38.0      1   \n",
       "2                               Heikkinen, Miss. Laina  female  26.0      0   \n",
       "3         Futrelle, Mrs. Jacques Heath (Lily May Peel)  female  35.0      1   \n",
       "4                             Allen, Mr. William Henry    male  35.0      0   \n",
       "..                                                 ...     ...   ...    ...   \n",
       "886                              Montvila, Rev. Juozas    male  27.0      0   \n",
       "887                       Graham, Miss. Margaret Edith  female  19.0      0   \n",
       "888           Johnston, Miss. Catherine Helen \"Carrie\"  female   NaN      1   \n",
       "889                              Behr, Mr. Karl Howell    male  26.0      0   \n",
       "890                                Dooley, Mr. Patrick    male  32.0      0   \n",
       "\n",
       "     Parch            Ticket     Fare Cabin Embarked  \n",
       "0        0         A/5 21171   7.2500   NaN        S  \n",
       "1        0          PC 17599  71.2833   C85        C  \n",
       "2        0  STON/O2. 3101282   7.9250   NaN        S  \n",
       "3        0            113803  53.1000  C123        S  \n",
       "4        0            373450   8.0500   NaN        S  \n",
       "..     ...               ...      ...   ...      ...  \n",
       "886      0            211536  13.0000   NaN        S  \n",
       "887      0            112053  30.0000   B42        S  \n",
       "888      2        W./C. 6607  23.4500   NaN        S  \n",
       "889      0            111369  30.0000  C148        C  \n",
       "890      0            370376   7.7500   NaN        Q  \n",
       "\n",
       "[891 rows x 12 columns]"
      ]
     },
     "execution_count": 252,
     "metadata": {},
     "output_type": "execute_result"
    }
   ],
   "source": [
    "#deep copy of training dataset\n",
    "clean_train = train.copy()\n",
    "clean_train"
   ]
  },
  {
   "cell_type": "code",
   "execution_count": 253,
   "id": "c9141cf4",
   "metadata": {},
   "outputs": [
    {
     "data": {
      "text/plain": [
       "<AxesSubplot:>"
      ]
     },
     "execution_count": 253,
     "metadata": {},
     "output_type": "execute_result"
    },
    {
     "data": {
      "image/png": "[encoded data removed]",
      "text/plain": [
       "<Figure size 1800x720 with 2 Axes>"
      ]
     },
     "metadata": {
      "needs_background": "light"
     },
     "output_type": "display_data"
    }
   ],
   "source": [
    "msno.matrix(clean_train)"
   ]
  },
  {
   "cell_type": "code",
   "execution_count": 254,
   "id": "60218535",
   "metadata": {},
   "outputs": [],
   "source": [
    "#dropped PassengerID and Name column since all names are unique categorical values\n",
    "clean_train = clean_train.drop(columns=['Name'])\n",
    "clean_train = clean_train.drop(columns=['PassengerId'])"
   ]
  },
  {
   "cell_type": "code",
   "execution_count": 255,
   "id": "7b0aabbf",
   "metadata": {},
   "outputs": [
    {
     "name": "stdout",
     "output_type": "stream",
     "text": [
      "Percentage of null values in 'Cabin' column: 77.10%\n"
     ]
    }
   ],
   "source": [
    "#clean_train['Cabin'].unique()\n",
    "null_percentage = clean_train['Cabin'].isnull().mean() * 100\n",
    "print(\"Percentage of null values in 'Cabin' column: {:.2f}%\".format(null_percentage))\n",
    "clean_train['Cabin'] = clean_train['Cabin'].fillna('NA') "
   ]
  },
  {
   "cell_type": "code",
   "execution_count": 256,
   "id": "207c43ea",
   "metadata": {},
   "outputs": [
    {
     "data": {
      "text/html": [
       "<div>\n",
       "<style scoped>\n",
       "    .dataframe tbody tr th:only-of-type {\n",
       "        vertical-align: middle;\n",
       "    }\n",
       "\n",
       "    .dataframe tbody tr th {\n",
       "        vertical-align: top;\n",
       "    }\n",
       "\n",
       "    .dataframe thead th {\n",
       "        text-align: right;\n",
       "    }\n",
       "</style>\n",
       "<table border=\"1\" class=\"dataframe\">\n",
       "  <thead>\n",
       "    <tr style=\"text-align: right;\">\n",
       "      <th></th>\n",
       "      <th>Survived</th>\n",
       "      <th>Pclass</th>\n",
       "      <th>Sex</th>\n",
       "      <th>Age</th>\n",
       "      <th>SibSp</th>\n",
       "      <th>Parch</th>\n",
       "      <th>Ticket</th>\n",
       "      <th>Fare</th>\n",
       "      <th>Cabin</th>\n",
       "      <th>Embarked</th>\n",
       "      <th>New Cabin</th>\n",
       "    </tr>\n",
       "  </thead>\n",
       "  <tbody>\n",
       "    <tr>\n",
       "      <th>0</th>\n",
       "      <td>0</td>\n",
       "      <td>3</td>\n",
       "      <td>male</td>\n",
       "      <td>22.0</td>\n",
       "      <td>1</td>\n",
       "      <td>0</td>\n",
       "      <td>A/5 21171</td>\n",
       "      <td>7.2500</td>\n",
       "      <td>NA</td>\n",
       "      <td>S</td>\n",
       "      <td>NA</td>\n",
       "    </tr>\n",
       "    <tr>\n",
       "      <th>1</th>\n",
       "      <td>1</td>\n",
       "      <td>1</td>\n",
       "      <td>female</td>\n",
       "      <td>38.0</td>\n",
       "      <td>1</td>\n",
       "      <td>0</td>\n",
       "      <td>PC 17599</td>\n",
       "      <td>71.2833</td>\n",
       "      <td>C85</td>\n",
       "      <td>C</td>\n",
       "      <td>C85</td>\n",
       "    </tr>\n",
       "    <tr>\n",
       "      <th>2</th>\n",
       "      <td>1</td>\n",
       "      <td>3</td>\n",
       "      <td>female</td>\n",
       "      <td>26.0</td>\n",
       "      <td>0</td>\n",
       "      <td>0</td>\n",
       "      <td>STON/O2. 3101282</td>\n",
       "      <td>7.9250</td>\n",
       "      <td>NA</td>\n",
       "      <td>S</td>\n",
       "      <td>NA</td>\n",
       "    </tr>\n",
       "    <tr>\n",
       "      <th>3</th>\n",
       "      <td>1</td>\n",
       "      <td>1</td>\n",
       "      <td>female</td>\n",
       "      <td>35.0</td>\n",
       "      <td>1</td>\n",
       "      <td>0</td>\n",
       "      <td>113803</td>\n",
       "      <td>53.1000</td>\n",
       "      <td>C123</td>\n",
       "      <td>S</td>\n",
       "      <td>C123</td>\n",
       "    </tr>\n",
       "    <tr>\n",
       "      <th>4</th>\n",
       "      <td>0</td>\n",
       "      <td>3</td>\n",
       "      <td>male</td>\n",
       "      <td>35.0</td>\n",
       "      <td>0</td>\n",
       "      <td>0</td>\n",
       "      <td>373450</td>\n",
       "      <td>8.0500</td>\n",
       "      <td>NA</td>\n",
       "      <td>S</td>\n",
       "      <td>NA</td>\n",
       "    </tr>\n",
       "  </tbody>\n",
       "</table>\n",
       "</div>"
      ],
      "text/plain": [
       "   Survived  Pclass     Sex   Age  SibSp  Parch            Ticket     Fare  \\\n",
       "0         0       3    male  22.0      1      0         A/5 21171   7.2500   \n",
       "1         1       1  female  38.0      1      0          PC 17599  71.2833   \n",
       "2         1       3  female  26.0      0      0  STON/O2. 3101282   7.9250   \n",
       "3         1       1  female  35.0      1      0            113803  53.1000   \n",
       "4         0       3    male  35.0      0      0            373450   8.0500   \n",
       "\n",
       "  Cabin Embarked New Cabin  \n",
       "0    NA        S        NA  \n",
       "1   C85        C       C85  \n",
       "2    NA        S        NA  \n",
       "3  C123        S      C123  \n",
       "4    NA        S        NA  "
      ]
     },
     "execution_count": 256,
     "metadata": {},
     "output_type": "execute_result"
    }
   ],
   "source": [
    "#fixing invalid Cabin data\n",
    "\n",
    "val = []\n",
    "\n",
    "for index, row in clean_train['Cabin'].iteritems():\n",
    "    if len(row) > 3 and row[3]==' ':\n",
    "        count = 0;\n",
    "        cabins = row.split(' ')\n",
    "        for i, r in clean_train[clean_train['Cabin'] == row].iteritems():\n",
    "            if(count<len(cabins)):\n",
    "                val.append(cabins[count])\n",
    "                count+=1\n",
    "            else:\n",
    "                val.append(cabins[count-1])\n",
    "            \n",
    "    elif row[0]=='F' and row[1]==' ':\n",
    "        tmp = 'F' + str(random.randint(1, 148)) + row[1:]\n",
    "        count = 0;\n",
    "        cabins = tmp.split(' ')\n",
    "        for i, r in clean_train[clean_train['Cabin'] == row].iteritems():\n",
    "            if(count<len(cabins)):\n",
    "                val.append(cabins[count])\n",
    "                count+=1\n",
    "            else:\n",
    "                val.append(cabins[count-1])\n",
    "    elif row[0]=='D'and len(row)==1:\n",
    "        val.append(row+str(random.randint(1, 148)))\n",
    "    else:\n",
    "        val.append(row)\n",
    "\n",
    "clean_train['New Cabin'] = pd.DataFrame(val)\n",
    "clean_train.head()"
   ]
  },
  {
   "cell_type": "markdown",
   "id": "21270f38",
   "metadata": {},
   "source": [
    "**Outliers**"
   ]
  },
  {
   "cell_type": "code",
   "execution_count": 257,
   "id": "7d4e5070",
   "metadata": {},
   "outputs": [
    {
     "data": {
      "image/png": "[encoded data removed]",
      "text/plain": [
       "<Figure size 288x792 with 3 Axes>"
      ]
     },
     "metadata": {
      "needs_background": "light"
     },
     "output_type": "display_data"
    }
   ],
   "source": [
    "#columns that are skewed based on histogram; creates boxplot for skewed columns\n",
    "skew = ['Fare','SibSp','Parch']\n",
    "\n",
    "fig, axes = plt.subplots(nrows=len(skew), figsize=(4,11)) #fig contains subplot, \n",
    "                                                                     #an array of subplots\n",
    "\n",
    "for i, column in enumerate(skew):\n",
    "    axes[i].boxplot(clean_train[column])\n",
    "    axes[i].set_title('Box Plot of {}'.format(column))\n",
    "    axes[i].set_xlabel(column)\n",
    "    axes[i].set_ylabel(\"Values\")\n",
    "\n",
    "\n",
    "plt.subplots_adjust(hspace=0.5)\n",
    "#removing the outliers doesn't seem reasonable as there are only a few and the values are reasonable"
   ]
  },
  {
   "cell_type": "markdown",
   "id": "c1cb5f24",
   "metadata": {},
   "source": [
    "**Data Imputation**"
   ]
  },
  {
   "cell_type": "code",
   "execution_count": 258,
   "id": "bd72a220",
   "metadata": {},
   "outputs": [],
   "source": [
    "#Age column\n",
    "clean_train['Age'].fillna(clean_train['Age'].mode().iloc[0], inplace=True)"
   ]
  },
  {
   "cell_type": "code",
   "execution_count": 259,
   "id": "a47583b3",
   "metadata": {},
   "outputs": [
    {
     "name": "stdout",
     "output_type": "stream",
     "text": [
      "Amount of rows that have price as 0: 15 rows\n"
     ]
    },
    {
     "data": {
      "image/png": "[encoded data removed]",
      "text/plain": [
       "<Figure size 432x288 with 1 Axes>"
      ]
     },
     "metadata": {
      "needs_background": "light"
     },
     "output_type": "display_data"
    }
   ],
   "source": [
    "#Fare column\n",
    "\n",
    "print(f\"Amount of rows that have price as 0: {len(clean_train['Fare'])-len(clean_train[clean_train['Fare']>0])} rows\") \n",
    "\n",
    "#Since distribution is heavily skewed to the right, we will find the median of price for each Ticket Class\n",
    "clean_train['Fare'].plot(kind='hist')\n",
    "plt.show()\n",
    "\n",
    "def impute_median(row):\n",
    "    return clean_train[clean_train['Pclass']==row['Pclass']]['Fare'].median()\n",
    "\n",
    "\n",
    "clean_train['Fare'] = clean_train['Fare'].replace(0, np.nan)\n",
    "missing_fares = clean_train['Fare'].isnull()\n",
    "clean_train.loc[missing_fares, 'Fare'] = clean_train[missing_fares].apply(impute_median, axis=1)"
   ]
  },
  {
   "cell_type": "markdown",
   "id": "553454bd",
   "metadata": {},
   "source": [
    "**Transformation for variables with skewed data**"
   ]
  },
  {
   "cell_type": "code",
   "execution_count": 260,
   "id": "08a5be1f",
   "metadata": {},
   "outputs": [
    {
     "data": {
      "text/plain": [
       "[Text(0.5, 0, 'Fare (Log Transformed)'),\n",
       " Text(0, 0.5, 'Density'),\n",
       " Text(0.5, 1.0, 'Distribution of Log Transformed Fare')]"
      ]
     },
     "execution_count": 260,
     "metadata": {},
     "output_type": "execute_result"
    },
    {
     "data": {
      "image/png": "[encoded data removed]",
      "text/plain": [
       "<Figure size 576x432 with 1 Axes>"
      ]
     },
     "metadata": {
      "needs_background": "light"
     },
     "output_type": "display_data"
    }
   ],
   "source": [
    "clean_train['Fare_log'] = np.log(clean_train['Fare'] + 1)\n",
    "fig, ax = plt.subplots(figsize=(8, 6))\n",
    "sns.kdeplot(data=clean_train['Fare_log'], ax=ax)\n",
    "ax.set(xlabel='Fare (Log Transformed)', ylabel='Density', title='Distribution of Log Transformed Fare')"
   ]
  },
  {
   "cell_type": "code",
   "execution_count": 261,
   "id": "22f95f8c",
   "metadata": {},
   "outputs": [],
   "source": [
    "#Embarked column\n",
    "clean_train['Embarked'].fillna(clean_train['Embarked'].mode().iloc[0], inplace=True)"
   ]
  },
  {
   "cell_type": "code",
   "execution_count": 262,
   "id": "6fb0be43",
   "metadata": {},
   "outputs": [
    {
     "data": {
      "text/plain": [
       "Survived     0\n",
       "Pclass       0\n",
       "Sex          0\n",
       "Age          0\n",
       "SibSp        0\n",
       "Parch        0\n",
       "Ticket       0\n",
       "Fare         0\n",
       "Cabin        0\n",
       "Embarked     0\n",
       "New Cabin    0\n",
       "Fare_log     0\n",
       "dtype: int64"
      ]
     },
     "execution_count": 262,
     "metadata": {},
     "output_type": "execute_result"
    }
   ],
   "source": [
    "clean_train.isnull().sum(axis=0)"
   ]
  },
  {
   "cell_type": "code",
   "execution_count": 263,
   "id": "3f725f1f",
   "metadata": {
    "scrolled": true
   },
   "outputs": [
    {
     "data": {
      "text/plain": [
       "<AxesSubplot:>"
      ]
     },
     "execution_count": 263,
     "metadata": {},
     "output_type": "execute_result"
    },
    {
     "data": {
      "image/png": "[encoded data removed]",
      "text/plain": [
       "<Figure size 1440x1080 with 2 Axes>"
      ]
     },
     "metadata": {
      "needs_background": "light"
     },
     "output_type": "display_data"
    }
   ],
   "source": [
    "# correlations between the columns\n",
    "plt.figure(figsize=(20, 15))\n",
    "sns.heatmap(clean_train.corr(), annot=True, cmap=sns.color_palette('RdBu',50), fmt='.2f')"
   ]
  },
  {
   "cell_type": "code",
   "execution_count": 264,
   "id": "5267448c",
   "metadata": {},
   "outputs": [
    {
     "name": "stdout",
     "output_type": "stream",
     "text": [
      "Correlation of each variable to Survived:\n"
     ]
    },
    {
     "data": {
      "text/plain": [
       "Survived    1.000000\n",
       "Pclass      0.338481\n",
       "Fare_log    0.317489\n",
       "Fare        0.250383\n",
       "Parch       0.081629\n",
       "Age         0.052872\n",
       "SibSp       0.035322\n",
       "Name: Survived, dtype: float64"
      ]
     },
     "execution_count": 264,
     "metadata": {},
     "output_type": "execute_result"
    }
   ],
   "source": [
    "corr = clean_train.corr().abs()\n",
    "sort = corr.sort_values(by=['Survived'],ascending=False)\n",
    "print(\"Correlation of each variable to Survived:\")\n",
    "sort['Survived']"
   ]
  },
  {
   "cell_type": "markdown",
   "id": "267ec377",
   "metadata": {},
   "source": [
    "# **Feature Engineering**"
   ]
  },
  {
   "cell_type": "code",
   "execution_count": 265,
   "id": "02ce377e",
   "metadata": {},
   "outputs": [],
   "source": [
    "#categorical column = Pclass\n",
    "#Num columns to be aggregated = Age(median,std), SibSp(count), Parch(count), Fare(median,std,actual-median)\n",
    "\n",
    "grouped_train = clean_train.groupby('Pclass')\n",
    "\n",
    "#Since age and fare distrubutions are skewed, I chose median\n",
    "clean_train[['age_Pclass_median','fare_Pclass_median']] = grouped_train[['Age', 'Fare']].transform('median')\n",
    "\n",
    "clean_train[['age_Pclass_std','fare_Pclass_std']] = grouped_train[['Age', 'Fare']].transform('std')\n",
    "\n",
    "clean_train[['SibSp_count','Parch_count']] = grouped_train[['SibSp', 'Parch']].transform('count') \n",
    "\n",
    "#fare-median\n",
    "clean_train['fare_median_diff'] = clean_train['Fare']-clean_train['fare_Pclass_median']"
   ]
  },
  {
   "cell_type": "code",
   "execution_count": 266,
   "id": "4b6f0a29",
   "metadata": {},
   "outputs": [
    {
     "data": {
      "image/png": "[encoded data removed]",
      "text/plain": [
       "<Figure size 432x288 with 1 Axes>"
      ]
     },
     "metadata": {
      "needs_background": "light"
     },
     "output_type": "display_data"
    }
   ],
   "source": [
    "#Side of ship(left, left center, right center, right); no window = center\n",
    "#left = even # room; right = odd # room\n",
    "non_window = [127,125, 123, 121, 119, 117, 115, 109, 107, 105, 103, 101, 99, 97, 95, 53, 51, 49, 47, 45, 43, 3, 1, 5, 148, 146, 144, 142, 140, 138, 136, 134, 132, 130, 128, 126, 124, 122, 116, 114, 112, 110, 108, 104, 60, 58, 56, 54, 52, 50, 48, 41, 6, 4, 2]\n",
    "total = np.arange(1,149)\n",
    "window = [i for i in total if i not in non_window]\n",
    "\n",
    "def assign_side(val):\n",
    "    if val==\"NA\" or val==\"T\":\n",
    "        return \"NaN\"\n",
    "    elif int(val[1:]) in window:\n",
    "        if int(val[1:])%2==0:\n",
    "            return \"Left\"\n",
    "        else:\n",
    "            return \"Right\"\n",
    "    else:\n",
    "        if int(val[1:])%2==0:\n",
    "            return \"Left Center\"\n",
    "        else:\n",
    "            return \"Right Center\"\n",
    "        \n",
    "\n",
    "clean_train['Side of ship'] = clean_train['New Cabin'].apply(assign_side)\n",
    "\n",
    "def plot_percent_survivors(df, cat_col, binary_col):\n",
    "    # Create a grouped dataframe with counts for each category and binary variable\n",
    "    grouped_df = df.groupby([cat_col, binary_col])[binary_col].count().unstack()\n",
    "    \n",
    "    # Calculate the percentage of survivors for each category\n",
    "    df_perc = grouped_df.apply(lambda x: x/x.sum()*100, axis=1)\n",
    "\n",
    "    # Calculate the percentage difference between categories\n",
    "    df_diff = df_perc.diff(axis=1).iloc[:,1]\n",
    "\n",
    "    # Create a stacked bar chart\n",
    "    df_perc.plot(kind='bar', stacked=True)\n",
    "\n",
    "    # Add the percentage difference as text on the chart\n",
    "    for i in range(len(df_diff)):\n",
    "        plt.text(i, df_perc.iloc[i,0]/2, f'{df_diff[i]:.2f}%', ha='center', va='center')\n",
    "\n",
    "    # Set the chart title and axis labels\n",
    "    plt.title(f'Percentage of Survivors by {cat_col}')\n",
    "    plt.xlabel(cat_col)\n",
    "    plt.ylabel('Percentage')\n",
    "    plt.show()\n",
    "\n",
    "plot_percent_survivors(clean_train, 'Side of ship', 'Survived')"
   ]
  },
  {
   "cell_type": "code",
   "execution_count": 267,
   "id": "ad30ee48",
   "metadata": {},
   "outputs": [
    {
     "data": {
      "image/png": "[encoded data removed]",
      "text/plain": [
       "<Figure size 432x288 with 1 Axes>"
      ]
     },
     "metadata": {
      "needs_background": "light"
     },
     "output_type": "display_data"
    }
   ],
   "source": [
    "# ship location (front, mid, back, or NaN)\n",
    "\n",
    "back = [102,100,98,96,94,92,90,88,86,84,82,80,78,76,148,146,144,142,140,138,136,134,132,130,128,126,117,119,121,123,125,127,93,91,89,87,85,83,81,79,77,75,73,71,69]\n",
    "mid = [74,72,70,68,66,64,62,44,46,40,42,38,36,34,124,122,116,114,112,110,108,106,104,120,118,113,111,115,109,107,105,103,101,99,97,95,67,65,63,61,59,57,55,39,35,37]\n",
    "front = [32,30,28,26,24,22,20,18,16,14,12,10,8,6,60,58,56,54,52,50,48,4,41,2,43,1,3,5,7,53,51,49,47,45,35,29,31,27,23,25,21,17,19,15,9,11]\n",
    "\n",
    "def assign_location(val):\n",
    "    if val==\"NA\" or val==\"T\":\n",
    "        return \"NaN\"\n",
    "    elif int(val[1:]) in back:\n",
    "        return \"Back\"\n",
    "    elif int(val[1:]) in mid:\n",
    "        return \"Mid\"\n",
    "    else:\n",
    "        return \"Front\"\n",
    "\n",
    "clean_train['Ship Location'] = clean_train['New Cabin'].apply(assign_location)\n",
    "plot_percent_survivors(clean_train, 'Ship Location', 'Survived')"
   ]
  },
  {
   "cell_type": "code",
   "execution_count": 268,
   "id": "c7bcc1bc",
   "metadata": {},
   "outputs": [
    {
     "data": {
      "image/png": "[encoded data removed]",
      "text/plain": [
       "<Figure size 432x288 with 1 Axes>"
      ]
     },
     "metadata": {
      "needs_background": "light"
     },
     "output_type": "display_data"
    }
   ],
   "source": [
    "#Distance to lifeboat(top floor)\n",
    "\n",
    "def distance(val):\n",
    "    if val == 'NA' or val == 'T':\n",
    "        return -1\n",
    "    elif val[0] == 'A':\n",
    "        return 1\n",
    "    elif val[0] == 'B':\n",
    "        return 2\n",
    "    elif val[0] == 'C':\n",
    "        return 3\n",
    "    elif val[0] == 'D':\n",
    "        return 4\n",
    "    elif val[0] == 'E':\n",
    "        return 5\n",
    "    elif val[0] == 'F':\n",
    "        return 6\n",
    "    elif val[0] == 'G':\n",
    "        return 7\n",
    "\n",
    "def plot_percent_survivors_quant(df, cat_col, binary_col):\n",
    "    # Create a grouped dataframe with counts for each category and binary variable\n",
    "    grouped_df = df.groupby([cat_col, binary_col])[binary_col].count().unstack()\n",
    "    \n",
    "    # Calculate the percentage of survivors for each category\n",
    "    df_perc = grouped_df.apply(lambda x: x/x.sum()*100, axis=1)\n",
    "\n",
    "    # Calculate the percentage difference between categories\n",
    "    df_diff = df_perc.diff(axis=1).iloc[:,1]\n",
    "\n",
    "    # Create a stacked bar chart\n",
    "    df_perc.plot(kind='bar', stacked=True)\n",
    "\n",
    "    # Set the chart title and axis labels\n",
    "    plt.title(f'Percentage of Survivors by {cat_col}')\n",
    "    plt.xlabel(cat_col)\n",
    "    plt.ylabel('Percentage')\n",
    "    plt.show()\n",
    "\n",
    "clean_train['Distance to Lifeboat'] = clean_train['New Cabin'].apply(distance)\n",
    "plot_percent_survivors_quant(clean_train, 'Distance to Lifeboat', 'Survived')"
   ]
  },
  {
   "cell_type": "code",
   "execution_count": 269,
   "id": "1db9c14b",
   "metadata": {},
   "outputs": [
    {
     "data": {
      "image/png": "[encoded data removed]",
      "text/plain": [
       "<Figure size 432x288 with 1 Axes>"
      ]
     },
     "metadata": {
      "needs_background": "light"
     },
     "output_type": "display_data"
    }
   ],
   "source": [
    "#number of ppl in a group\n",
    "clean_train['Ticket_Count'] = clean_train['Ticket'].map(clean_train['Ticket'].value_counts())\n",
    "\n",
    "plot_percent_survivors_quant(clean_train, 'Ticket_Count', 'Survived')"
   ]
  },
  {
   "cell_type": "code",
   "execution_count": 270,
   "id": "98fafc86",
   "metadata": {},
   "outputs": [
    {
     "data": {
      "text/html": [
       "<div>\n",
       "<style scoped>\n",
       "    .dataframe tbody tr th:only-of-type {\n",
       "        vertical-align: middle;\n",
       "    }\n",
       "\n",
       "    .dataframe tbody tr th {\n",
       "        vertical-align: top;\n",
       "    }\n",
       "\n",
       "    .dataframe thead th {\n",
       "        text-align: right;\n",
       "    }\n",
       "</style>\n",
       "<table border=\"1\" class=\"dataframe\">\n",
       "  <thead>\n",
       "    <tr style=\"text-align: right;\">\n",
       "      <th></th>\n",
       "      <th>Survived</th>\n",
       "      <th>Pclass</th>\n",
       "      <th>Sex</th>\n",
       "      <th>Age</th>\n",
       "      <th>SibSp</th>\n",
       "      <th>Parch</th>\n",
       "      <th>Ticket</th>\n",
       "      <th>Fare</th>\n",
       "      <th>Cabin</th>\n",
       "      <th>Embarked</th>\n",
       "      <th>New Cabin</th>\n",
       "      <th>Fare_log</th>\n",
       "      <th>age_Pclass_median</th>\n",
       "      <th>fare_Pclass_median</th>\n",
       "      <th>age_Pclass_std</th>\n",
       "      <th>fare_Pclass_std</th>\n",
       "      <th>SibSp_count</th>\n",
       "      <th>Parch_count</th>\n",
       "      <th>fare_median_diff</th>\n",
       "      <th>Side of ship</th>\n",
       "      <th>Ship Location</th>\n",
       "      <th>Distance to Lifeboat</th>\n",
       "      <th>Ticket_Count</th>\n",
       "    </tr>\n",
       "  </thead>\n",
       "  <tbody>\n",
       "    <tr>\n",
       "      <th>0</th>\n",
       "      <td>0</td>\n",
       "      <td>3</td>\n",
       "      <td>male</td>\n",
       "      <td>22.0</td>\n",
       "      <td>1</td>\n",
       "      <td>0</td>\n",
       "      <td>A/5 21171</td>\n",
       "      <td>7.2500</td>\n",
       "      <td>NA</td>\n",
       "      <td>S</td>\n",
       "      <td>NA</td>\n",
       "      <td>2.110213</td>\n",
       "      <td>24.0</td>\n",
       "      <td>8.0500</td>\n",
       "      <td>10.632997</td>\n",
       "      <td>11.723991</td>\n",
       "      <td>491</td>\n",
       "      <td>491</td>\n",
       "      <td>-0.8000</td>\n",
       "      <td>NaN</td>\n",
       "      <td>NaN</td>\n",
       "      <td>-1</td>\n",
       "      <td>1</td>\n",
       "    </tr>\n",
       "    <tr>\n",
       "      <th>1</th>\n",
       "      <td>1</td>\n",
       "      <td>1</td>\n",
       "      <td>female</td>\n",
       "      <td>38.0</td>\n",
       "      <td>1</td>\n",
       "      <td>0</td>\n",
       "      <td>PC 17599</td>\n",
       "      <td>71.2833</td>\n",
       "      <td>C85</td>\n",
       "      <td>C</td>\n",
       "      <td>C85</td>\n",
       "      <td>4.280593</td>\n",
       "      <td>35.0</td>\n",
       "      <td>61.9792</td>\n",
       "      <td>14.590796</td>\n",
       "      <td>77.383157</td>\n",
       "      <td>216</td>\n",
       "      <td>216</td>\n",
       "      <td>9.3041</td>\n",
       "      <td>Right</td>\n",
       "      <td>Back</td>\n",
       "      <td>3</td>\n",
       "      <td>1</td>\n",
       "    </tr>\n",
       "    <tr>\n",
       "      <th>2</th>\n",
       "      <td>1</td>\n",
       "      <td>3</td>\n",
       "      <td>female</td>\n",
       "      <td>26.0</td>\n",
       "      <td>0</td>\n",
       "      <td>0</td>\n",
       "      <td>STON/O2. 3101282</td>\n",
       "      <td>7.9250</td>\n",
       "      <td>NA</td>\n",
       "      <td>S</td>\n",
       "      <td>NA</td>\n",
       "      <td>2.188856</td>\n",
       "      <td>24.0</td>\n",
       "      <td>8.0500</td>\n",
       "      <td>10.632997</td>\n",
       "      <td>11.723991</td>\n",
       "      <td>491</td>\n",
       "      <td>491</td>\n",
       "      <td>-0.1250</td>\n",
       "      <td>NaN</td>\n",
       "      <td>NaN</td>\n",
       "      <td>-1</td>\n",
       "      <td>1</td>\n",
       "    </tr>\n",
       "    <tr>\n",
       "      <th>3</th>\n",
       "      <td>1</td>\n",
       "      <td>1</td>\n",
       "      <td>female</td>\n",
       "      <td>35.0</td>\n",
       "      <td>1</td>\n",
       "      <td>0</td>\n",
       "      <td>113803</td>\n",
       "      <td>53.1000</td>\n",
       "      <td>C123</td>\n",
       "      <td>S</td>\n",
       "      <td>C123</td>\n",
       "      <td>3.990834</td>\n",
       "      <td>35.0</td>\n",
       "      <td>61.9792</td>\n",
       "      <td>14.590796</td>\n",
       "      <td>77.383157</td>\n",
       "      <td>216</td>\n",
       "      <td>216</td>\n",
       "      <td>-8.8792</td>\n",
       "      <td>Right Center</td>\n",
       "      <td>Back</td>\n",
       "      <td>3</td>\n",
       "      <td>2</td>\n",
       "    </tr>\n",
       "    <tr>\n",
       "      <th>4</th>\n",
       "      <td>0</td>\n",
       "      <td>3</td>\n",
       "      <td>male</td>\n",
       "      <td>35.0</td>\n",
       "      <td>0</td>\n",
       "      <td>0</td>\n",
       "      <td>373450</td>\n",
       "      <td>8.0500</td>\n",
       "      <td>NA</td>\n",
       "      <td>S</td>\n",
       "      <td>NA</td>\n",
       "      <td>2.202765</td>\n",
       "      <td>24.0</td>\n",
       "      <td>8.0500</td>\n",
       "      <td>10.632997</td>\n",
       "      <td>11.723991</td>\n",
       "      <td>491</td>\n",
       "      <td>491</td>\n",
       "      <td>0.0000</td>\n",
       "      <td>NaN</td>\n",
       "      <td>NaN</td>\n",
       "      <td>-1</td>\n",
       "      <td>1</td>\n",
       "    </tr>\n",
       "  </tbody>\n",
       "</table>\n",
       "</div>"
      ],
      "text/plain": [
       "   Survived  Pclass     Sex   Age  SibSp  Parch            Ticket     Fare  \\\n",
       "0         0       3    male  22.0      1      0         A/5 21171   7.2500   \n",
       "1         1       1  female  38.0      1      0          PC 17599  71.2833   \n",
       "2         1       3  female  26.0      0      0  STON/O2. 3101282   7.9250   \n",
       "3         1       1  female  35.0      1      0            113803  53.1000   \n",
       "4         0       3    male  35.0      0      0            373450   8.0500   \n",
       "\n",
       "  Cabin Embarked New Cabin  Fare_log  age_Pclass_median  fare_Pclass_median  \\\n",
       "0    NA        S        NA  2.110213               24.0              8.0500   \n",
       "1   C85        C       C85  4.280593               35.0             61.9792   \n",
       "2    NA        S        NA  2.188856               24.0              8.0500   \n",
       "3  C123        S      C123  3.990834               35.0             61.9792   \n",
       "4    NA        S        NA  2.202765               24.0              8.0500   \n",
       "\n",
       "   age_Pclass_std  fare_Pclass_std  SibSp_count  Parch_count  \\\n",
       "0       10.632997        11.723991          491          491   \n",
       "1       14.590796        77.383157          216          216   \n",
       "2       10.632997        11.723991          491          491   \n",
       "3       14.590796        77.383157          216          216   \n",
       "4       10.632997        11.723991          491          491   \n",
       "\n",
       "   fare_median_diff  Side of ship Ship Location  Distance to Lifeboat  \\\n",
       "0           -0.8000           NaN           NaN                    -1   \n",
       "1            9.3041         Right          Back                     3   \n",
       "2           -0.1250           NaN           NaN                    -1   \n",
       "3           -8.8792  Right Center          Back                     3   \n",
       "4            0.0000           NaN           NaN                    -1   \n",
       "\n",
       "   Ticket_Count  \n",
       "0             1  \n",
       "1             1  \n",
       "2             1  \n",
       "3             2  \n",
       "4             1  "
      ]
     },
     "execution_count": 270,
     "metadata": {},
     "output_type": "execute_result"
    }
   ],
   "source": [
    "\n",
    "pd.set_option('display.max_columns', None)\n",
    "clean_train.head()"
   ]
  },
  {
   "cell_type": "markdown",
   "id": "e2593b91",
   "metadata": {},
   "source": [
    "**One-hot Encoding**"
   ]
  },
  {
   "cell_type": "code",
   "execution_count": 319,
   "id": "89af8c9e",
   "metadata": {},
   "outputs": [
    {
     "data": {
      "text/html": [
       "<div>\n",
       "<style scoped>\n",
       "    .dataframe tbody tr th:only-of-type {\n",
       "        vertical-align: middle;\n",
       "    }\n",
       "\n",
       "    .dataframe tbody tr th {\n",
       "        vertical-align: top;\n",
       "    }\n",
       "\n",
       "    .dataframe thead th {\n",
       "        text-align: right;\n",
       "    }\n",
       "</style>\n",
       "<table border=\"1\" class=\"dataframe\">\n",
       "  <thead>\n",
       "    <tr style=\"text-align: right;\">\n",
       "      <th></th>\n",
       "      <th>Survived</th>\n",
       "      <th>Pclass</th>\n",
       "      <th>Age</th>\n",
       "      <th>SibSp</th>\n",
       "      <th>Parch</th>\n",
       "      <th>Fare</th>\n",
       "      <th>Sex_male</th>\n",
       "      <th>Embarked_Q</th>\n",
       "      <th>Embarked_S</th>\n",
       "    </tr>\n",
       "  </thead>\n",
       "  <tbody>\n",
       "    <tr>\n",
       "      <th>0</th>\n",
       "      <td>0</td>\n",
       "      <td>3</td>\n",
       "      <td>22.0</td>\n",
       "      <td>1</td>\n",
       "      <td>0</td>\n",
       "      <td>7.2500</td>\n",
       "      <td>1</td>\n",
       "      <td>0</td>\n",
       "      <td>1</td>\n",
       "    </tr>\n",
       "    <tr>\n",
       "      <th>1</th>\n",
       "      <td>1</td>\n",
       "      <td>1</td>\n",
       "      <td>38.0</td>\n",
       "      <td>1</td>\n",
       "      <td>0</td>\n",
       "      <td>71.2833</td>\n",
       "      <td>0</td>\n",
       "      <td>0</td>\n",
       "      <td>0</td>\n",
       "    </tr>\n",
       "    <tr>\n",
       "      <th>2</th>\n",
       "      <td>1</td>\n",
       "      <td>3</td>\n",
       "      <td>26.0</td>\n",
       "      <td>0</td>\n",
       "      <td>0</td>\n",
       "      <td>7.9250</td>\n",
       "      <td>0</td>\n",
       "      <td>0</td>\n",
       "      <td>1</td>\n",
       "    </tr>\n",
       "    <tr>\n",
       "      <th>3</th>\n",
       "      <td>1</td>\n",
       "      <td>1</td>\n",
       "      <td>35.0</td>\n",
       "      <td>1</td>\n",
       "      <td>0</td>\n",
       "      <td>53.1000</td>\n",
       "      <td>0</td>\n",
       "      <td>0</td>\n",
       "      <td>1</td>\n",
       "    </tr>\n",
       "    <tr>\n",
       "      <th>4</th>\n",
       "      <td>0</td>\n",
       "      <td>3</td>\n",
       "      <td>35.0</td>\n",
       "      <td>0</td>\n",
       "      <td>0</td>\n",
       "      <td>8.0500</td>\n",
       "      <td>1</td>\n",
       "      <td>0</td>\n",
       "      <td>1</td>\n",
       "    </tr>\n",
       "  </tbody>\n",
       "</table>\n",
       "</div>"
      ],
      "text/plain": [
       "   Survived  Pclass   Age  SibSp  Parch     Fare  Sex_male  Embarked_Q  \\\n",
       "0         0       3  22.0      1      0   7.2500         1           0   \n",
       "1         1       1  38.0      1      0  71.2833         0           0   \n",
       "2         1       3  26.0      0      0   7.9250         0           0   \n",
       "3         1       1  35.0      1      0  53.1000         0           0   \n",
       "4         0       3  35.0      0      0   8.0500         1           0   \n",
       "\n",
       "   Embarked_S  \n",
       "0           1  \n",
       "1           0  \n",
       "2           1  \n",
       "3           1  \n",
       "4           1  "
      ]
     },
     "execution_count": 319,
     "metadata": {},
     "output_type": "execute_result"
    }
   ],
   "source": [
    "#Since only 2/7 columns are categorical, I'm using one-hot encoding since there won't be that much sparsity \n",
    "clean_train = pd.get_dummies(data=clean_train, columns=['Sex', 'Embarked'],drop_first=True)\n",
    "clean_train.head()"
   ]
  },
  {
   "cell_type": "markdown",
   "id": "1cee2da2",
   "metadata": {},
   "source": [
    "**Data Type Conversion**"
   ]
  },
  {
   "cell_type": "code",
   "execution_count": 321,
   "id": "b5351b0f",
   "metadata": {},
   "outputs": [
    {
     "data": {
      "text/plain": [
       "Survived        int64\n",
       "Pclass          int64\n",
       "Age           float64\n",
       "SibSp           int64\n",
       "Parch           int64\n",
       "Fare          float64\n",
       "Sex_male        uint8\n",
       "Embarked_Q      uint8\n",
       "Embarked_S      uint8\n",
       "dtype: object"
      ]
     },
     "execution_count": 321,
     "metadata": {},
     "output_type": "execute_result"
    }
   ],
   "source": [
    "#converting float to int for all columns that have whole number as float type\n",
    "for col in clean_train.columns:\n",
    "    if clean_train[col].dtype == 'float64' and all(clean_train[col].apply(lambda x: x.is_integer())):\n",
    "        clean_train[col] = clean_train[col].astype(int)\n",
    "clean_train.dtypes"
   ]
  },
  {
   "cell_type": "markdown",
   "id": "edeb61e4",
   "metadata": {},
   "source": [
    "# Cleaning test data"
   ]
  },
  {
   "cell_type": "code",
   "execution_count": 323,
   "id": "e91660e0",
   "metadata": {},
   "outputs": [],
   "source": [
    "#clean_test = test.copy()\n",
    "def clean(clean_test):\n",
    "    clean_test = clean_test[clean_test['Fare']>0]\n",
    "    clean_test = clean_test.drop(columns=['Ticket'])\n",
    "    clean_test = clean_test.drop(columns=['Name'])\n",
    "    clean_test = clean_test.drop(columns=['Cabin'])\n",
    "    clean_test['Age'].fillna(clean_test['Age'].mode().iloc[0], inplace=True)\n",
    "    clean_test['Embarked'].fillna(clean_test['Embarked'].mode().iloc[0], inplace=True)\n",
    "    \n",
    "    print(clean_test.iloc[152])\n",
    "    print()\n",
    "    ohe = OneHotEncoder(handle_unknown='ignore') \n",
    "    test_object = clean_test.select_dtypes('object')\n",
    "    ohe.fit(test_object)\n",
    "    codes = ohe.transform(test_object).toarray()\n",
    "    feature_names = ohe.get_feature_names_out(['Sex', 'Embarked'])\n",
    "    clean_test = pd.concat([clean_test.select_dtypes(exclude='object'), \n",
    "                   pd.DataFrame(codes,columns=feature_names)], axis=1)\n",
    "    \n",
    "    \n",
    "    print(clean_test.iloc[152])\n",
    "    print()\n",
    "    #clean_test = clean_test.dropna() can't drop NA because submission requires 418 rows\n",
    "    nan_mask = clean_test.isna().any(axis=1)\n",
    "\n",
    "    # use the boolean mask to index the DataFrame and show only the rows with NaN values\n",
    "    rows_with_nan = clean_test.loc[nan_mask]\n",
    "    print(rows_with_nan)\n",
    "    \n",
    "    \n",
    "    \n",
    "    for col in clean_test.columns:\n",
    "        if clean_test[col].dtype == 'float64' and all(clean_test[col].apply(lambda x: x.is_integer())):\n",
    "            clean_test[col] = clean_test[col].astype(int)\n",
    "            \n",
    "    grouped_test = clean_test.groupby('Pclass')\n",
    "\n",
    "    clean_test[['age_Pclass_median','fare_Pclass_median']] = grouped_test[['Age', 'Fare']].transform('median')\n",
    "    clean_test[['age_Pclass_std','fare_Pclass_std']] = grouped_test[['Age', 'Fare']].transform('std')\n",
    "    clean_test[['SibSp_count','Parch_count']] = grouped_test[['SibSp', 'Parch']].transform('count') \n",
    "    clean_test['fare_median_diff'] = clean_test['Fare']-clean_test['fare_Pclass_median']\n",
    "    return clean_test\n",
    "\n",
    "#clean_test = clean(clean_test)\n",
    "#clean_test.shape"
   ]
  },
  {
   "cell_type": "markdown",
   "id": "ffcfa575",
   "metadata": {},
   "source": [
    "**Duplicates after cleaning**"
   ]
  },
  {
   "cell_type": "code",
   "execution_count": 324,
   "id": "40f4bce0",
   "metadata": {},
   "outputs": [
    {
     "name": "stdout",
     "output_type": "stream",
     "text": [
      "Number of Duplicated Rows: 117\n",
      "Number of Duplicated Rows: 0\n",
      "Shape of train data before dropping Survived col:(891, 16)\n",
      "Shape of train data before dropping Survived col:(418, 11)\n"
     ]
    }
   ],
   "source": [
    "#duplicate_rows = clean_test[clean_test.duplicated(keep=False)]\n",
    "#print(duplicate_rows)\n",
    "\n",
    "train_dup_rows = clean_train.duplicated()\n",
    "test_dup_rows = clean_test.duplicated()\n",
    "\n",
    "\n",
    "\n",
    "print(f'Number of Duplicated Rows: {train_dup_rows.sum()}')\n",
    "print(f'Number of Duplicated Rows: {test_dup_rows.sum()}')\n",
    "print(f'Shape of train data before dropping Survived col:{clean_train.shape}')\n",
    "print(f'Shape of train data before dropping Survived col:{clean_test.shape}')\n",
    "\n",
    "#removing duplicate rows\n",
    "#clean_train = clean_train[~train_dup_rows]"
   ]
  },
  {
   "cell_type": "markdown",
   "id": "7db894cf",
   "metadata": {},
   "source": [
    "# **Baseline Model**"
   ]
  },
  {
   "cell_type": "code",
   "execution_count": 175,
   "id": "311cdc1a",
   "metadata": {},
   "outputs": [
    {
     "ename": "ValueError",
     "evalue": "Input X contains NaN.\nLogisticRegression does not accept missing values encoded as NaN natively. For supervised learning, you might want to consider sklearn.ensemble.HistGradientBoostingClassifier and Regressor which accept missing values encoded as NaNs natively. Alternatively, it is possible to preprocess the data, for instance by using an imputer transformer in a pipeline or drop samples with missing values. See https://scikit-learn.org/stable/modules/impute.html You can find a list of all estimators that handle NaN values at the following page: https://scikit-learn.org/stable/modules/impute.html#estimators-that-handle-nan-values",
     "output_type": "error",
     "traceback": [
      "\u001b[1;31m---------------------------------------------------------------------------\u001b[0m",
      "\u001b[1;31mValueError\u001b[0m                                Traceback (most recent call last)",
      "\u001b[1;32m~\\AppData\\Local\\Temp/ipykernel_21672/2356036769.py\u001b[0m in \u001b[0;36m<module>\u001b[1;34m\u001b[0m\n\u001b[0;32m     16\u001b[0m \u001b[1;33m\u001b[0m\u001b[0m\n\u001b[0;32m     17\u001b[0m \u001b[1;33m\u001b[0m\u001b[0m\n\u001b[1;32m---> 18\u001b[1;33m \u001b[0mpredictions\u001b[0m \u001b[1;33m=\u001b[0m \u001b[0mlogisticRegr\u001b[0m\u001b[1;33m.\u001b[0m\u001b[0mpredict\u001b[0m\u001b[1;33m(\u001b[0m\u001b[0mx_test\u001b[0m\u001b[1;33m)\u001b[0m\u001b[1;33m\u001b[0m\u001b[1;33m\u001b[0m\u001b[0m\n\u001b[0m\u001b[0;32m     19\u001b[0m \u001b[1;33m\u001b[0m\u001b[0m\n\u001b[0;32m     20\u001b[0m \u001b[1;31m#submission file\u001b[0m\u001b[1;33m\u001b[0m\u001b[1;33m\u001b[0m\u001b[0m\n",
      "\u001b[1;32m~\\AppData\\Local\\Programs\\Python\\Python39\\lib\\site-packages\\sklearn\\linear_model\\_base.py\u001b[0m in \u001b[0;36mpredict\u001b[1;34m(self, X)\u001b[0m\n\u001b[0;32m    417\u001b[0m         \"\"\"\n\u001b[0;32m    418\u001b[0m         \u001b[0mxp\u001b[0m\u001b[1;33m,\u001b[0m \u001b[0m_\u001b[0m \u001b[1;33m=\u001b[0m \u001b[0mget_namespace\u001b[0m\u001b[1;33m(\u001b[0m\u001b[0mX\u001b[0m\u001b[1;33m)\u001b[0m\u001b[1;33m\u001b[0m\u001b[1;33m\u001b[0m\u001b[0m\n\u001b[1;32m--> 419\u001b[1;33m         \u001b[0mscores\u001b[0m \u001b[1;33m=\u001b[0m \u001b[0mself\u001b[0m\u001b[1;33m.\u001b[0m\u001b[0mdecision_function\u001b[0m\u001b[1;33m(\u001b[0m\u001b[0mX\u001b[0m\u001b[1;33m)\u001b[0m\u001b[1;33m\u001b[0m\u001b[1;33m\u001b[0m\u001b[0m\n\u001b[0m\u001b[0;32m    420\u001b[0m         \u001b[1;32mif\u001b[0m \u001b[0mlen\u001b[0m\u001b[1;33m(\u001b[0m\u001b[0mscores\u001b[0m\u001b[1;33m.\u001b[0m\u001b[0mshape\u001b[0m\u001b[1;33m)\u001b[0m \u001b[1;33m==\u001b[0m \u001b[1;36m1\u001b[0m\u001b[1;33m:\u001b[0m\u001b[1;33m\u001b[0m\u001b[1;33m\u001b[0m\u001b[0m\n\u001b[0;32m    421\u001b[0m             \u001b[0mindices\u001b[0m \u001b[1;33m=\u001b[0m \u001b[0mxp\u001b[0m\u001b[1;33m.\u001b[0m\u001b[0mastype\u001b[0m\u001b[1;33m(\u001b[0m\u001b[0mscores\u001b[0m \u001b[1;33m>\u001b[0m \u001b[1;36m0\u001b[0m\u001b[1;33m,\u001b[0m \u001b[0mint\u001b[0m\u001b[1;33m)\u001b[0m\u001b[1;33m\u001b[0m\u001b[1;33m\u001b[0m\u001b[0m\n",
      "\u001b[1;32m~\\AppData\\Local\\Programs\\Python\\Python39\\lib\\site-packages\\sklearn\\linear_model\\_base.py\u001b[0m in \u001b[0;36mdecision_function\u001b[1;34m(self, X)\u001b[0m\n\u001b[0;32m    398\u001b[0m         \u001b[0mxp\u001b[0m\u001b[1;33m,\u001b[0m \u001b[0m_\u001b[0m \u001b[1;33m=\u001b[0m \u001b[0mget_namespace\u001b[0m\u001b[1;33m(\u001b[0m\u001b[0mX\u001b[0m\u001b[1;33m)\u001b[0m\u001b[1;33m\u001b[0m\u001b[1;33m\u001b[0m\u001b[0m\n\u001b[0;32m    399\u001b[0m \u001b[1;33m\u001b[0m\u001b[0m\n\u001b[1;32m--> 400\u001b[1;33m         \u001b[0mX\u001b[0m \u001b[1;33m=\u001b[0m \u001b[0mself\u001b[0m\u001b[1;33m.\u001b[0m\u001b[0m_validate_data\u001b[0m\u001b[1;33m(\u001b[0m\u001b[0mX\u001b[0m\u001b[1;33m,\u001b[0m \u001b[0maccept_sparse\u001b[0m\u001b[1;33m=\u001b[0m\u001b[1;34m\"csr\"\u001b[0m\u001b[1;33m,\u001b[0m \u001b[0mreset\u001b[0m\u001b[1;33m=\u001b[0m\u001b[1;32mFalse\u001b[0m\u001b[1;33m)\u001b[0m\u001b[1;33m\u001b[0m\u001b[1;33m\u001b[0m\u001b[0m\n\u001b[0m\u001b[0;32m    401\u001b[0m         \u001b[0mscores\u001b[0m \u001b[1;33m=\u001b[0m \u001b[0msafe_sparse_dot\u001b[0m\u001b[1;33m(\u001b[0m\u001b[0mX\u001b[0m\u001b[1;33m,\u001b[0m \u001b[0mself\u001b[0m\u001b[1;33m.\u001b[0m\u001b[0mcoef_\u001b[0m\u001b[1;33m.\u001b[0m\u001b[0mT\u001b[0m\u001b[1;33m,\u001b[0m \u001b[0mdense_output\u001b[0m\u001b[1;33m=\u001b[0m\u001b[1;32mTrue\u001b[0m\u001b[1;33m)\u001b[0m \u001b[1;33m+\u001b[0m \u001b[0mself\u001b[0m\u001b[1;33m.\u001b[0m\u001b[0mintercept_\u001b[0m\u001b[1;33m\u001b[0m\u001b[1;33m\u001b[0m\u001b[0m\n\u001b[0;32m    402\u001b[0m         \u001b[1;32mreturn\u001b[0m \u001b[0mxp\u001b[0m\u001b[1;33m.\u001b[0m\u001b[0mreshape\u001b[0m\u001b[1;33m(\u001b[0m\u001b[0mscores\u001b[0m\u001b[1;33m,\u001b[0m \u001b[1;33m-\u001b[0m\u001b[1;36m1\u001b[0m\u001b[1;33m)\u001b[0m \u001b[1;32mif\u001b[0m \u001b[0mscores\u001b[0m\u001b[1;33m.\u001b[0m\u001b[0mshape\u001b[0m\u001b[1;33m[\u001b[0m\u001b[1;36m1\u001b[0m\u001b[1;33m]\u001b[0m \u001b[1;33m==\u001b[0m \u001b[1;36m1\u001b[0m \u001b[1;32melse\u001b[0m \u001b[0mscores\u001b[0m\u001b[1;33m\u001b[0m\u001b[1;33m\u001b[0m\u001b[0m\n",
      "\u001b[1;32m~\\AppData\\Local\\Programs\\Python\\Python39\\lib\\site-packages\\sklearn\\base.py\u001b[0m in \u001b[0;36m_validate_data\u001b[1;34m(self, X, y, reset, validate_separately, **check_params)\u001b[0m\n\u001b[0;32m    563\u001b[0m             \u001b[1;32mraise\u001b[0m \u001b[0mValueError\u001b[0m\u001b[1;33m(\u001b[0m\u001b[1;34m\"Validation should be done on X, y or both.\"\u001b[0m\u001b[1;33m)\u001b[0m\u001b[1;33m\u001b[0m\u001b[1;33m\u001b[0m\u001b[0m\n\u001b[0;32m    564\u001b[0m         \u001b[1;32melif\u001b[0m \u001b[1;32mnot\u001b[0m \u001b[0mno_val_X\u001b[0m \u001b[1;32mand\u001b[0m \u001b[0mno_val_y\u001b[0m\u001b[1;33m:\u001b[0m\u001b[1;33m\u001b[0m\u001b[1;33m\u001b[0m\u001b[0m\n\u001b[1;32m--> 565\u001b[1;33m             \u001b[0mX\u001b[0m \u001b[1;33m=\u001b[0m \u001b[0mcheck_array\u001b[0m\u001b[1;33m(\u001b[0m\u001b[0mX\u001b[0m\u001b[1;33m,\u001b[0m \u001b[0minput_name\u001b[0m\u001b[1;33m=\u001b[0m\u001b[1;34m\"X\"\u001b[0m\u001b[1;33m,\u001b[0m \u001b[1;33m**\u001b[0m\u001b[0mcheck_params\u001b[0m\u001b[1;33m)\u001b[0m\u001b[1;33m\u001b[0m\u001b[1;33m\u001b[0m\u001b[0m\n\u001b[0m\u001b[0;32m    566\u001b[0m             \u001b[0mout\u001b[0m \u001b[1;33m=\u001b[0m \u001b[0mX\u001b[0m\u001b[1;33m\u001b[0m\u001b[1;33m\u001b[0m\u001b[0m\n\u001b[0;32m    567\u001b[0m         \u001b[1;32melif\u001b[0m \u001b[0mno_val_X\u001b[0m \u001b[1;32mand\u001b[0m \u001b[1;32mnot\u001b[0m \u001b[0mno_val_y\u001b[0m\u001b[1;33m:\u001b[0m\u001b[1;33m\u001b[0m\u001b[1;33m\u001b[0m\u001b[0m\n",
      "\u001b[1;32m~\\AppData\\Local\\Programs\\Python\\Python39\\lib\\site-packages\\sklearn\\utils\\validation.py\u001b[0m in \u001b[0;36mcheck_array\u001b[1;34m(array, accept_sparse, accept_large_sparse, dtype, order, copy, force_all_finite, ensure_2d, allow_nd, ensure_min_samples, ensure_min_features, estimator, input_name)\u001b[0m\n\u001b[0;32m    919\u001b[0m \u001b[1;33m\u001b[0m\u001b[0m\n\u001b[0;32m    920\u001b[0m         \u001b[1;32mif\u001b[0m \u001b[0mforce_all_finite\u001b[0m\u001b[1;33m:\u001b[0m\u001b[1;33m\u001b[0m\u001b[1;33m\u001b[0m\u001b[0m\n\u001b[1;32m--> 921\u001b[1;33m             _assert_all_finite(\n\u001b[0m\u001b[0;32m    922\u001b[0m                 \u001b[0marray\u001b[0m\u001b[1;33m,\u001b[0m\u001b[1;33m\u001b[0m\u001b[1;33m\u001b[0m\u001b[0m\n\u001b[0;32m    923\u001b[0m                 \u001b[0minput_name\u001b[0m\u001b[1;33m=\u001b[0m\u001b[0minput_name\u001b[0m\u001b[1;33m,\u001b[0m\u001b[1;33m\u001b[0m\u001b[1;33m\u001b[0m\u001b[0m\n",
      "\u001b[1;32m~\\AppData\\Local\\Programs\\Python\\Python39\\lib\\site-packages\\sklearn\\utils\\validation.py\u001b[0m in \u001b[0;36m_assert_all_finite\u001b[1;34m(X, allow_nan, msg_dtype, estimator_name, input_name)\u001b[0m\n\u001b[0;32m    159\u001b[0m                 \u001b[1;34m\"#estimators-that-handle-nan-values\"\u001b[0m\u001b[1;33m\u001b[0m\u001b[1;33m\u001b[0m\u001b[0m\n\u001b[0;32m    160\u001b[0m             )\n\u001b[1;32m--> 161\u001b[1;33m         \u001b[1;32mraise\u001b[0m \u001b[0mValueError\u001b[0m\u001b[1;33m(\u001b[0m\u001b[0mmsg_err\u001b[0m\u001b[1;33m)\u001b[0m\u001b[1;33m\u001b[0m\u001b[1;33m\u001b[0m\u001b[0m\n\u001b[0m\u001b[0;32m    162\u001b[0m \u001b[1;33m\u001b[0m\u001b[0m\n\u001b[0;32m    163\u001b[0m \u001b[1;33m\u001b[0m\u001b[0m\n",
      "\u001b[1;31mValueError\u001b[0m: Input X contains NaN.\nLogisticRegression does not accept missing values encoded as NaN natively. For supervised learning, you might want to consider sklearn.ensemble.HistGradientBoostingClassifier and Regressor which accept missing values encoded as NaNs natively. Alternatively, it is possible to preprocess the data, for instance by using an imputer transformer in a pipeline or drop samples with missing values. See https://scikit-learn.org/stable/modules/impute.html You can find a list of all estimators that handle NaN values at the following page: https://scikit-learn.org/stable/modules/impute.html#estimators-that-handle-nan-values"
     ]
    }
   ],
   "source": [
    "#log regression; only using Pclass variable as it has highest correlation with Survived\n",
    "\n",
    "y_train = clean_train['Survived']\n",
    "x_train = clean_train.drop(columns=['Survived'])\n",
    "\n",
    "x_test = clean_test.drop(columns=['PassengerId'])\n",
    "ids = clean_test['PassengerId'].values\n",
    "\n",
    "\n",
    "sc=StandardScaler()\n",
    "x_train=sc.fit_transform(x_train)\n",
    "x_test=sc.transform(x_test)\n",
    "\n",
    "baseline = LogisticRegression(class_weight=\"balanced\")\n",
    "baseline.fit(x_train, y_train)\n",
    "\n",
    "\n",
    "predictions = logisticRegr.predict(x_test)\n",
    "\n",
    "#submission file\n",
    "sub = pd.DataFrame()\n",
    "sub['PassengerId'] = ids.astype('int')\n",
    "sub['Survived'] = predictions\n",
    "\n",
    "subfolder_name = 'Submission'\n",
    "filename = 'baseline.csv'\n",
    "filepath = os.path.join(subfolder_name, filename)\n",
    "sub.to_csv(filepath, index=False, float_format='%.5f')\n",
    "print(\"Done!\")"
   ]
  },
  {
   "cell_type": "code",
   "execution_count": null,
   "id": "8a39196d",
   "metadata": {},
   "outputs": [],
   "source": []
  }
 ],
 "metadata": {
  "kernelspec": {
   "display_name": "Python 3 (ipykernel)",
   "language": "python",
   "name": "python3"
  },
  "language_info": {
   "codemirror_mode": {
    "name": "ipython",
    "version": 3
   },
   "file_extension": ".py",
   "mimetype": "text/x-python",
   "name": "python",
   "nbconvert_exporter": "python",
   "pygments_lexer": "ipython3",
   "version": "3.9.7"
  }
 },
 "nbformat": 4,
 "nbformat_minor": 5
}
