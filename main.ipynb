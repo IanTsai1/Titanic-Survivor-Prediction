{
 "cells": [
  {
   "cell_type": "code",
   "execution_count": 151,
   "id": "00a97214",
   "metadata": {},
   "outputs": [],
   "source": [
    "import numpy as np\n",
    "from tensorflow.keras.models import Sequential\n",
    "from tensorflow.keras.layers import Dense, Dropout, Activation, Flatten\n",
    "from tensorflow.keras.layers import Conv2D, MaxPooling2D\n",
    "from tensorflow.keras.callbacks import TensorBoard\n",
    "import pickle\n",
    "import time\n",
    "import pandas as pd\n",
    "import matplotlib.pyplot as plt\n",
    "import seaborn as sns\n",
    "%matplotlib inline\n",
    "import pylab \n",
    "import scipy.stats as stats\n",
    "from sklearn.preprocessing import PowerTransformer\n",
    "from sklearn.preprocessing import OneHotEncoder\n",
    "import missingno as msno\n",
    "from sklearn.preprocessing import StandardScaler\n",
    "from sklearn.linear_model import LogisticRegression\n",
    "import os\n",
    "from sklearn.compose import ColumnTransformer"
   ]
  },
  {
   "cell_type": "markdown",
   "id": "03f8e310",
   "metadata": {},
   "source": [
    "# **Data Cleaning**"
   ]
  },
  {
   "cell_type": "code",
   "execution_count": 152,
   "id": "5d9125e0",
   "metadata": {},
   "outputs": [
    {
     "name": "stdout",
     "output_type": "stream",
     "text": [
      "(891, 12)\n"
     ]
    },
    {
     "data": {
      "text/html": [
       "<div>\n",
       "<style scoped>\n",
       "    .dataframe tbody tr th:only-of-type {\n",
       "        vertical-align: middle;\n",
       "    }\n",
       "\n",
       "    .dataframe tbody tr th {\n",
       "        vertical-align: top;\n",
       "    }\n",
       "\n",
       "    .dataframe thead th {\n",
       "        text-align: right;\n",
       "    }\n",
       "</style>\n",
       "<table border=\"1\" class=\"dataframe\">\n",
       "  <thead>\n",
       "    <tr style=\"text-align: right;\">\n",
       "      <th></th>\n",
       "      <th>PassengerId</th>\n",
       "      <th>Survived</th>\n",
       "      <th>Pclass</th>\n",
       "      <th>Name</th>\n",
       "      <th>Sex</th>\n",
       "      <th>Age</th>\n",
       "      <th>SibSp</th>\n",
       "      <th>Parch</th>\n",
       "      <th>Ticket</th>\n",
       "      <th>Fare</th>\n",
       "      <th>Cabin</th>\n",
       "      <th>Embarked</th>\n",
       "    </tr>\n",
       "  </thead>\n",
       "  <tbody>\n",
       "    <tr>\n",
       "      <th>0</th>\n",
       "      <td>1</td>\n",
       "      <td>0</td>\n",
       "      <td>3</td>\n",
       "      <td>Braund, Mr. Owen Harris</td>\n",
       "      <td>male</td>\n",
       "      <td>22.0</td>\n",
       "      <td>1</td>\n",
       "      <td>0</td>\n",
       "      <td>A/5 21171</td>\n",
       "      <td>7.2500</td>\n",
       "      <td>NaN</td>\n",
       "      <td>S</td>\n",
       "    </tr>\n",
       "    <tr>\n",
       "      <th>1</th>\n",
       "      <td>2</td>\n",
       "      <td>1</td>\n",
       "      <td>1</td>\n",
       "      <td>Cumings, Mrs. John Bradley (Florence Briggs Th...</td>\n",
       "      <td>female</td>\n",
       "      <td>38.0</td>\n",
       "      <td>1</td>\n",
       "      <td>0</td>\n",
       "      <td>PC 17599</td>\n",
       "      <td>71.2833</td>\n",
       "      <td>C85</td>\n",
       "      <td>C</td>\n",
       "    </tr>\n",
       "    <tr>\n",
       "      <th>2</th>\n",
       "      <td>3</td>\n",
       "      <td>1</td>\n",
       "      <td>3</td>\n",
       "      <td>Heikkinen, Miss. Laina</td>\n",
       "      <td>female</td>\n",
       "      <td>26.0</td>\n",
       "      <td>0</td>\n",
       "      <td>0</td>\n",
       "      <td>STON/O2. 3101282</td>\n",
       "      <td>7.9250</td>\n",
       "      <td>NaN</td>\n",
       "      <td>S</td>\n",
       "    </tr>\n",
       "    <tr>\n",
       "      <th>3</th>\n",
       "      <td>4</td>\n",
       "      <td>1</td>\n",
       "      <td>1</td>\n",
       "      <td>Futrelle, Mrs. Jacques Heath (Lily May Peel)</td>\n",
       "      <td>female</td>\n",
       "      <td>35.0</td>\n",
       "      <td>1</td>\n",
       "      <td>0</td>\n",
       "      <td>113803</td>\n",
       "      <td>53.1000</td>\n",
       "      <td>C123</td>\n",
       "      <td>S</td>\n",
       "    </tr>\n",
       "    <tr>\n",
       "      <th>4</th>\n",
       "      <td>5</td>\n",
       "      <td>0</td>\n",
       "      <td>3</td>\n",
       "      <td>Allen, Mr. William Henry</td>\n",
       "      <td>male</td>\n",
       "      <td>35.0</td>\n",
       "      <td>0</td>\n",
       "      <td>0</td>\n",
       "      <td>373450</td>\n",
       "      <td>8.0500</td>\n",
       "      <td>NaN</td>\n",
       "      <td>S</td>\n",
       "    </tr>\n",
       "  </tbody>\n",
       "</table>\n",
       "</div>"
      ],
      "text/plain": [
       "   PassengerId  Survived  Pclass  \\\n",
       "0            1         0       3   \n",
       "1            2         1       1   \n",
       "2            3         1       3   \n",
       "3            4         1       1   \n",
       "4            5         0       3   \n",
       "\n",
       "                                                Name     Sex   Age  SibSp  \\\n",
       "0                            Braund, Mr. Owen Harris    male  22.0      1   \n",
       "1  Cumings, Mrs. John Bradley (Florence Briggs Th...  female  38.0      1   \n",
       "2                             Heikkinen, Miss. Laina  female  26.0      0   \n",
       "3       Futrelle, Mrs. Jacques Heath (Lily May Peel)  female  35.0      1   \n",
       "4                           Allen, Mr. William Henry    male  35.0      0   \n",
       "\n",
       "   Parch            Ticket     Fare Cabin Embarked  \n",
       "0      0         A/5 21171   7.2500   NaN        S  \n",
       "1      0          PC 17599  71.2833   C85        C  \n",
       "2      0  STON/O2. 3101282   7.9250   NaN        S  \n",
       "3      0            113803  53.1000  C123        S  \n",
       "4      0            373450   8.0500   NaN        S  "
      ]
     },
     "execution_count": 152,
     "metadata": {},
     "output_type": "execute_result"
    }
   ],
   "source": [
    "train = pd.read_csv(\"train.csv\")\n",
    "test = pd.read_csv(\"test.csv\")\n",
    "print(train.shape)\n",
    "train.head()"
   ]
  },
  {
   "cell_type": "code",
   "execution_count": 153,
   "id": "95c13988",
   "metadata": {},
   "outputs": [
    {
     "data": {
      "text/plain": [
       "PassengerId      int64\n",
       "Survived         int64\n",
       "Pclass           int64\n",
       "Name            object\n",
       "Sex             object\n",
       "Age            float64\n",
       "SibSp            int64\n",
       "Parch            int64\n",
       "Ticket          object\n",
       "Fare           float64\n",
       "Cabin           object\n",
       "Embarked        object\n",
       "dtype: object"
      ]
     },
     "execution_count": 153,
     "metadata": {},
     "output_type": "execute_result"
    }
   ],
   "source": [
    "train.dtypes"
   ]
  },
  {
   "cell_type": "code",
   "execution_count": 154,
   "id": "261f6607",
   "metadata": {},
   "outputs": [
    {
     "data": {
      "text/html": [
       "<div>\n",
       "<style scoped>\n",
       "    .dataframe tbody tr th:only-of-type {\n",
       "        vertical-align: middle;\n",
       "    }\n",
       "\n",
       "    .dataframe tbody tr th {\n",
       "        vertical-align: top;\n",
       "    }\n",
       "\n",
       "    .dataframe thead th {\n",
       "        text-align: right;\n",
       "    }\n",
       "</style>\n",
       "<table border=\"1\" class=\"dataframe\">\n",
       "  <thead>\n",
       "    <tr style=\"text-align: right;\">\n",
       "      <th></th>\n",
       "      <th>PassengerId</th>\n",
       "      <th>Survived</th>\n",
       "      <th>Pclass</th>\n",
       "      <th>Name</th>\n",
       "      <th>Sex</th>\n",
       "      <th>Age</th>\n",
       "      <th>SibSp</th>\n",
       "      <th>Parch</th>\n",
       "      <th>Ticket</th>\n",
       "      <th>Fare</th>\n",
       "      <th>Cabin</th>\n",
       "      <th>Embarked</th>\n",
       "    </tr>\n",
       "  </thead>\n",
       "  <tbody>\n",
       "    <tr>\n",
       "      <th>278</th>\n",
       "      <td>279</td>\n",
       "      <td>0</td>\n",
       "      <td>3</td>\n",
       "      <td>Rice, Master. Eric</td>\n",
       "      <td>male</td>\n",
       "      <td>7.0</td>\n",
       "      <td>4</td>\n",
       "      <td>1</td>\n",
       "      <td>382652</td>\n",
       "      <td>29.1250</td>\n",
       "      <td>NaN</td>\n",
       "      <td>Q</td>\n",
       "    </tr>\n",
       "    <tr>\n",
       "      <th>198</th>\n",
       "      <td>199</td>\n",
       "      <td>1</td>\n",
       "      <td>3</td>\n",
       "      <td>Madigan, Miss. Margaret \"Maggie\"</td>\n",
       "      <td>female</td>\n",
       "      <td>NaN</td>\n",
       "      <td>0</td>\n",
       "      <td>0</td>\n",
       "      <td>370370</td>\n",
       "      <td>7.7500</td>\n",
       "      <td>NaN</td>\n",
       "      <td>Q</td>\n",
       "    </tr>\n",
       "    <tr>\n",
       "      <th>335</th>\n",
       "      <td>336</td>\n",
       "      <td>0</td>\n",
       "      <td>3</td>\n",
       "      <td>Denkoff, Mr. Mitto</td>\n",
       "      <td>male</td>\n",
       "      <td>NaN</td>\n",
       "      <td>0</td>\n",
       "      <td>0</td>\n",
       "      <td>349225</td>\n",
       "      <td>7.8958</td>\n",
       "      <td>NaN</td>\n",
       "      <td>S</td>\n",
       "    </tr>\n",
       "    <tr>\n",
       "      <th>623</th>\n",
       "      <td>624</td>\n",
       "      <td>0</td>\n",
       "      <td>3</td>\n",
       "      <td>Hansen, Mr. Henry Damsgaard</td>\n",
       "      <td>male</td>\n",
       "      <td>21.0</td>\n",
       "      <td>0</td>\n",
       "      <td>0</td>\n",
       "      <td>350029</td>\n",
       "      <td>7.8542</td>\n",
       "      <td>NaN</td>\n",
       "      <td>S</td>\n",
       "    </tr>\n",
       "    <tr>\n",
       "      <th>589</th>\n",
       "      <td>590</td>\n",
       "      <td>0</td>\n",
       "      <td>3</td>\n",
       "      <td>Murdlin, Mr. Joseph</td>\n",
       "      <td>male</td>\n",
       "      <td>NaN</td>\n",
       "      <td>0</td>\n",
       "      <td>0</td>\n",
       "      <td>A./5. 3235</td>\n",
       "      <td>8.0500</td>\n",
       "      <td>NaN</td>\n",
       "      <td>S</td>\n",
       "    </tr>\n",
       "    <tr>\n",
       "      <th>530</th>\n",
       "      <td>531</td>\n",
       "      <td>1</td>\n",
       "      <td>2</td>\n",
       "      <td>Quick, Miss. Phyllis May</td>\n",
       "      <td>female</td>\n",
       "      <td>2.0</td>\n",
       "      <td>1</td>\n",
       "      <td>1</td>\n",
       "      <td>26360</td>\n",
       "      <td>26.0000</td>\n",
       "      <td>NaN</td>\n",
       "      <td>S</td>\n",
       "    </tr>\n",
       "    <tr>\n",
       "      <th>99</th>\n",
       "      <td>100</td>\n",
       "      <td>0</td>\n",
       "      <td>2</td>\n",
       "      <td>Kantor, Mr. Sinai</td>\n",
       "      <td>male</td>\n",
       "      <td>34.0</td>\n",
       "      <td>1</td>\n",
       "      <td>0</td>\n",
       "      <td>244367</td>\n",
       "      <td>26.0000</td>\n",
       "      <td>NaN</td>\n",
       "      <td>S</td>\n",
       "    </tr>\n",
       "    <tr>\n",
       "      <th>308</th>\n",
       "      <td>309</td>\n",
       "      <td>0</td>\n",
       "      <td>2</td>\n",
       "      <td>Abelson, Mr. Samuel</td>\n",
       "      <td>male</td>\n",
       "      <td>30.0</td>\n",
       "      <td>1</td>\n",
       "      <td>0</td>\n",
       "      <td>P/PP 3381</td>\n",
       "      <td>24.0000</td>\n",
       "      <td>NaN</td>\n",
       "      <td>C</td>\n",
       "    </tr>\n",
       "    <tr>\n",
       "      <th>848</th>\n",
       "      <td>849</td>\n",
       "      <td>0</td>\n",
       "      <td>2</td>\n",
       "      <td>Harper, Rev. John</td>\n",
       "      <td>male</td>\n",
       "      <td>28.0</td>\n",
       "      <td>0</td>\n",
       "      <td>1</td>\n",
       "      <td>248727</td>\n",
       "      <td>33.0000</td>\n",
       "      <td>NaN</td>\n",
       "      <td>S</td>\n",
       "    </tr>\n",
       "    <tr>\n",
       "      <th>770</th>\n",
       "      <td>771</td>\n",
       "      <td>0</td>\n",
       "      <td>3</td>\n",
       "      <td>Lievens, Mr. Rene Aime</td>\n",
       "      <td>male</td>\n",
       "      <td>24.0</td>\n",
       "      <td>0</td>\n",
       "      <td>0</td>\n",
       "      <td>345781</td>\n",
       "      <td>9.5000</td>\n",
       "      <td>NaN</td>\n",
       "      <td>S</td>\n",
       "    </tr>\n",
       "  </tbody>\n",
       "</table>\n",
       "</div>"
      ],
      "text/plain": [
       "     PassengerId  Survived  Pclass                              Name     Sex  \\\n",
       "278          279         0       3                Rice, Master. Eric    male   \n",
       "198          199         1       3  Madigan, Miss. Margaret \"Maggie\"  female   \n",
       "335          336         0       3                Denkoff, Mr. Mitto    male   \n",
       "623          624         0       3       Hansen, Mr. Henry Damsgaard    male   \n",
       "589          590         0       3               Murdlin, Mr. Joseph    male   \n",
       "530          531         1       2          Quick, Miss. Phyllis May  female   \n",
       "99           100         0       2                 Kantor, Mr. Sinai    male   \n",
       "308          309         0       2               Abelson, Mr. Samuel    male   \n",
       "848          849         0       2                 Harper, Rev. John    male   \n",
       "770          771         0       3            Lievens, Mr. Rene Aime    male   \n",
       "\n",
       "      Age  SibSp  Parch      Ticket     Fare Cabin Embarked  \n",
       "278   7.0      4      1      382652  29.1250   NaN        Q  \n",
       "198   NaN      0      0      370370   7.7500   NaN        Q  \n",
       "335   NaN      0      0      349225   7.8958   NaN        S  \n",
       "623  21.0      0      0      350029   7.8542   NaN        S  \n",
       "589   NaN      0      0  A./5. 3235   8.0500   NaN        S  \n",
       "530   2.0      1      1       26360  26.0000   NaN        S  \n",
       "99   34.0      1      0      244367  26.0000   NaN        S  \n",
       "308  30.0      1      0   P/PP 3381  24.0000   NaN        C  \n",
       "848  28.0      0      1      248727  33.0000   NaN        S  \n",
       "770  24.0      0      0      345781   9.5000   NaN        S  "
      ]
     },
     "execution_count": 154,
     "metadata": {},
     "output_type": "execute_result"
    }
   ],
   "source": [
    "df1 = train[train.isna().any(axis=1)]\n",
    "df1.sample(10)"
   ]
  },
  {
   "cell_type": "code",
   "execution_count": 155,
   "id": "1125e9fa",
   "metadata": {},
   "outputs": [
    {
     "name": "stderr",
     "output_type": "stream",
     "text": [
      "C:\\Users\\Ian\\AppData\\Local\\Temp/ipykernel_17804/324537713.py:4: UserWarning: To output multiple subplots, the figure containing the passed axes is being cleared\n",
      "  train.hist(ax = axes)\n"
     ]
    },
    {
     "data": {
      "text/plain": [
       "array([[<AxesSubplot:title={'center':'PassengerId'}>,\n",
       "        <AxesSubplot:title={'center':'Survived'}>,\n",
       "        <AxesSubplot:title={'center':'Pclass'}>],\n",
       "       [<AxesSubplot:title={'center':'Age'}>,\n",
       "        <AxesSubplot:title={'center':'SibSp'}>,\n",
       "        <AxesSubplot:title={'center':'Parch'}>],\n",
       "       [<AxesSubplot:title={'center':'Fare'}>, <AxesSubplot:>,\n",
       "        <AxesSubplot:>]], dtype=object)"
      ]
     },
     "execution_count": 155,
     "metadata": {},
     "output_type": "execute_result"
    },
    {
     "data": {
      "image/png": "[encoded data removed]",
      "text/plain": [
       "<Figure size 1080x1440 with 9 Axes>"
      ]
     },
     "metadata": {
      "needs_background": "light"
     },
     "output_type": "display_data"
    }
   ],
   "source": [
    "# distribution of each of the variables\n",
    "fig = plt.figure(figsize=(15, 20))\n",
    "axes = fig.gca()\n",
    "train.hist(ax = axes)"
   ]
  },
  {
   "cell_type": "markdown",
   "id": "71bcd136",
   "metadata": {},
   "source": [
    "**Invalid Data**"
   ]
  },
  {
   "cell_type": "code",
   "execution_count": 156,
   "id": "6c301edc",
   "metadata": {},
   "outputs": [],
   "source": [
    "#deep copy of training dataset\n",
    "clean_train = train.copy()"
   ]
  },
  {
   "cell_type": "code",
   "execution_count": 157,
   "id": "c9141cf4",
   "metadata": {},
   "outputs": [
    {
     "data": {
      "text/plain": [
       "<AxesSubplot:>"
      ]
     },
     "execution_count": 157,
     "metadata": {},
     "output_type": "execute_result"
    },
    {
     "data": {
      "image/png": "[encoded data removed]",
      "text/plain": [
       "<Figure size 1800x720 with 2 Axes>"
      ]
     },
     "metadata": {
      "needs_background": "light"
     },
     "output_type": "display_data"
    }
   ],
   "source": [
    "msno.matrix(clean_train)"
   ]
  },
  {
   "cell_type": "code",
   "execution_count": 158,
   "id": "dcc5d083",
   "metadata": {},
   "outputs": [
    {
     "name": "stdout",
     "output_type": "stream",
     "text": [
      "177\n"
     ]
    }
   ],
   "source": [
    "#all age < 0 are NaN values so going to use data imputation(shown later)\n",
    "proper_age = clean_train[clean_train['Age']>0]\n",
    "print(len(clean_train['Age'])-len(proper_age))"
   ]
  },
  {
   "cell_type": "code",
   "execution_count": 159,
   "id": "876e4e78",
   "metadata": {},
   "outputs": [
    {
     "name": "stdout",
     "output_type": "stream",
     "text": [
      "0.7643097643097643\n"
     ]
    }
   ],
   "source": [
    "#dropped Ticket column since 76.5% are unique categorical values\n",
    "print(len(clean_train['Ticket'].unique())/len(clean_train))\n",
    "clean_train = clean_train.drop(columns=['Ticket'])"
   ]
  },
  {
   "cell_type": "code",
   "execution_count": 160,
   "id": "60218535",
   "metadata": {},
   "outputs": [
    {
     "name": "stdout",
     "output_type": "stream",
     "text": [
      "1.0\n",
      "1.0\n"
     ]
    }
   ],
   "source": [
    "#dropped PassengerID and Name column since all names are unique categorical values\n",
    "print(len(clean_train['PassengerId'].unique())/len(clean_train))\n",
    "print(len(clean_train['Name'].unique())/len(clean_train))\n",
    "clean_train = clean_train.drop(columns=['Name'])\n",
    "clean_train = clean_train.drop(columns=['PassengerId'])"
   ]
  },
  {
   "cell_type": "code",
   "execution_count": 161,
   "id": "5d249d65",
   "metadata": {},
   "outputs": [
    {
     "name": "stdout",
     "output_type": "stream",
     "text": [
      "Before:\n",
      "Survived      0\n",
      "Pclass        0\n",
      "Sex           0\n",
      "Age         177\n",
      "SibSp         0\n",
      "Parch         0\n",
      "Fare          0\n",
      "Cabin       687\n",
      "Embarked      2\n",
      "dtype: int64\n",
      "\n",
      "% of NaN values: 0.7710437710437711\n",
      "\n",
      "After:\n",
      "Survived      0\n",
      "Pclass        0\n",
      "Sex           0\n",
      "Age         177\n",
      "SibSp         0\n",
      "Parch         0\n",
      "Fare          0\n",
      "Embarked      2\n",
      "dtype: int64\n"
     ]
    }
   ],
   "source": [
    "#dropped Cabin column since 77% are NaN values\n",
    "print(f\"Before:\\n{clean_train.isnull().sum(axis=0)}\")\n",
    "print(f\"\\n% of NaN values: {clean_train['Cabin'].isnull().sum(axis=0)/len(clean_train)}\")\n",
    "clean_train = clean_train.drop(columns=['Cabin'])\n",
    "print(f\"\\nAfter:\\n{clean_train.isnull().sum(axis=0)}\")"
   ]
  },
  {
   "cell_type": "code",
   "execution_count": 162,
   "id": "b59e1b99",
   "metadata": {},
   "outputs": [
    {
     "data": {
      "text/plain": [
       "<AxesSubplot:>"
      ]
     },
     "execution_count": 162,
     "metadata": {},
     "output_type": "execute_result"
    },
    {
     "data": {
      "image/png": "[encoded data removed]",
      "text/plain": [
       "<Figure size 1800x720 with 2 Axes>"
      ]
     },
     "metadata": {
      "needs_background": "light"
     },
     "output_type": "display_data"
    }
   ],
   "source": [
    "msno.matrix(clean_train)"
   ]
  },
  {
   "cell_type": "markdown",
   "id": "21270f38",
   "metadata": {},
   "source": [
    "**Outliers**"
   ]
  },
  {
   "cell_type": "code",
   "execution_count": 163,
   "id": "7d4e5070",
   "metadata": {},
   "outputs": [
    {
     "data": {
      "image/png": "[encoded data removed]",
      "text/plain": [
       "<Figure size 288x792 with 3 Axes>"
      ]
     },
     "metadata": {
      "needs_background": "light"
     },
     "output_type": "display_data"
    }
   ],
   "source": [
    "#columns that are skewed based on histogram; creates boxplot for skewed columns\n",
    "skew = ['Fare','SibSp','Parch']\n",
    "\n",
    "fig, axes = plt.subplots(nrows=len(skew), figsize=(4,11)) #fig contains subplot, \n",
    "                                                                     #an array of subplots\n",
    "\n",
    "for i, column in enumerate(skew):\n",
    "    axes[i].boxplot(clean_train[column])\n",
    "    axes[i].set_title('Box Plot of {}'.format(column))\n",
    "    axes[i].set_xlabel(column)\n",
    "    axes[i].set_ylabel(\"Values\")\n",
    "\n",
    "\n",
    "plt.subplots_adjust(hspace=0.5)\n",
    "#removing the outliers doesn't seem reasonable as there are only a few and the values are reasonable"
   ]
  },
  {
   "cell_type": "markdown",
   "id": "c1cb5f24",
   "metadata": {},
   "source": [
    "**Data Imputation**"
   ]
  },
  {
   "cell_type": "code",
   "execution_count": 164,
   "id": "bd72a220",
   "metadata": {},
   "outputs": [],
   "source": [
    "#Age column\n",
    "clean_train['Age'].fillna(clean_train['Age'].mode().iloc[0], inplace=True)"
   ]
  },
  {
   "cell_type": "code",
   "execution_count": 165,
   "id": "53e86833",
   "metadata": {},
   "outputs": [
    {
     "name": "stdout",
     "output_type": "stream",
     "text": [
      "Amount of rows that have price as 0: 15 rows\n"
     ]
    },
    {
     "data": {
      "image/png": "[encoded data removed]",
      "text/plain": [
       "<Figure size 432x288 with 1 Axes>"
      ]
     },
     "metadata": {
      "needs_background": "light"
     },
     "output_type": "display_data"
    },
    {
     "name": "stdout",
     "output_type": "stream",
     "text": [
      "Before:\n",
      "     Survived  Pclass   Sex   Age  SibSp  Parch  Fare Embarked\n",
      "179         0       3  male  36.0      0      0   0.0        S\n",
      "263         0       1  male  40.0      0      0   0.0        S\n",
      "271         1       3  male  25.0      0      0   0.0        S\n",
      "277         0       2  male  24.0      0      0   0.0        S\n",
      "302         0       3  male  19.0      0      0   0.0        S\n",
      "413         0       2  male  24.0      0      0   0.0        S\n",
      "466         0       2  male  24.0      0      0   0.0        S\n",
      "481         0       2  male  24.0      0      0   0.0        S\n",
      "597         0       3  male  49.0      0      0   0.0        S\n",
      "633         0       1  male  24.0      0      0   0.0        S\n",
      "674         0       2  male  24.0      0      0   0.0        S\n",
      "732         0       2  male  24.0      0      0   0.0        S\n",
      "806         0       1  male  39.0      0      0   0.0        S\n",
      "815         0       1  male  24.0      0      0   0.0        S\n",
      "822         0       1  male  38.0      0      0   0.0        S\n",
      "After:\n",
      "     Survived  Pclass   Sex   Age  SibSp  Parch     Fare Embarked\n",
      "179         0       3  male  36.0      0      0   8.0500        S\n",
      "263         0       1  male  40.0      0      0  61.9792        S\n",
      "271         1       3  male  25.0      0      0   8.0500        S\n",
      "277         0       2  male  24.0      0      0  15.0229        S\n",
      "302         0       3  male  19.0      0      0   8.0500        S\n",
      "413         0       2  male  24.0      0      0  15.0229        S\n",
      "466         0       2  male  24.0      0      0  15.0229        S\n",
      "481         0       2  male  24.0      0      0  15.0229        S\n",
      "597         0       3  male  49.0      0      0   8.0500        S\n",
      "633         0       1  male  24.0      0      0  61.9792        S\n",
      "674         0       2  male  24.0      0      0  15.0229        S\n",
      "732         0       2  male  24.0      0      0  15.0229        S\n",
      "806         0       1  male  39.0      0      0  61.9792        S\n",
      "815         0       1  male  24.0      0      0  61.9792        S\n",
      "822         0       1  male  38.0      0      0  61.9792        S\n"
     ]
    }
   ],
   "source": [
    "#Fare column\n",
    "\n",
    "print(f\"Amount of rows that have price as 0: {len(clean_train['Fare'])-len(clean_train[clean_train['Fare']>0])} rows\") \n",
    "\n",
    "#Since distribution is heavily skewed to the right, we will find the median of price for each Ticket Class\n",
    "clean_train['Fare'].plot(kind='hist')\n",
    "plt.show()\n",
    "\n",
    "def impute_median(row):\n",
    "    return clean_train[clean_train['Pclass']==row['Pclass']]['Fare'].median()\n",
    "\n",
    "\n",
    "\n",
    "print(\"Before:\")\n",
    "print(clean_train[clean_train['Fare']<=0])\n",
    "index = clean_train[clean_train['Fare']<=0].index\n",
    "\n",
    "print(\"After:\")\n",
    "clean_train['Fare'] = clean_train['Fare'].replace(0, np.nan)\n",
    "missing_fares = clean_train['Fare'].isnull()\n",
    "clean_train.loc[missing_fares, 'Fare'] = clean_train[missing_fares].apply(impute_median, axis=1)\n",
    "print(clean_train.loc[index])"
   ]
  },
  {
   "cell_type": "code",
   "execution_count": 166,
   "id": "22f95f8c",
   "metadata": {},
   "outputs": [],
   "source": [
    "#Embarked column\n",
    "#print(clean_train[clean_train.isna().any(axis=1)])\n",
    "clean_train['Embarked'].fillna(clean_train['Embarked'].mode().iloc[0], inplace=True)"
   ]
  },
  {
   "cell_type": "code",
   "execution_count": 167,
   "id": "6fb0be43",
   "metadata": {},
   "outputs": [
    {
     "data": {
      "text/plain": [
       "Survived    0\n",
       "Pclass      0\n",
       "Sex         0\n",
       "Age         0\n",
       "SibSp       0\n",
       "Parch       0\n",
       "Fare        0\n",
       "Embarked    0\n",
       "dtype: int64"
      ]
     },
     "execution_count": 167,
     "metadata": {},
     "output_type": "execute_result"
    }
   ],
   "source": [
    "clean_train.isnull().sum(axis=0)"
   ]
  },
  {
   "cell_type": "code",
   "execution_count": 168,
   "id": "3f725f1f",
   "metadata": {
    "scrolled": true
   },
   "outputs": [
    {
     "data": {
      "text/plain": [
       "<AxesSubplot:>"
      ]
     },
     "execution_count": 168,
     "metadata": {},
     "output_type": "execute_result"
    },
    {
     "data": {
      "image/png": "[encoded data removed]",
      "text/plain": [
       "<Figure size 1440x1080 with 2 Axes>"
      ]
     },
     "metadata": {
      "needs_background": "light"
     },
     "output_type": "display_data"
    }
   ],
   "source": [
    "# correlations between the columns\n",
    "plt.figure(figsize=(20, 15))\n",
    "sns.heatmap(clean_train.corr(), annot=True, cmap=sns.color_palette('RdBu',50), fmt='.2f')"
   ]
  },
  {
   "cell_type": "code",
   "execution_count": 169,
   "id": "5267448c",
   "metadata": {},
   "outputs": [
    {
     "name": "stdout",
     "output_type": "stream",
     "text": [
      "Correlation of each variable to Survived:\n"
     ]
    },
    {
     "data": {
      "text/plain": [
       "Survived    1.000000\n",
       "Pclass      0.338481\n",
       "Fare        0.250383\n",
       "Parch       0.081629\n",
       "Age         0.052872\n",
       "SibSp       0.035322\n",
       "Name: Survived, dtype: float64"
      ]
     },
     "execution_count": 169,
     "metadata": {},
     "output_type": "execute_result"
    }
   ],
   "source": [
    "corr = clean_train.corr().abs()\n",
    "sort = corr.sort_values(by=['Survived'],ascending=False)\n",
    "print(\"Correlation of each variable to Survived:\")\n",
    "sort['Survived']"
   ]
  },
  {
   "cell_type": "code",
   "execution_count": 170,
   "id": "e95edb7a",
   "metadata": {},
   "outputs": [
    {
     "data": {
      "image/png": "[encoded data removed]",
      "text/plain": [
       "<Figure size 432x288 with 1 Axes>"
      ]
     },
     "metadata": {
      "needs_background": "light"
     },
     "output_type": "display_data"
    }
   ],
   "source": [
    "#qqplot\n",
    "stats.probplot(clean_train['Fare'], dist=\"norm\", plot=pylab)\n",
    "pylab.show()"
   ]
  },
  {
   "cell_type": "code",
   "execution_count": 171,
   "id": "def3d301",
   "metadata": {},
   "outputs": [
    {
     "data": {
      "text/plain": [
       "0.3172403575315684"
      ]
     },
     "execution_count": 171,
     "metadata": {},
     "output_type": "execute_result"
    },
    {
     "data": {
      "image/png": "[encoded data removed]",
      "text/plain": [
       "<Figure size 432x288 with 1 Axes>"
      ]
     },
     "metadata": {
      "needs_background": "light"
     },
     "output_type": "display_data"
    }
   ],
   "source": [
    "#Transformation decreases correlation so not going to transform\n",
    "pt = PowerTransformer()\n",
    "fare_transformed = pt.fit_transform(clean_train['Fare'].values.reshape(-1, 1))\n",
    "sns.histplot(fare_transformed)\n",
    "\n",
    "# Compute the correlation between the transformed fare column and survival rate\n",
    "corr_transformed = pd.Series(fare_transformed.flatten()).corr(clean_train['Survived'])\n",
    "corr_transformed "
   ]
  },
  {
   "cell_type": "markdown",
   "id": "be4cb888",
   "metadata": {},
   "source": [
    "**Duplicates**"
   ]
  },
  {
   "cell_type": "code",
   "execution_count": 172,
   "id": "f023e30e",
   "metadata": {},
   "outputs": [
    {
     "name": "stdout",
     "output_type": "stream",
     "text": [
      "Number of Duplicated Rows for Train: 0\n",
      "Number of Duplicated Rows for Test: 0\n"
     ]
    },
    {
     "data": {
      "text/plain": [
       "(891, 8)"
      ]
     },
     "execution_count": 172,
     "metadata": {},
     "output_type": "execute_result"
    }
   ],
   "source": [
    "duplicated_rows = train.duplicated()\n",
    "print(f'Number of Duplicated Rows for Train: {duplicated_rows.sum()}')\n",
    "duplicated_rows = test.duplicated()\n",
    "print(f'Number of Duplicated Rows for Test: {duplicated_rows.sum()}')\n",
    "\n",
    "clean_train.shape"
   ]
  },
  {
   "cell_type": "markdown",
   "id": "e2593b91",
   "metadata": {},
   "source": [
    "**One-hot Encoding**"
   ]
  },
  {
   "cell_type": "code",
   "execution_count": 173,
   "id": "89af8c9e",
   "metadata": {},
   "outputs": [
    {
     "data": {
      "text/html": [
       "<div>\n",
       "<style scoped>\n",
       "    .dataframe tbody tr th:only-of-type {\n",
       "        vertical-align: middle;\n",
       "    }\n",
       "\n",
       "    .dataframe tbody tr th {\n",
       "        vertical-align: top;\n",
       "    }\n",
       "\n",
       "    .dataframe thead th {\n",
       "        text-align: right;\n",
       "    }\n",
       "</style>\n",
       "<table border=\"1\" class=\"dataframe\">\n",
       "  <thead>\n",
       "    <tr style=\"text-align: right;\">\n",
       "      <th></th>\n",
       "      <th>Survived</th>\n",
       "      <th>Pclass</th>\n",
       "      <th>Age</th>\n",
       "      <th>SibSp</th>\n",
       "      <th>Parch</th>\n",
       "      <th>Fare</th>\n",
       "      <th>Sex_female</th>\n",
       "      <th>Sex_male</th>\n",
       "      <th>Embarked_C</th>\n",
       "      <th>Embarked_Q</th>\n",
       "      <th>Embarked_S</th>\n",
       "    </tr>\n",
       "  </thead>\n",
       "  <tbody>\n",
       "    <tr>\n",
       "      <th>0</th>\n",
       "      <td>0</td>\n",
       "      <td>3</td>\n",
       "      <td>22.0</td>\n",
       "      <td>1</td>\n",
       "      <td>0</td>\n",
       "      <td>7.2500</td>\n",
       "      <td>0</td>\n",
       "      <td>1</td>\n",
       "      <td>0</td>\n",
       "      <td>0</td>\n",
       "      <td>1</td>\n",
       "    </tr>\n",
       "    <tr>\n",
       "      <th>1</th>\n",
       "      <td>1</td>\n",
       "      <td>1</td>\n",
       "      <td>38.0</td>\n",
       "      <td>1</td>\n",
       "      <td>0</td>\n",
       "      <td>71.2833</td>\n",
       "      <td>1</td>\n",
       "      <td>0</td>\n",
       "      <td>1</td>\n",
       "      <td>0</td>\n",
       "      <td>0</td>\n",
       "    </tr>\n",
       "    <tr>\n",
       "      <th>2</th>\n",
       "      <td>1</td>\n",
       "      <td>3</td>\n",
       "      <td>26.0</td>\n",
       "      <td>0</td>\n",
       "      <td>0</td>\n",
       "      <td>7.9250</td>\n",
       "      <td>1</td>\n",
       "      <td>0</td>\n",
       "      <td>0</td>\n",
       "      <td>0</td>\n",
       "      <td>1</td>\n",
       "    </tr>\n",
       "    <tr>\n",
       "      <th>3</th>\n",
       "      <td>1</td>\n",
       "      <td>1</td>\n",
       "      <td>35.0</td>\n",
       "      <td>1</td>\n",
       "      <td>0</td>\n",
       "      <td>53.1000</td>\n",
       "      <td>1</td>\n",
       "      <td>0</td>\n",
       "      <td>0</td>\n",
       "      <td>0</td>\n",
       "      <td>1</td>\n",
       "    </tr>\n",
       "    <tr>\n",
       "      <th>4</th>\n",
       "      <td>0</td>\n",
       "      <td>3</td>\n",
       "      <td>35.0</td>\n",
       "      <td>0</td>\n",
       "      <td>0</td>\n",
       "      <td>8.0500</td>\n",
       "      <td>0</td>\n",
       "      <td>1</td>\n",
       "      <td>0</td>\n",
       "      <td>0</td>\n",
       "      <td>1</td>\n",
       "    </tr>\n",
       "  </tbody>\n",
       "</table>\n",
       "</div>"
      ],
      "text/plain": [
       "   Survived  Pclass   Age  SibSp  Parch     Fare  Sex_female  Sex_male  \\\n",
       "0         0       3  22.0      1      0   7.2500           0         1   \n",
       "1         1       1  38.0      1      0  71.2833           1         0   \n",
       "2         1       3  26.0      0      0   7.9250           1         0   \n",
       "3         1       1  35.0      1      0  53.1000           1         0   \n",
       "4         0       3  35.0      0      0   8.0500           0         1   \n",
       "\n",
       "   Embarked_C  Embarked_Q  Embarked_S  \n",
       "0           0           0           1  \n",
       "1           1           0           0  \n",
       "2           0           0           1  \n",
       "3           0           0           1  \n",
       "4           0           0           1  "
      ]
     },
     "execution_count": 173,
     "metadata": {},
     "output_type": "execute_result"
    }
   ],
   "source": [
    "#Since only 2/7 columns are categorical, I'm using one-hot encoding since there won't be that much sparsity \n",
    "clean_train = pd.get_dummies(data=clean_train, columns=['Sex', 'Embarked'])\n",
    "clean_train.head()"
   ]
  },
  {
   "cell_type": "code",
   "execution_count": 180,
   "id": "f0433fcb",
   "metadata": {
    "scrolled": true
   },
   "outputs": [
    {
     "name": "stdout",
     "output_type": "stream",
     "text": [
      "Number of Duplicated Rows: 117\n",
      "     Survived  Pclass   Age  SibSp  Parch     Fare  Sex_female  Sex_male  \\\n",
      "612         1       3  24.0      1      0  15.5000           1         0   \n",
      "846         0       3  24.0      8      2  69.5500           0         1   \n",
      "886         0       2  27.0      0      0  13.0000           0         1   \n",
      "792         0       3  24.0      8      2  69.5500           1         0   \n",
      "613         0       3  24.0      0      0   7.7500           0         1   \n",
      "410         0       3  24.0      0      0   7.8958           0         1   \n",
      "589         0       3  24.0      0      0   8.0500           0         1   \n",
      "295         0       1  24.0      0      0  27.7208           0         1   \n",
      "650         0       3  24.0      0      0   7.8958           0         1   \n",
      "555         0       1  62.0      0      0  26.5500           0         1   \n",
      "\n",
      "     Embarked_C  Embarked_Q  Embarked_S  age_Pclass_median  \\\n",
      "612           0           1           0               24.0   \n",
      "846           0           0           1               24.0   \n",
      "886           0           0           1               28.0   \n",
      "792           0           0           1               24.0   \n",
      "613           0           1           0               24.0   \n",
      "410           0           0           1               24.0   \n",
      "589           0           0           1               24.0   \n",
      "295           1           0           0               35.0   \n",
      "650           0           0           1               24.0   \n",
      "555           0           0           1               35.0   \n",
      "\n",
      "     fare_Pclass_median  age_Pclass_std  fare_Pclass_std  SibSp_count  \\\n",
      "612              8.0500       10.632997        11.723991          491   \n",
      "846              8.0500       10.632997        11.723991          491   \n",
      "886             15.0229       13.645488        12.916284          184   \n",
      "792              8.0500       10.632997        11.723991          491   \n",
      "613              8.0500       10.632997        11.723991          491   \n",
      "410              8.0500       10.632997        11.723991          491   \n",
      "589              8.0500       10.632997        11.723991          491   \n",
      "295             61.9792       14.590796        77.383157          216   \n",
      "650              8.0500       10.632997        11.723991          491   \n",
      "555             61.9792       14.590796        77.383157          216   \n",
      "\n",
      "     Parch_count  fare_median_diff  \n",
      "612          491            7.4500  \n",
      "846          491           61.5000  \n",
      "886          184           -2.0229  \n",
      "792          491           61.5000  \n",
      "613          491           -0.3000  \n",
      "410          491           -0.1542  \n",
      "589          491            0.0000  \n",
      "295          216          -34.2584  \n",
      "650          491           -0.1542  \n",
      "555          216          -35.4292  \n"
     ]
    }
   ],
   "source": [
    "clean_train.shape\n",
    "duplicated_rows = clean_train.duplicated()\n",
    "print(f'Number of Duplicated Rows: {duplicated_rows.sum()}')\n",
    "\n",
    "duplicated_df = clean_train[duplicated_rows]\n",
    "\n",
    "# Print the duplicated DataFrame\n",
    "print(duplicated_df.sample(10))"
   ]
  },
  {
   "cell_type": "markdown",
   "id": "1cee2da2",
   "metadata": {},
   "source": [
    "**Data Type Conversion**"
   ]
  },
  {
   "cell_type": "code",
   "execution_count": 145,
   "id": "b5351b0f",
   "metadata": {},
   "outputs": [
    {
     "data": {
      "text/plain": [
       "Survived        int64\n",
       "Pclass          int64\n",
       "Age           float64\n",
       "SibSp           int64\n",
       "Parch           int64\n",
       "Fare          float64\n",
       "Sex_female      uint8\n",
       "Sex_male        uint8\n",
       "Embarked_C      uint8\n",
       "Embarked_Q      uint8\n",
       "Embarked_S      uint8\n",
       "dtype: object"
      ]
     },
     "execution_count": 145,
     "metadata": {},
     "output_type": "execute_result"
    }
   ],
   "source": [
    "#converting float to int for all columns that have whole number as float type\n",
    "for col in clean_train.columns:\n",
    "    if clean_train[col].dtype == 'float64' and all(clean_train[col].apply(lambda x: x.is_integer())):\n",
    "        clean_train[col] = clean_train[col].astype(int)\n",
    "clean_train.dtypes"
   ]
  },
  {
   "cell_type": "markdown",
   "id": "267ec377",
   "metadata": {},
   "source": [
    "# **Feature Engineering**"
   ]
  },
  {
   "cell_type": "code",
   "execution_count": 175,
   "id": "02ce377e",
   "metadata": {},
   "outputs": [
    {
     "data": {
      "text/html": [
       "<div>\n",
       "<style scoped>\n",
       "    .dataframe tbody tr th:only-of-type {\n",
       "        vertical-align: middle;\n",
       "    }\n",
       "\n",
       "    .dataframe tbody tr th {\n",
       "        vertical-align: top;\n",
       "    }\n",
       "\n",
       "    .dataframe thead th {\n",
       "        text-align: right;\n",
       "    }\n",
       "</style>\n",
       "<table border=\"1\" class=\"dataframe\">\n",
       "  <thead>\n",
       "    <tr style=\"text-align: right;\">\n",
       "      <th></th>\n",
       "      <th>Survived</th>\n",
       "      <th>Pclass</th>\n",
       "      <th>Age</th>\n",
       "      <th>SibSp</th>\n",
       "      <th>Parch</th>\n",
       "      <th>Fare</th>\n",
       "      <th>Sex_female</th>\n",
       "      <th>Sex_male</th>\n",
       "      <th>Embarked_C</th>\n",
       "      <th>Embarked_Q</th>\n",
       "      <th>Embarked_S</th>\n",
       "      <th>age_Pclass_median</th>\n",
       "      <th>fare_Pclass_median</th>\n",
       "      <th>age_Pclass_std</th>\n",
       "      <th>fare_Pclass_std</th>\n",
       "      <th>SibSp_count</th>\n",
       "      <th>Parch_count</th>\n",
       "      <th>fare_median_diff</th>\n",
       "    </tr>\n",
       "  </thead>\n",
       "  <tbody>\n",
       "    <tr>\n",
       "      <th>35</th>\n",
       "      <td>0</td>\n",
       "      <td>1</td>\n",
       "      <td>42.0</td>\n",
       "      <td>1</td>\n",
       "      <td>0</td>\n",
       "      <td>52.0000</td>\n",
       "      <td>0</td>\n",
       "      <td>1</td>\n",
       "      <td>0</td>\n",
       "      <td>0</td>\n",
       "      <td>1</td>\n",
       "      <td>35.0</td>\n",
       "      <td>61.9792</td>\n",
       "      <td>14.590796</td>\n",
       "      <td>77.383157</td>\n",
       "      <td>216</td>\n",
       "      <td>216</td>\n",
       "      <td>-9.9792</td>\n",
       "    </tr>\n",
       "    <tr>\n",
       "      <th>856</th>\n",
       "      <td>1</td>\n",
       "      <td>1</td>\n",
       "      <td>45.0</td>\n",
       "      <td>1</td>\n",
       "      <td>1</td>\n",
       "      <td>164.8667</td>\n",
       "      <td>1</td>\n",
       "      <td>0</td>\n",
       "      <td>0</td>\n",
       "      <td>0</td>\n",
       "      <td>1</td>\n",
       "      <td>35.0</td>\n",
       "      <td>61.9792</td>\n",
       "      <td>14.590796</td>\n",
       "      <td>77.383157</td>\n",
       "      <td>216</td>\n",
       "      <td>216</td>\n",
       "      <td>102.8875</td>\n",
       "    </tr>\n",
       "    <tr>\n",
       "      <th>280</th>\n",
       "      <td>0</td>\n",
       "      <td>3</td>\n",
       "      <td>65.0</td>\n",
       "      <td>0</td>\n",
       "      <td>0</td>\n",
       "      <td>7.7500</td>\n",
       "      <td>0</td>\n",
       "      <td>1</td>\n",
       "      <td>0</td>\n",
       "      <td>1</td>\n",
       "      <td>0</td>\n",
       "      <td>24.0</td>\n",
       "      <td>8.0500</td>\n",
       "      <td>10.632997</td>\n",
       "      <td>11.723991</td>\n",
       "      <td>491</td>\n",
       "      <td>491</td>\n",
       "      <td>-0.3000</td>\n",
       "    </tr>\n",
       "    <tr>\n",
       "      <th>809</th>\n",
       "      <td>1</td>\n",
       "      <td>1</td>\n",
       "      <td>33.0</td>\n",
       "      <td>1</td>\n",
       "      <td>0</td>\n",
       "      <td>53.1000</td>\n",
       "      <td>1</td>\n",
       "      <td>0</td>\n",
       "      <td>0</td>\n",
       "      <td>0</td>\n",
       "      <td>1</td>\n",
       "      <td>35.0</td>\n",
       "      <td>61.9792</td>\n",
       "      <td>14.590796</td>\n",
       "      <td>77.383157</td>\n",
       "      <td>216</td>\n",
       "      <td>216</td>\n",
       "      <td>-8.8792</td>\n",
       "    </tr>\n",
       "    <tr>\n",
       "      <th>374</th>\n",
       "      <td>0</td>\n",
       "      <td>3</td>\n",
       "      <td>3.0</td>\n",
       "      <td>3</td>\n",
       "      <td>1</td>\n",
       "      <td>21.0750</td>\n",
       "      <td>1</td>\n",
       "      <td>0</td>\n",
       "      <td>0</td>\n",
       "      <td>0</td>\n",
       "      <td>1</td>\n",
       "      <td>24.0</td>\n",
       "      <td>8.0500</td>\n",
       "      <td>10.632997</td>\n",
       "      <td>11.723991</td>\n",
       "      <td>491</td>\n",
       "      <td>491</td>\n",
       "      <td>13.0250</td>\n",
       "    </tr>\n",
       "    <tr>\n",
       "      <th>853</th>\n",
       "      <td>1</td>\n",
       "      <td>1</td>\n",
       "      <td>16.0</td>\n",
       "      <td>0</td>\n",
       "      <td>1</td>\n",
       "      <td>39.4000</td>\n",
       "      <td>1</td>\n",
       "      <td>0</td>\n",
       "      <td>0</td>\n",
       "      <td>0</td>\n",
       "      <td>1</td>\n",
       "      <td>35.0</td>\n",
       "      <td>61.9792</td>\n",
       "      <td>14.590796</td>\n",
       "      <td>77.383157</td>\n",
       "      <td>216</td>\n",
       "      <td>216</td>\n",
       "      <td>-22.5792</td>\n",
       "    </tr>\n",
       "    <tr>\n",
       "      <th>398</th>\n",
       "      <td>0</td>\n",
       "      <td>2</td>\n",
       "      <td>23.0</td>\n",
       "      <td>0</td>\n",
       "      <td>0</td>\n",
       "      <td>10.5000</td>\n",
       "      <td>0</td>\n",
       "      <td>1</td>\n",
       "      <td>0</td>\n",
       "      <td>0</td>\n",
       "      <td>1</td>\n",
       "      <td>28.0</td>\n",
       "      <td>15.0229</td>\n",
       "      <td>13.645488</td>\n",
       "      <td>12.916284</td>\n",
       "      <td>184</td>\n",
       "      <td>184</td>\n",
       "      <td>-4.5229</td>\n",
       "    </tr>\n",
       "    <tr>\n",
       "      <th>322</th>\n",
       "      <td>1</td>\n",
       "      <td>2</td>\n",
       "      <td>30.0</td>\n",
       "      <td>0</td>\n",
       "      <td>0</td>\n",
       "      <td>12.3500</td>\n",
       "      <td>1</td>\n",
       "      <td>0</td>\n",
       "      <td>0</td>\n",
       "      <td>1</td>\n",
       "      <td>0</td>\n",
       "      <td>28.0</td>\n",
       "      <td>15.0229</td>\n",
       "      <td>13.645488</td>\n",
       "      <td>12.916284</td>\n",
       "      <td>184</td>\n",
       "      <td>184</td>\n",
       "      <td>-2.6729</td>\n",
       "    </tr>\n",
       "    <tr>\n",
       "      <th>762</th>\n",
       "      <td>1</td>\n",
       "      <td>3</td>\n",
       "      <td>20.0</td>\n",
       "      <td>0</td>\n",
       "      <td>0</td>\n",
       "      <td>7.2292</td>\n",
       "      <td>0</td>\n",
       "      <td>1</td>\n",
       "      <td>1</td>\n",
       "      <td>0</td>\n",
       "      <td>0</td>\n",
       "      <td>24.0</td>\n",
       "      <td>8.0500</td>\n",
       "      <td>10.632997</td>\n",
       "      <td>11.723991</td>\n",
       "      <td>491</td>\n",
       "      <td>491</td>\n",
       "      <td>-0.8208</td>\n",
       "    </tr>\n",
       "    <tr>\n",
       "      <th>813</th>\n",
       "      <td>0</td>\n",
       "      <td>3</td>\n",
       "      <td>6.0</td>\n",
       "      <td>4</td>\n",
       "      <td>2</td>\n",
       "      <td>31.2750</td>\n",
       "      <td>1</td>\n",
       "      <td>0</td>\n",
       "      <td>0</td>\n",
       "      <td>0</td>\n",
       "      <td>1</td>\n",
       "      <td>24.0</td>\n",
       "      <td>8.0500</td>\n",
       "      <td>10.632997</td>\n",
       "      <td>11.723991</td>\n",
       "      <td>491</td>\n",
       "      <td>491</td>\n",
       "      <td>23.2250</td>\n",
       "    </tr>\n",
       "  </tbody>\n",
       "</table>\n",
       "</div>"
      ],
      "text/plain": [
       "     Survived  Pclass   Age  SibSp  Parch      Fare  Sex_female  Sex_male  \\\n",
       "35          0       1  42.0      1      0   52.0000           0         1   \n",
       "856         1       1  45.0      1      1  164.8667           1         0   \n",
       "280         0       3  65.0      0      0    7.7500           0         1   \n",
       "809         1       1  33.0      1      0   53.1000           1         0   \n",
       "374         0       3   3.0      3      1   21.0750           1         0   \n",
       "853         1       1  16.0      0      1   39.4000           1         0   \n",
       "398         0       2  23.0      0      0   10.5000           0         1   \n",
       "322         1       2  30.0      0      0   12.3500           1         0   \n",
       "762         1       3  20.0      0      0    7.2292           0         1   \n",
       "813         0       3   6.0      4      2   31.2750           1         0   \n",
       "\n",
       "     Embarked_C  Embarked_Q  Embarked_S  age_Pclass_median  \\\n",
       "35            0           0           1               35.0   \n",
       "856           0           0           1               35.0   \n",
       "280           0           1           0               24.0   \n",
       "809           0           0           1               35.0   \n",
       "374           0           0           1               24.0   \n",
       "853           0           0           1               35.0   \n",
       "398           0           0           1               28.0   \n",
       "322           0           1           0               28.0   \n",
       "762           1           0           0               24.0   \n",
       "813           0           0           1               24.0   \n",
       "\n",
       "     fare_Pclass_median  age_Pclass_std  fare_Pclass_std  SibSp_count  \\\n",
       "35              61.9792       14.590796        77.383157          216   \n",
       "856             61.9792       14.590796        77.383157          216   \n",
       "280              8.0500       10.632997        11.723991          491   \n",
       "809             61.9792       14.590796        77.383157          216   \n",
       "374              8.0500       10.632997        11.723991          491   \n",
       "853             61.9792       14.590796        77.383157          216   \n",
       "398             15.0229       13.645488        12.916284          184   \n",
       "322             15.0229       13.645488        12.916284          184   \n",
       "762              8.0500       10.632997        11.723991          491   \n",
       "813              8.0500       10.632997        11.723991          491   \n",
       "\n",
       "     Parch_count  fare_median_diff  \n",
       "35           216           -9.9792  \n",
       "856          216          102.8875  \n",
       "280          491           -0.3000  \n",
       "809          216           -8.8792  \n",
       "374          491           13.0250  \n",
       "853          216          -22.5792  \n",
       "398          184           -4.5229  \n",
       "322          184           -2.6729  \n",
       "762          491           -0.8208  \n",
       "813          491           23.2250  "
      ]
     },
     "execution_count": 175,
     "metadata": {},
     "output_type": "execute_result"
    }
   ],
   "source": [
    "#categorical column = Pclass\n",
    "#Num columns to be aggregated = Age(median,std), SibSp(count), Parch(count), Fare(median,std,actual-median)\n",
    "\n",
    "grouped_train = clean_train.groupby('Pclass')\n",
    "\n",
    "#Since age and fare distrubutions are skewed, I chose median\n",
    "clean_train[['age_Pclass_median','fare_Pclass_median']] = grouped_train[['Age', 'Fare']].transform('median')\n",
    "\n",
    "clean_train[['age_Pclass_std','fare_Pclass_std']] = grouped_train[['Age', 'Fare']].transform('std')\n",
    "\n",
    "clean_train[['SibSp_count','Parch_count']] = grouped_train[['SibSp', 'Parch']].transform('count') \n",
    "\n",
    "#fare-median\n",
    "clean_train['fare_median_diff'] = clean_train['Fare']-clean_train['fare_Pclass_median']\n",
    "\n",
    "clean_train.sample(10)"
   ]
  },
  {
   "cell_type": "markdown",
   "id": "edeb61e4",
   "metadata": {},
   "source": [
    "# Cleaning test data"
   ]
  },
  {
   "cell_type": "code",
   "execution_count": 45,
   "id": "e91660e0",
   "metadata": {},
   "outputs": [
    {
     "name": "stdout",
     "output_type": "stream",
     "text": [
      "PassengerId       1045\n",
      "Pclass               3\n",
      "Sex             female\n",
      "Age               36.0\n",
      "SibSp                0\n",
      "Parch                2\n",
      "Fare           12.1833\n",
      "Embarked             S\n",
      "Name: 153, dtype: object\n",
      "\n",
      "PassengerId    NaN\n",
      "Pclass         NaN\n",
      "Age            NaN\n",
      "SibSp          NaN\n",
      "Parch          NaN\n",
      "Fare           NaN\n",
      "Sex_female     1.0\n",
      "Sex_male       0.0\n",
      "Embarked_C     0.0\n",
      "Embarked_Q     0.0\n",
      "Embarked_S     1.0\n",
      "Name: 152, dtype: float64\n",
      "\n",
      "     PassengerId  Pclass   Age  SibSp  Parch     Fare  Sex_female  Sex_male  \\\n",
      "152          NaN     NaN   NaN    NaN    NaN      NaN         1.0       0.0   \n",
      "266          NaN     NaN   NaN    NaN    NaN      NaN         1.0       0.0   \n",
      "372          NaN     NaN   NaN    NaN    NaN      NaN         1.0       0.0   \n",
      "415       1307.0     3.0  38.5    0.0    0.0   7.2500         NaN       NaN   \n",
      "416       1308.0     3.0  21.0    0.0    0.0   8.0500         NaN       NaN   \n",
      "417       1309.0     3.0  21.0    1.0    1.0  22.3583         NaN       NaN   \n",
      "\n",
      "     Embarked_C  Embarked_Q  Embarked_S  \n",
      "152         0.0         0.0         1.0  \n",
      "266         0.0         0.0         1.0  \n",
      "372         1.0         0.0         0.0  \n",
      "415         NaN         NaN         NaN  \n",
      "416         NaN         NaN         NaN  \n",
      "417         NaN         NaN         NaN  \n"
     ]
    },
    {
     "data": {
      "text/plain": [
       "(418, 18)"
      ]
     },
     "execution_count": 45,
     "metadata": {},
     "output_type": "execute_result"
    }
   ],
   "source": [
    "clean_test = test.copy()\n",
    "def clean(clean_test):\n",
    "    clean_test = clean_test[clean_test['Fare']>0]\n",
    "    clean_test = clean_test.drop(columns=['Ticket'])\n",
    "    clean_test = clean_test.drop(columns=['Name'])\n",
    "    clean_test = clean_test.drop(columns=['Cabin'])\n",
    "    clean_test['Age'].fillna(clean_test['Age'].mode().iloc[0], inplace=True)\n",
    "    clean_test['Embarked'].fillna(clean_test['Embarked'].mode().iloc[0], inplace=True)\n",
    "    \n",
    "    print(clean_test.iloc[152])\n",
    "    print()\n",
    "    ohe = OneHotEncoder(handle_unknown='ignore') \n",
    "    test_object = clean_test.select_dtypes('object')\n",
    "    ohe.fit(test_object)\n",
    "    codes = ohe.transform(test_object).toarray()\n",
    "    feature_names = ohe.get_feature_names_out(['Sex', 'Embarked'])\n",
    "    clean_test = pd.concat([clean_test.select_dtypes(exclude='object'), \n",
    "                   pd.DataFrame(codes,columns=feature_names)], axis=1)\n",
    "    \n",
    "    \n",
    "    print(clean_test.iloc[152])\n",
    "    print()\n",
    "    #clean_test = clean_test.dropna() can't drop NA because submission requires 418 rows\n",
    "    nan_mask = clean_test.isna().any(axis=1)\n",
    "\n",
    "    # use the boolean mask to index the DataFrame and show only the rows with NaN values\n",
    "    rows_with_nan = clean_test.loc[nan_mask]\n",
    "    print(rows_with_nan)\n",
    "    \n",
    "    \n",
    "    \n",
    "    for col in clean_test.columns:\n",
    "        if clean_test[col].dtype == 'float64' and all(clean_test[col].apply(lambda x: x.is_integer())):\n",
    "            clean_test[col] = clean_test[col].astype(int)\n",
    "            \n",
    "    grouped_test = clean_test.groupby('Pclass')\n",
    "\n",
    "    clean_test[['age_Pclass_median','fare_Pclass_median']] = grouped_test[['Age', 'Fare']].transform('median')\n",
    "    clean_test[['age_Pclass_std','fare_Pclass_std']] = grouped_test[['Age', 'Fare']].transform('std')\n",
    "    clean_test[['SibSp_count','Parch_count']] = grouped_test[['SibSp', 'Parch']].transform('count') \n",
    "    clean_test['fare_median_diff'] = clean_test['Fare']-clean_test['fare_Pclass_median']\n",
    "    return clean_test\n",
    "\n",
    "clean_test = clean(clean_test)\n",
    "clean_test.shape"
   ]
  },
  {
   "cell_type": "markdown",
   "id": "ffcfa575",
   "metadata": {},
   "source": [
    "**Duplicates after cleaning**"
   ]
  },
  {
   "cell_type": "code",
   "execution_count": 43,
   "id": "40f4bce0",
   "metadata": {},
   "outputs": [
    {
     "name": "stdout",
     "output_type": "stream",
     "text": [
      "     PassengerId  Pclass  Age  SibSp  Parch  Fare  Sex_female  Sex_male  \\\n",
      "152          NaN     NaN  NaN    NaN    NaN   NaN         1.0       0.0   \n",
      "266          NaN     NaN  NaN    NaN    NaN   NaN         1.0       0.0   \n",
      "\n",
      "     Embarked_C  Embarked_Q  Embarked_S  age_Pclass_median  \\\n",
      "152         0.0         0.0         1.0                NaN   \n",
      "266         0.0         0.0         1.0                NaN   \n",
      "\n",
      "     fare_Pclass_median  age_Pclass_std  fare_Pclass_std  SibSp_count  \\\n",
      "152                 NaN             NaN              NaN          NaN   \n",
      "266                 NaN             NaN              NaN          NaN   \n",
      "\n",
      "     Parch_count  fare_median_diff  \n",
      "152          NaN               NaN  \n",
      "266          NaN               NaN  \n",
      "Number of Duplicated Rows: 0\n",
      "Number of Duplicated Rows: 1\n",
      "Shape of train data before dropping Survived col:(766, 18)\n",
      "Shape of train data before dropping Survived col:(418, 18)\n"
     ]
    }
   ],
   "source": [
    "train_dup_rows = clean_train.duplicated()\n",
    "test_dup_rows = clean_test.duplicated()\n",
    "\n",
    "duplicate_rows = clean_test[clean_test.duplicated(keep=False)]\n",
    "print(duplicate_rows)\n",
    "\n",
    "#print(test_dup_rows.head())\n",
    "\n",
    "\n",
    "print(f'Number of Duplicated Rows: {train_dup_rows.sum()}')\n",
    "print(f'Number of Duplicated Rows: {test_dup_rows.sum()}')\n",
    "print(f'Shape of train data before dropping Survived col:{clean_train.shape}')\n",
    "print(f'Shape of train data before dropping Survived col:{clean_test.shape}')\n",
    "\n",
    "#removing duplicate rows\n",
    "clean_train = clean_train[~train_dup_rows]\n",
    "\n",
    "\n",
    "#clean_test.head()"
   ]
  },
  {
   "cell_type": "markdown",
   "id": "7db894cf",
   "metadata": {},
   "source": [
    "# **Baseline Model**"
   ]
  },
  {
   "cell_type": "code",
   "execution_count": 175,
   "id": "311cdc1a",
   "metadata": {},
   "outputs": [
    {
     "ename": "ValueError",
     "evalue": "Input X contains NaN.\nLogisticRegression does not accept missing values encoded as NaN natively. For supervised learning, you might want to consider sklearn.ensemble.HistGradientBoostingClassifier and Regressor which accept missing values encoded as NaNs natively. Alternatively, it is possible to preprocess the data, for instance by using an imputer transformer in a pipeline or drop samples with missing values. See https://scikit-learn.org/stable/modules/impute.html You can find a list of all estimators that handle NaN values at the following page: https://scikit-learn.org/stable/modules/impute.html#estimators-that-handle-nan-values",
     "output_type": "error",
     "traceback": [
      "\u001b[1;31m---------------------------------------------------------------------------\u001b[0m",
      "\u001b[1;31mValueError\u001b[0m                                Traceback (most recent call last)",
      "\u001b[1;32m~\\AppData\\Local\\Temp/ipykernel_21672/2356036769.py\u001b[0m in \u001b[0;36m<module>\u001b[1;34m\u001b[0m\n\u001b[0;32m     16\u001b[0m \u001b[1;33m\u001b[0m\u001b[0m\n\u001b[0;32m     17\u001b[0m \u001b[1;33m\u001b[0m\u001b[0m\n\u001b[1;32m---> 18\u001b[1;33m \u001b[0mpredictions\u001b[0m \u001b[1;33m=\u001b[0m \u001b[0mlogisticRegr\u001b[0m\u001b[1;33m.\u001b[0m\u001b[0mpredict\u001b[0m\u001b[1;33m(\u001b[0m\u001b[0mx_test\u001b[0m\u001b[1;33m)\u001b[0m\u001b[1;33m\u001b[0m\u001b[1;33m\u001b[0m\u001b[0m\n\u001b[0m\u001b[0;32m     19\u001b[0m \u001b[1;33m\u001b[0m\u001b[0m\n\u001b[0;32m     20\u001b[0m \u001b[1;31m#submission file\u001b[0m\u001b[1;33m\u001b[0m\u001b[1;33m\u001b[0m\u001b[0m\n",
      "\u001b[1;32m~\\AppData\\Local\\Programs\\Python\\Python39\\lib\\site-packages\\sklearn\\linear_model\\_base.py\u001b[0m in \u001b[0;36mpredict\u001b[1;34m(self, X)\u001b[0m\n\u001b[0;32m    417\u001b[0m         \"\"\"\n\u001b[0;32m    418\u001b[0m         \u001b[0mxp\u001b[0m\u001b[1;33m,\u001b[0m \u001b[0m_\u001b[0m \u001b[1;33m=\u001b[0m \u001b[0mget_namespace\u001b[0m\u001b[1;33m(\u001b[0m\u001b[0mX\u001b[0m\u001b[1;33m)\u001b[0m\u001b[1;33m\u001b[0m\u001b[1;33m\u001b[0m\u001b[0m\n\u001b[1;32m--> 419\u001b[1;33m         \u001b[0mscores\u001b[0m \u001b[1;33m=\u001b[0m \u001b[0mself\u001b[0m\u001b[1;33m.\u001b[0m\u001b[0mdecision_function\u001b[0m\u001b[1;33m(\u001b[0m\u001b[0mX\u001b[0m\u001b[1;33m)\u001b[0m\u001b[1;33m\u001b[0m\u001b[1;33m\u001b[0m\u001b[0m\n\u001b[0m\u001b[0;32m    420\u001b[0m         \u001b[1;32mif\u001b[0m \u001b[0mlen\u001b[0m\u001b[1;33m(\u001b[0m\u001b[0mscores\u001b[0m\u001b[1;33m.\u001b[0m\u001b[0mshape\u001b[0m\u001b[1;33m)\u001b[0m \u001b[1;33m==\u001b[0m \u001b[1;36m1\u001b[0m\u001b[1;33m:\u001b[0m\u001b[1;33m\u001b[0m\u001b[1;33m\u001b[0m\u001b[0m\n\u001b[0;32m    421\u001b[0m             \u001b[0mindices\u001b[0m \u001b[1;33m=\u001b[0m \u001b[0mxp\u001b[0m\u001b[1;33m.\u001b[0m\u001b[0mastype\u001b[0m\u001b[1;33m(\u001b[0m\u001b[0mscores\u001b[0m \u001b[1;33m>\u001b[0m \u001b[1;36m0\u001b[0m\u001b[1;33m,\u001b[0m \u001b[0mint\u001b[0m\u001b[1;33m)\u001b[0m\u001b[1;33m\u001b[0m\u001b[1;33m\u001b[0m\u001b[0m\n",
      "\u001b[1;32m~\\AppData\\Local\\Programs\\Python\\Python39\\lib\\site-packages\\sklearn\\linear_model\\_base.py\u001b[0m in \u001b[0;36mdecision_function\u001b[1;34m(self, X)\u001b[0m\n\u001b[0;32m    398\u001b[0m         \u001b[0mxp\u001b[0m\u001b[1;33m,\u001b[0m \u001b[0m_\u001b[0m \u001b[1;33m=\u001b[0m \u001b[0mget_namespace\u001b[0m\u001b[1;33m(\u001b[0m\u001b[0mX\u001b[0m\u001b[1;33m)\u001b[0m\u001b[1;33m\u001b[0m\u001b[1;33m\u001b[0m\u001b[0m\n\u001b[0;32m    399\u001b[0m \u001b[1;33m\u001b[0m\u001b[0m\n\u001b[1;32m--> 400\u001b[1;33m         \u001b[0mX\u001b[0m \u001b[1;33m=\u001b[0m \u001b[0mself\u001b[0m\u001b[1;33m.\u001b[0m\u001b[0m_validate_data\u001b[0m\u001b[1;33m(\u001b[0m\u001b[0mX\u001b[0m\u001b[1;33m,\u001b[0m \u001b[0maccept_sparse\u001b[0m\u001b[1;33m=\u001b[0m\u001b[1;34m\"csr\"\u001b[0m\u001b[1;33m,\u001b[0m \u001b[0mreset\u001b[0m\u001b[1;33m=\u001b[0m\u001b[1;32mFalse\u001b[0m\u001b[1;33m)\u001b[0m\u001b[1;33m\u001b[0m\u001b[1;33m\u001b[0m\u001b[0m\n\u001b[0m\u001b[0;32m    401\u001b[0m         \u001b[0mscores\u001b[0m \u001b[1;33m=\u001b[0m \u001b[0msafe_sparse_dot\u001b[0m\u001b[1;33m(\u001b[0m\u001b[0mX\u001b[0m\u001b[1;33m,\u001b[0m \u001b[0mself\u001b[0m\u001b[1;33m.\u001b[0m\u001b[0mcoef_\u001b[0m\u001b[1;33m.\u001b[0m\u001b[0mT\u001b[0m\u001b[1;33m,\u001b[0m \u001b[0mdense_output\u001b[0m\u001b[1;33m=\u001b[0m\u001b[1;32mTrue\u001b[0m\u001b[1;33m)\u001b[0m \u001b[1;33m+\u001b[0m \u001b[0mself\u001b[0m\u001b[1;33m.\u001b[0m\u001b[0mintercept_\u001b[0m\u001b[1;33m\u001b[0m\u001b[1;33m\u001b[0m\u001b[0m\n\u001b[0;32m    402\u001b[0m         \u001b[1;32mreturn\u001b[0m \u001b[0mxp\u001b[0m\u001b[1;33m.\u001b[0m\u001b[0mreshape\u001b[0m\u001b[1;33m(\u001b[0m\u001b[0mscores\u001b[0m\u001b[1;33m,\u001b[0m \u001b[1;33m-\u001b[0m\u001b[1;36m1\u001b[0m\u001b[1;33m)\u001b[0m \u001b[1;32mif\u001b[0m \u001b[0mscores\u001b[0m\u001b[1;33m.\u001b[0m\u001b[0mshape\u001b[0m\u001b[1;33m[\u001b[0m\u001b[1;36m1\u001b[0m\u001b[1;33m]\u001b[0m \u001b[1;33m==\u001b[0m \u001b[1;36m1\u001b[0m \u001b[1;32melse\u001b[0m \u001b[0mscores\u001b[0m\u001b[1;33m\u001b[0m\u001b[1;33m\u001b[0m\u001b[0m\n",
      "\u001b[1;32m~\\AppData\\Local\\Programs\\Python\\Python39\\lib\\site-packages\\sklearn\\base.py\u001b[0m in \u001b[0;36m_validate_data\u001b[1;34m(self, X, y, reset, validate_separately, **check_params)\u001b[0m\n\u001b[0;32m    563\u001b[0m             \u001b[1;32mraise\u001b[0m \u001b[0mValueError\u001b[0m\u001b[1;33m(\u001b[0m\u001b[1;34m\"Validation should be done on X, y or both.\"\u001b[0m\u001b[1;33m)\u001b[0m\u001b[1;33m\u001b[0m\u001b[1;33m\u001b[0m\u001b[0m\n\u001b[0;32m    564\u001b[0m         \u001b[1;32melif\u001b[0m \u001b[1;32mnot\u001b[0m \u001b[0mno_val_X\u001b[0m \u001b[1;32mand\u001b[0m \u001b[0mno_val_y\u001b[0m\u001b[1;33m:\u001b[0m\u001b[1;33m\u001b[0m\u001b[1;33m\u001b[0m\u001b[0m\n\u001b[1;32m--> 565\u001b[1;33m             \u001b[0mX\u001b[0m \u001b[1;33m=\u001b[0m \u001b[0mcheck_array\u001b[0m\u001b[1;33m(\u001b[0m\u001b[0mX\u001b[0m\u001b[1;33m,\u001b[0m \u001b[0minput_name\u001b[0m\u001b[1;33m=\u001b[0m\u001b[1;34m\"X\"\u001b[0m\u001b[1;33m,\u001b[0m \u001b[1;33m**\u001b[0m\u001b[0mcheck_params\u001b[0m\u001b[1;33m)\u001b[0m\u001b[1;33m\u001b[0m\u001b[1;33m\u001b[0m\u001b[0m\n\u001b[0m\u001b[0;32m    566\u001b[0m             \u001b[0mout\u001b[0m \u001b[1;33m=\u001b[0m \u001b[0mX\u001b[0m\u001b[1;33m\u001b[0m\u001b[1;33m\u001b[0m\u001b[0m\n\u001b[0;32m    567\u001b[0m         \u001b[1;32melif\u001b[0m \u001b[0mno_val_X\u001b[0m \u001b[1;32mand\u001b[0m \u001b[1;32mnot\u001b[0m \u001b[0mno_val_y\u001b[0m\u001b[1;33m:\u001b[0m\u001b[1;33m\u001b[0m\u001b[1;33m\u001b[0m\u001b[0m\n",
      "\u001b[1;32m~\\AppData\\Local\\Programs\\Python\\Python39\\lib\\site-packages\\sklearn\\utils\\validation.py\u001b[0m in \u001b[0;36mcheck_array\u001b[1;34m(array, accept_sparse, accept_large_sparse, dtype, order, copy, force_all_finite, ensure_2d, allow_nd, ensure_min_samples, ensure_min_features, estimator, input_name)\u001b[0m\n\u001b[0;32m    919\u001b[0m \u001b[1;33m\u001b[0m\u001b[0m\n\u001b[0;32m    920\u001b[0m         \u001b[1;32mif\u001b[0m \u001b[0mforce_all_finite\u001b[0m\u001b[1;33m:\u001b[0m\u001b[1;33m\u001b[0m\u001b[1;33m\u001b[0m\u001b[0m\n\u001b[1;32m--> 921\u001b[1;33m             _assert_all_finite(\n\u001b[0m\u001b[0;32m    922\u001b[0m                 \u001b[0marray\u001b[0m\u001b[1;33m,\u001b[0m\u001b[1;33m\u001b[0m\u001b[1;33m\u001b[0m\u001b[0m\n\u001b[0;32m    923\u001b[0m                 \u001b[0minput_name\u001b[0m\u001b[1;33m=\u001b[0m\u001b[0minput_name\u001b[0m\u001b[1;33m,\u001b[0m\u001b[1;33m\u001b[0m\u001b[1;33m\u001b[0m\u001b[0m\n",
      "\u001b[1;32m~\\AppData\\Local\\Programs\\Python\\Python39\\lib\\site-packages\\sklearn\\utils\\validation.py\u001b[0m in \u001b[0;36m_assert_all_finite\u001b[1;34m(X, allow_nan, msg_dtype, estimator_name, input_name)\u001b[0m\n\u001b[0;32m    159\u001b[0m                 \u001b[1;34m\"#estimators-that-handle-nan-values\"\u001b[0m\u001b[1;33m\u001b[0m\u001b[1;33m\u001b[0m\u001b[0m\n\u001b[0;32m    160\u001b[0m             )\n\u001b[1;32m--> 161\u001b[1;33m         \u001b[1;32mraise\u001b[0m \u001b[0mValueError\u001b[0m\u001b[1;33m(\u001b[0m\u001b[0mmsg_err\u001b[0m\u001b[1;33m)\u001b[0m\u001b[1;33m\u001b[0m\u001b[1;33m\u001b[0m\u001b[0m\n\u001b[0m\u001b[0;32m    162\u001b[0m \u001b[1;33m\u001b[0m\u001b[0m\n\u001b[0;32m    163\u001b[0m \u001b[1;33m\u001b[0m\u001b[0m\n",
      "\u001b[1;31mValueError\u001b[0m: Input X contains NaN.\nLogisticRegression does not accept missing values encoded as NaN natively. For supervised learning, you might want to consider sklearn.ensemble.HistGradientBoostingClassifier and Regressor which accept missing values encoded as NaNs natively. Alternatively, it is possible to preprocess the data, for instance by using an imputer transformer in a pipeline or drop samples with missing values. See https://scikit-learn.org/stable/modules/impute.html You can find a list of all estimators that handle NaN values at the following page: https://scikit-learn.org/stable/modules/impute.html#estimators-that-handle-nan-values"
     ]
    }
   ],
   "source": [
    "#log regression; only using Pclass variable as it has highest correlation with Survived\n",
    "\n",
    "y_train = clean_train['Survived']\n",
    "x_train = clean_train.drop(columns=['Survived'])\n",
    "\n",
    "x_test = clean_test.drop(columns=['PassengerId'])\n",
    "ids = clean_test['PassengerId'].values\n",
    "\n",
    "\n",
    "sc=StandardScaler()\n",
    "x_train=sc.fit_transform(x_train)\n",
    "x_test=sc.transform(x_test)\n",
    "\n",
    "baseline = LogisticRegression(class_weight=\"balanced\")\n",
    "baseline.fit(x_train, y_train)\n",
    "\n",
    "\n",
    "predictions = logisticRegr.predict(x_test)\n",
    "\n",
    "#submission file\n",
    "sub = pd.DataFrame()\n",
    "sub['PassengerId'] = ids.astype('int')\n",
    "sub['Survived'] = predictions\n",
    "\n",
    "subfolder_name = 'Submission'\n",
    "filename = 'baseline.csv'\n",
    "filepath = os.path.join(subfolder_name, filename)\n",
    "sub.to_csv(filepath, index=False, float_format='%.5f')\n",
    "print(\"Done!\")"
   ]
  },
  {
   "cell_type": "code",
   "execution_count": null,
   "id": "8a39196d",
   "metadata": {},
   "outputs": [],
   "source": []
  }
 ],
 "metadata": {
  "kernelspec": {
   "display_name": "Python 3 (ipykernel)",
   "language": "python",
   "name": "python3"
  },
  "language_info": {
   "codemirror_mode": {
    "name": "ipython",
    "version": 3
   },
   "file_extension": ".py",
   "mimetype": "text/x-python",
   "name": "python",
   "nbconvert_exporter": "python",
   "pygments_lexer": "ipython3",
   "version": "3.9.7"
  }
 },
 "nbformat": 4,
 "nbformat_minor": 5
}
