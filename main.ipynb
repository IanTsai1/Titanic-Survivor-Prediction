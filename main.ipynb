{
 "cells": [
  {
   "cell_type": "code",
   "execution_count": 1,
   "id": "00a97214",
   "metadata": {},
   "outputs": [
    {
     "name": "stderr",
     "output_type": "stream",
     "text": [
      "C:\\Users\\Ian\\AppData\\Local\\Programs\\Python\\Python39\\lib\\site-packages\\numpy\\_distributor_init.py:30: UserWarning: loaded more than 1 DLL from .libs:\n",
      "C:\\Users\\Ian\\AppData\\Local\\Programs\\Python\\Python39\\lib\\site-packages\\numpy\\.libs\\libopenblas.FB5AE2TYXYH2IJRDKGDGQ3XBKLKTF43H.gfortran-win_amd64.dll\n",
      "C:\\Users\\Ian\\AppData\\Local\\Programs\\Python\\Python39\\lib\\site-packages\\numpy\\.libs\\libopenblas.XWYDX2IKJW2NMTWSFYNGFUWKQU3LYTCZ.gfortran-win_amd64.dll\n",
      "  warnings.warn(\"loaded more than 1 DLL from .libs:\"\n"
     ]
    }
   ],
   "source": [
    "import numpy as np\n",
    "from tensorflow.keras.models import Sequential\n",
    "from tensorflow.keras.layers import Dense, Dropout, Activation, Flatten\n",
    "from tensorflow.keras.layers import Conv2D, MaxPooling2D\n",
    "from tensorflow.keras.callbacks import TensorBoard\n",
    "import pickle\n",
    "import time\n",
    "import pandas as pd\n",
    "import matplotlib.pyplot as plt\n",
    "import seaborn as sns\n",
    "%matplotlib inline\n",
    "import pylab \n",
    "import scipy.stats as stats\n",
    "from sklearn.preprocessing import PowerTransformer\n",
    "from sklearn.preprocessing import OneHotEncoder\n",
    "import missingno as msno\n",
    "from sklearn.preprocessing import StandardScaler\n",
    "from sklearn.linear_model import LogisticRegression\n",
    "import os\n",
    "from sklearn.compose import ColumnTransformer"
   ]
  },
  {
   "cell_type": "markdown",
   "id": "03f8e310",
   "metadata": {},
   "source": [
    "# **Data Cleaning**"
   ]
  },
  {
   "cell_type": "code",
   "execution_count": 2,
   "id": "5d9125e0",
   "metadata": {},
   "outputs": [
    {
     "name": "stdout",
     "output_type": "stream",
     "text": [
      "(891, 12)\n"
     ]
    },
    {
     "data": {
      "text/html": [
       "<div>\n",
       "<style scoped>\n",
       "    .dataframe tbody tr th:only-of-type {\n",
       "        vertical-align: middle;\n",
       "    }\n",
       "\n",
       "    .dataframe tbody tr th {\n",
       "        vertical-align: top;\n",
       "    }\n",
       "\n",
       "    .dataframe thead th {\n",
       "        text-align: right;\n",
       "    }\n",
       "</style>\n",
       "<table border=\"1\" class=\"dataframe\">\n",
       "  <thead>\n",
       "    <tr style=\"text-align: right;\">\n",
       "      <th></th>\n",
       "      <th>PassengerId</th>\n",
       "      <th>Survived</th>\n",
       "      <th>Pclass</th>\n",
       "      <th>Name</th>\n",
       "      <th>Sex</th>\n",
       "      <th>Age</th>\n",
       "      <th>SibSp</th>\n",
       "      <th>Parch</th>\n",
       "      <th>Ticket</th>\n",
       "      <th>Fare</th>\n",
       "      <th>Cabin</th>\n",
       "      <th>Embarked</th>\n",
       "    </tr>\n",
       "  </thead>\n",
       "  <tbody>\n",
       "    <tr>\n",
       "      <th>0</th>\n",
       "      <td>1</td>\n",
       "      <td>0</td>\n",
       "      <td>3</td>\n",
       "      <td>Braund, Mr. Owen Harris</td>\n",
       "      <td>male</td>\n",
       "      <td>22.0</td>\n",
       "      <td>1</td>\n",
       "      <td>0</td>\n",
       "      <td>A/5 21171</td>\n",
       "      <td>7.2500</td>\n",
       "      <td>NaN</td>\n",
       "      <td>S</td>\n",
       "    </tr>\n",
       "    <tr>\n",
       "      <th>1</th>\n",
       "      <td>2</td>\n",
       "      <td>1</td>\n",
       "      <td>1</td>\n",
       "      <td>Cumings, Mrs. John Bradley (Florence Briggs Th...</td>\n",
       "      <td>female</td>\n",
       "      <td>38.0</td>\n",
       "      <td>1</td>\n",
       "      <td>0</td>\n",
       "      <td>PC 17599</td>\n",
       "      <td>71.2833</td>\n",
       "      <td>C85</td>\n",
       "      <td>C</td>\n",
       "    </tr>\n",
       "    <tr>\n",
       "      <th>2</th>\n",
       "      <td>3</td>\n",
       "      <td>1</td>\n",
       "      <td>3</td>\n",
       "      <td>Heikkinen, Miss. Laina</td>\n",
       "      <td>female</td>\n",
       "      <td>26.0</td>\n",
       "      <td>0</td>\n",
       "      <td>0</td>\n",
       "      <td>STON/O2. 3101282</td>\n",
       "      <td>7.9250</td>\n",
       "      <td>NaN</td>\n",
       "      <td>S</td>\n",
       "    </tr>\n",
       "    <tr>\n",
       "      <th>3</th>\n",
       "      <td>4</td>\n",
       "      <td>1</td>\n",
       "      <td>1</td>\n",
       "      <td>Futrelle, Mrs. Jacques Heath (Lily May Peel)</td>\n",
       "      <td>female</td>\n",
       "      <td>35.0</td>\n",
       "      <td>1</td>\n",
       "      <td>0</td>\n",
       "      <td>113803</td>\n",
       "      <td>53.1000</td>\n",
       "      <td>C123</td>\n",
       "      <td>S</td>\n",
       "    </tr>\n",
       "    <tr>\n",
       "      <th>4</th>\n",
       "      <td>5</td>\n",
       "      <td>0</td>\n",
       "      <td>3</td>\n",
       "      <td>Allen, Mr. William Henry</td>\n",
       "      <td>male</td>\n",
       "      <td>35.0</td>\n",
       "      <td>0</td>\n",
       "      <td>0</td>\n",
       "      <td>373450</td>\n",
       "      <td>8.0500</td>\n",
       "      <td>NaN</td>\n",
       "      <td>S</td>\n",
       "    </tr>\n",
       "  </tbody>\n",
       "</table>\n",
       "</div>"
      ],
      "text/plain": [
       "   PassengerId  Survived  Pclass  \\\n",
       "0            1         0       3   \n",
       "1            2         1       1   \n",
       "2            3         1       3   \n",
       "3            4         1       1   \n",
       "4            5         0       3   \n",
       "\n",
       "                                                Name     Sex   Age  SibSp  \\\n",
       "0                            Braund, Mr. Owen Harris    male  22.0      1   \n",
       "1  Cumings, Mrs. John Bradley (Florence Briggs Th...  female  38.0      1   \n",
       "2                             Heikkinen, Miss. Laina  female  26.0      0   \n",
       "3       Futrelle, Mrs. Jacques Heath (Lily May Peel)  female  35.0      1   \n",
       "4                           Allen, Mr. William Henry    male  35.0      0   \n",
       "\n",
       "   Parch            Ticket     Fare Cabin Embarked  \n",
       "0      0         A/5 21171   7.2500   NaN        S  \n",
       "1      0          PC 17599  71.2833   C85        C  \n",
       "2      0  STON/O2. 3101282   7.9250   NaN        S  \n",
       "3      0            113803  53.1000  C123        S  \n",
       "4      0            373450   8.0500   NaN        S  "
      ]
     },
     "execution_count": 2,
     "metadata": {},
     "output_type": "execute_result"
    }
   ],
   "source": [
    "train = pd.read_csv(\"train.csv\")\n",
    "test = pd.read_csv(\"test.csv\")\n",
    "print(train.shape)\n",
    "train.head()"
   ]
  },
  {
   "cell_type": "code",
   "execution_count": 3,
   "id": "95c13988",
   "metadata": {},
   "outputs": [
    {
     "data": {
      "text/plain": [
       "PassengerId      int64\n",
       "Survived         int64\n",
       "Pclass           int64\n",
       "Name            object\n",
       "Sex             object\n",
       "Age            float64\n",
       "SibSp            int64\n",
       "Parch            int64\n",
       "Ticket          object\n",
       "Fare           float64\n",
       "Cabin           object\n",
       "Embarked        object\n",
       "dtype: object"
      ]
     },
     "execution_count": 3,
     "metadata": {},
     "output_type": "execute_result"
    }
   ],
   "source": [
    "train.dtypes"
   ]
  },
  {
   "cell_type": "code",
   "execution_count": 4,
   "id": "261f6607",
   "metadata": {},
   "outputs": [
    {
     "data": {
      "text/html": [
       "<div>\n",
       "<style scoped>\n",
       "    .dataframe tbody tr th:only-of-type {\n",
       "        vertical-align: middle;\n",
       "    }\n",
       "\n",
       "    .dataframe tbody tr th {\n",
       "        vertical-align: top;\n",
       "    }\n",
       "\n",
       "    .dataframe thead th {\n",
       "        text-align: right;\n",
       "    }\n",
       "</style>\n",
       "<table border=\"1\" class=\"dataframe\">\n",
       "  <thead>\n",
       "    <tr style=\"text-align: right;\">\n",
       "      <th></th>\n",
       "      <th>PassengerId</th>\n",
       "      <th>Survived</th>\n",
       "      <th>Pclass</th>\n",
       "      <th>Name</th>\n",
       "      <th>Sex</th>\n",
       "      <th>Age</th>\n",
       "      <th>SibSp</th>\n",
       "      <th>Parch</th>\n",
       "      <th>Ticket</th>\n",
       "      <th>Fare</th>\n",
       "      <th>Cabin</th>\n",
       "      <th>Embarked</th>\n",
       "    </tr>\n",
       "  </thead>\n",
       "  <tbody>\n",
       "    <tr>\n",
       "      <th>826</th>\n",
       "      <td>827</td>\n",
       "      <td>0</td>\n",
       "      <td>3</td>\n",
       "      <td>Lam, Mr. Len</td>\n",
       "      <td>male</td>\n",
       "      <td>NaN</td>\n",
       "      <td>0</td>\n",
       "      <td>0</td>\n",
       "      <td>1601</td>\n",
       "      <td>56.4958</td>\n",
       "      <td>NaN</td>\n",
       "      <td>S</td>\n",
       "    </tr>\n",
       "    <tr>\n",
       "      <th>225</th>\n",
       "      <td>226</td>\n",
       "      <td>0</td>\n",
       "      <td>3</td>\n",
       "      <td>Berglund, Mr. Karl Ivar Sven</td>\n",
       "      <td>male</td>\n",
       "      <td>22.0</td>\n",
       "      <td>0</td>\n",
       "      <td>0</td>\n",
       "      <td>PP 4348</td>\n",
       "      <td>9.3500</td>\n",
       "      <td>NaN</td>\n",
       "      <td>S</td>\n",
       "    </tr>\n",
       "    <tr>\n",
       "      <th>231</th>\n",
       "      <td>232</td>\n",
       "      <td>0</td>\n",
       "      <td>3</td>\n",
       "      <td>Larsson, Mr. Bengt Edvin</td>\n",
       "      <td>male</td>\n",
       "      <td>29.0</td>\n",
       "      <td>0</td>\n",
       "      <td>0</td>\n",
       "      <td>347067</td>\n",
       "      <td>7.7750</td>\n",
       "      <td>NaN</td>\n",
       "      <td>S</td>\n",
       "    </tr>\n",
       "    <tr>\n",
       "      <th>130</th>\n",
       "      <td>131</td>\n",
       "      <td>0</td>\n",
       "      <td>3</td>\n",
       "      <td>Drazenoic, Mr. Jozef</td>\n",
       "      <td>male</td>\n",
       "      <td>33.0</td>\n",
       "      <td>0</td>\n",
       "      <td>0</td>\n",
       "      <td>349241</td>\n",
       "      <td>7.8958</td>\n",
       "      <td>NaN</td>\n",
       "      <td>C</td>\n",
       "    </tr>\n",
       "    <tr>\n",
       "      <th>381</th>\n",
       "      <td>382</td>\n",
       "      <td>1</td>\n",
       "      <td>3</td>\n",
       "      <td>Nakid, Miss. Maria (\"Mary\")</td>\n",
       "      <td>female</td>\n",
       "      <td>1.0</td>\n",
       "      <td>0</td>\n",
       "      <td>2</td>\n",
       "      <td>2653</td>\n",
       "      <td>15.7417</td>\n",
       "      <td>NaN</td>\n",
       "      <td>C</td>\n",
       "    </tr>\n",
       "    <tr>\n",
       "      <th>635</th>\n",
       "      <td>636</td>\n",
       "      <td>1</td>\n",
       "      <td>2</td>\n",
       "      <td>Davis, Miss. Mary</td>\n",
       "      <td>female</td>\n",
       "      <td>28.0</td>\n",
       "      <td>0</td>\n",
       "      <td>0</td>\n",
       "      <td>237668</td>\n",
       "      <td>13.0000</td>\n",
       "      <td>NaN</td>\n",
       "      <td>S</td>\n",
       "    </tr>\n",
       "    <tr>\n",
       "      <th>385</th>\n",
       "      <td>386</td>\n",
       "      <td>0</td>\n",
       "      <td>2</td>\n",
       "      <td>Davies, Mr. Charles Henry</td>\n",
       "      <td>male</td>\n",
       "      <td>18.0</td>\n",
       "      <td>0</td>\n",
       "      <td>0</td>\n",
       "      <td>S.O.C. 14879</td>\n",
       "      <td>73.5000</td>\n",
       "      <td>NaN</td>\n",
       "      <td>S</td>\n",
       "    </tr>\n",
       "    <tr>\n",
       "      <th>431</th>\n",
       "      <td>432</td>\n",
       "      <td>1</td>\n",
       "      <td>3</td>\n",
       "      <td>Thorneycroft, Mrs. Percival (Florence Kate White)</td>\n",
       "      <td>female</td>\n",
       "      <td>NaN</td>\n",
       "      <td>1</td>\n",
       "      <td>0</td>\n",
       "      <td>376564</td>\n",
       "      <td>16.1000</td>\n",
       "      <td>NaN</td>\n",
       "      <td>S</td>\n",
       "    </tr>\n",
       "    <tr>\n",
       "      <th>880</th>\n",
       "      <td>881</td>\n",
       "      <td>1</td>\n",
       "      <td>2</td>\n",
       "      <td>Shelley, Mrs. William (Imanita Parrish Hall)</td>\n",
       "      <td>female</td>\n",
       "      <td>25.0</td>\n",
       "      <td>0</td>\n",
       "      <td>1</td>\n",
       "      <td>230433</td>\n",
       "      <td>26.0000</td>\n",
       "      <td>NaN</td>\n",
       "      <td>S</td>\n",
       "    </tr>\n",
       "    <tr>\n",
       "      <th>677</th>\n",
       "      <td>678</td>\n",
       "      <td>1</td>\n",
       "      <td>3</td>\n",
       "      <td>Turja, Miss. Anna Sofia</td>\n",
       "      <td>female</td>\n",
       "      <td>18.0</td>\n",
       "      <td>0</td>\n",
       "      <td>0</td>\n",
       "      <td>4138</td>\n",
       "      <td>9.8417</td>\n",
       "      <td>NaN</td>\n",
       "      <td>S</td>\n",
       "    </tr>\n",
       "  </tbody>\n",
       "</table>\n",
       "</div>"
      ],
      "text/plain": [
       "     PassengerId  Survived  Pclass  \\\n",
       "826          827         0       3   \n",
       "225          226         0       3   \n",
       "231          232         0       3   \n",
       "130          131         0       3   \n",
       "381          382         1       3   \n",
       "635          636         1       2   \n",
       "385          386         0       2   \n",
       "431          432         1       3   \n",
       "880          881         1       2   \n",
       "677          678         1       3   \n",
       "\n",
       "                                                  Name     Sex   Age  SibSp  \\\n",
       "826                                       Lam, Mr. Len    male   NaN      0   \n",
       "225                       Berglund, Mr. Karl Ivar Sven    male  22.0      0   \n",
       "231                           Larsson, Mr. Bengt Edvin    male  29.0      0   \n",
       "130                               Drazenoic, Mr. Jozef    male  33.0      0   \n",
       "381                        Nakid, Miss. Maria (\"Mary\")  female   1.0      0   \n",
       "635                                  Davis, Miss. Mary  female  28.0      0   \n",
       "385                          Davies, Mr. Charles Henry    male  18.0      0   \n",
       "431  Thorneycroft, Mrs. Percival (Florence Kate White)  female   NaN      1   \n",
       "880       Shelley, Mrs. William (Imanita Parrish Hall)  female  25.0      0   \n",
       "677                            Turja, Miss. Anna Sofia  female  18.0      0   \n",
       "\n",
       "     Parch        Ticket     Fare Cabin Embarked  \n",
       "826      0          1601  56.4958   NaN        S  \n",
       "225      0       PP 4348   9.3500   NaN        S  \n",
       "231      0        347067   7.7750   NaN        S  \n",
       "130      0        349241   7.8958   NaN        C  \n",
       "381      2          2653  15.7417   NaN        C  \n",
       "635      0        237668  13.0000   NaN        S  \n",
       "385      0  S.O.C. 14879  73.5000   NaN        S  \n",
       "431      0        376564  16.1000   NaN        S  \n",
       "880      1        230433  26.0000   NaN        S  \n",
       "677      0          4138   9.8417   NaN        S  "
      ]
     },
     "execution_count": 4,
     "metadata": {},
     "output_type": "execute_result"
    }
   ],
   "source": [
    "df1 = train[train.isna().any(axis=1)]\n",
    "df1.sample(10)"
   ]
  },
  {
   "cell_type": "code",
   "execution_count": 5,
   "id": "1125e9fa",
   "metadata": {},
   "outputs": [
    {
     "name": "stderr",
     "output_type": "stream",
     "text": [
      "C:\\Users\\Ian\\AppData\\Local\\Temp/ipykernel_11068/324537713.py:4: UserWarning: To output multiple subplots, the figure containing the passed axes is being cleared\n",
      "  train.hist(ax = axes)\n"
     ]
    },
    {
     "data": {
      "text/plain": [
       "array([[<AxesSubplot:title={'center':'PassengerId'}>,\n",
       "        <AxesSubplot:title={'center':'Survived'}>,\n",
       "        <AxesSubplot:title={'center':'Pclass'}>],\n",
       "       [<AxesSubplot:title={'center':'Age'}>,\n",
       "        <AxesSubplot:title={'center':'SibSp'}>,\n",
       "        <AxesSubplot:title={'center':'Parch'}>],\n",
       "       [<AxesSubplot:title={'center':'Fare'}>, <AxesSubplot:>,\n",
       "        <AxesSubplot:>]], dtype=object)"
      ]
     },
     "execution_count": 5,
     "metadata": {},
     "output_type": "execute_result"
    },
    {
     "data": {
      "image/png": "[encoded data removed]",
      "text/plain": [
       "<Figure size 1080x1440 with 9 Axes>"
      ]
     },
     "metadata": {
      "needs_background": "light"
     },
     "output_type": "display_data"
    }
   ],
   "source": [
    "# distribution of each of the variables\n",
    "fig = plt.figure(figsize=(15, 20))\n",
    "axes = fig.gca()\n",
    "train.hist(ax = axes)"
   ]
  },
  {
   "cell_type": "markdown",
   "id": "71bcd136",
   "metadata": {},
   "source": [
    "**Invalid Data**"
   ]
  },
  {
   "cell_type": "code",
   "execution_count": 6,
   "id": "6c301edc",
   "metadata": {},
   "outputs": [],
   "source": [
    "#deep copy of training dataset\n",
    "clean_train = train.copy()"
   ]
  },
  {
   "cell_type": "code",
   "execution_count": 7,
   "id": "c9141cf4",
   "metadata": {},
   "outputs": [
    {
     "data": {
      "text/plain": [
       "<AxesSubplot:>"
      ]
     },
     "execution_count": 7,
     "metadata": {},
     "output_type": "execute_result"
    },
    {
     "data": {
      "image/png": "[encoded data removed]",
      "text/plain": [
       "<Figure size 1800x720 with 2 Axes>"
      ]
     },
     "metadata": {
      "needs_background": "light"
     },
     "output_type": "display_data"
    }
   ],
   "source": [
    "msno.matrix(clean_train)"
   ]
  },
  {
   "cell_type": "code",
   "execution_count": 8,
   "id": "dcc5d083",
   "metadata": {},
   "outputs": [
    {
     "name": "stdout",
     "output_type": "stream",
     "text": [
      "177\n"
     ]
    }
   ],
   "source": [
    "#all age < 0 are NaN values so going to use data imputation(shown later)\n",
    "proper_age = clean_train[clean_train['Age']>0]\n",
    "print(len(clean_train['Age'])-len(proper_age))"
   ]
  },
  {
   "cell_type": "code",
   "execution_count": 9,
   "id": "c4947bb6",
   "metadata": {},
   "outputs": [
    {
     "name": "stdout",
     "output_type": "stream",
     "text": [
      "15\n",
      "[0.]\n"
     ]
    }
   ],
   "source": [
    "#dropped all rows with invalid fare\n",
    "proper_fare = clean_train[clean_train['Fare']>0]\n",
    "print(len(clean_train['Fare'])-len(proper_fare)) \n",
    "print((clean_train[clean_train['Fare']<=0]['Fare']).unique()) #all invalid fares are 0\n",
    "clean_train = clean_train[clean_train['Fare']>0]"
   ]
  },
  {
   "cell_type": "code",
   "execution_count": 10,
   "id": "876e4e78",
   "metadata": {},
   "outputs": [
    {
     "name": "stdout",
     "output_type": "stream",
     "text": [
      "0.7659817351598174\n"
     ]
    }
   ],
   "source": [
    "#dropped Ticket column since 76.5% are unique categorical values\n",
    "print(len(clean_train['Ticket'].unique())/len(clean_train))\n",
    "clean_train = clean_train.drop(columns=['Ticket'])"
   ]
  },
  {
   "cell_type": "code",
   "execution_count": 11,
   "id": "60218535",
   "metadata": {},
   "outputs": [
    {
     "name": "stdout",
     "output_type": "stream",
     "text": [
      "1.0\n",
      "1.0\n"
     ]
    }
   ],
   "source": [
    "#dropped PassengerID and Name column since all names are unique categorical values\n",
    "print(len(clean_train['PassengerId'].unique())/len(clean_train))\n",
    "print(len(clean_train['Name'].unique())/len(clean_train))\n",
    "clean_train = clean_train.drop(columns=['Name'])\n",
    "clean_train = clean_train.drop(columns=['PassengerId'])"
   ]
  },
  {
   "cell_type": "code",
   "execution_count": 12,
   "id": "5d249d65",
   "metadata": {},
   "outputs": [
    {
     "name": "stdout",
     "output_type": "stream",
     "text": [
      "Before:\n",
      "Survived      0\n",
      "Pclass        0\n",
      "Sex           0\n",
      "Age         169\n",
      "SibSp         0\n",
      "Parch         0\n",
      "Fare          0\n",
      "Cabin       675\n",
      "Embarked      2\n",
      "dtype: int64\n",
      "\n",
      "% of NaN values: 0.7705479452054794\n",
      "\n",
      "After:\n",
      "Survived      0\n",
      "Pclass        0\n",
      "Sex           0\n",
      "Age         169\n",
      "SibSp         0\n",
      "Parch         0\n",
      "Fare          0\n",
      "Embarked      2\n",
      "dtype: int64\n"
     ]
    }
   ],
   "source": [
    "#dropped Cabin column since 77% are NaN values\n",
    "print(f\"Before:\\n{clean_train.isnull().sum(axis=0)}\")\n",
    "print(f\"\\n% of NaN values: {clean_train['Cabin'].isnull().sum(axis=0)/len(clean_train)}\")\n",
    "clean_train = clean_train.drop(columns=['Cabin'])\n",
    "print(f\"\\nAfter:\\n{clean_train.isnull().sum(axis=0)}\")"
   ]
  },
  {
   "cell_type": "code",
   "execution_count": 13,
   "id": "b59e1b99",
   "metadata": {},
   "outputs": [
    {
     "data": {
      "text/plain": [
       "<AxesSubplot:>"
      ]
     },
     "execution_count": 13,
     "metadata": {},
     "output_type": "execute_result"
    },
    {
     "data": {
      "image/png": "[encoded data removed]",
      "text/plain": [
       "<Figure size 1800x720 with 2 Axes>"
      ]
     },
     "metadata": {
      "needs_background": "light"
     },
     "output_type": "display_data"
    }
   ],
   "source": [
    "msno.matrix(clean_train)"
   ]
  },
  {
   "cell_type": "markdown",
   "id": "21270f38",
   "metadata": {},
   "source": [
    "**Outliers**"
   ]
  },
  {
   "cell_type": "code",
   "execution_count": 14,
   "id": "5be923b2",
   "metadata": {},
   "outputs": [
    {
     "data": {
      "text/html": [
       "<div>\n",
       "<style scoped>\n",
       "    .dataframe tbody tr th:only-of-type {\n",
       "        vertical-align: middle;\n",
       "    }\n",
       "\n",
       "    .dataframe tbody tr th {\n",
       "        vertical-align: top;\n",
       "    }\n",
       "\n",
       "    .dataframe thead th {\n",
       "        text-align: right;\n",
       "    }\n",
       "</style>\n",
       "<table border=\"1\" class=\"dataframe\">\n",
       "  <thead>\n",
       "    <tr style=\"text-align: right;\">\n",
       "      <th></th>\n",
       "      <th>Survived</th>\n",
       "      <th>Pclass</th>\n",
       "      <th>Sex</th>\n",
       "      <th>Age</th>\n",
       "      <th>SibSp</th>\n",
       "      <th>Parch</th>\n",
       "      <th>Fare</th>\n",
       "      <th>Embarked</th>\n",
       "    </tr>\n",
       "  </thead>\n",
       "  <tbody>\n",
       "    <tr>\n",
       "      <th>0</th>\n",
       "      <td>0</td>\n",
       "      <td>3</td>\n",
       "      <td>male</td>\n",
       "      <td>22.0</td>\n",
       "      <td>1</td>\n",
       "      <td>0</td>\n",
       "      <td>7.2500</td>\n",
       "      <td>S</td>\n",
       "    </tr>\n",
       "    <tr>\n",
       "      <th>1</th>\n",
       "      <td>1</td>\n",
       "      <td>1</td>\n",
       "      <td>female</td>\n",
       "      <td>38.0</td>\n",
       "      <td>1</td>\n",
       "      <td>0</td>\n",
       "      <td>71.2833</td>\n",
       "      <td>C</td>\n",
       "    </tr>\n",
       "    <tr>\n",
       "      <th>2</th>\n",
       "      <td>1</td>\n",
       "      <td>3</td>\n",
       "      <td>female</td>\n",
       "      <td>26.0</td>\n",
       "      <td>0</td>\n",
       "      <td>0</td>\n",
       "      <td>7.9250</td>\n",
       "      <td>S</td>\n",
       "    </tr>\n",
       "    <tr>\n",
       "      <th>3</th>\n",
       "      <td>1</td>\n",
       "      <td>1</td>\n",
       "      <td>female</td>\n",
       "      <td>35.0</td>\n",
       "      <td>1</td>\n",
       "      <td>0</td>\n",
       "      <td>53.1000</td>\n",
       "      <td>S</td>\n",
       "    </tr>\n",
       "    <tr>\n",
       "      <th>4</th>\n",
       "      <td>0</td>\n",
       "      <td>3</td>\n",
       "      <td>male</td>\n",
       "      <td>35.0</td>\n",
       "      <td>0</td>\n",
       "      <td>0</td>\n",
       "      <td>8.0500</td>\n",
       "      <td>S</td>\n",
       "    </tr>\n",
       "  </tbody>\n",
       "</table>\n",
       "</div>"
      ],
      "text/plain": [
       "   Survived  Pclass     Sex   Age  SibSp  Parch     Fare Embarked\n",
       "0         0       3    male  22.0      1      0   7.2500        S\n",
       "1         1       1  female  38.0      1      0  71.2833        C\n",
       "2         1       3  female  26.0      0      0   7.9250        S\n",
       "3         1       1  female  35.0      1      0  53.1000        S\n",
       "4         0       3    male  35.0      0      0   8.0500        S"
      ]
     },
     "execution_count": 14,
     "metadata": {},
     "output_type": "execute_result"
    }
   ],
   "source": [
    "clean_train.head()"
   ]
  },
  {
   "cell_type": "code",
   "execution_count": 15,
   "id": "7d4e5070",
   "metadata": {},
   "outputs": [
    {
     "data": {
      "image/png": "[encoded data removed]",
      "text/plain": [
       "<Figure size 288x792 with 3 Axes>"
      ]
     },
     "metadata": {
      "needs_background": "light"
     },
     "output_type": "display_data"
    }
   ],
   "source": [
    "#columns that are skewed based on histogram; creates boxplot for skewed columns\n",
    "skew = ['Fare','SibSp','Parch']\n",
    "\n",
    "fig, axes = plt.subplots(nrows=len(skew), figsize=(4,11)) #fig contains subplot, \n",
    "                                                                     #an array of subplots\n",
    "\n",
    "for i, column in enumerate(skew):\n",
    "    axes[i].boxplot(clean_train[column])\n",
    "    axes[i].set_title('Box Plot of {}'.format(column))\n",
    "    axes[i].set_xlabel(column)\n",
    "    axes[i].set_ylabel(\"Values\")\n",
    "\n",
    "\n",
    "plt.subplots_adjust(hspace=0.5)\n",
    "#removing the outliers doesn't seem reasonable as there are only a few and the values are reasonable"
   ]
  },
  {
   "cell_type": "markdown",
   "id": "c1cb5f24",
   "metadata": {},
   "source": [
    "**Data Imputation**"
   ]
  },
  {
   "cell_type": "code",
   "execution_count": 16,
   "id": "bd72a220",
   "metadata": {},
   "outputs": [],
   "source": [
    "#Age column\n",
    "clean_train['Age'].fillna(clean_train['Age'].mode().iloc[0], inplace=True)"
   ]
  },
  {
   "cell_type": "code",
   "execution_count": 17,
   "id": "22f95f8c",
   "metadata": {},
   "outputs": [],
   "source": [
    "#Embarked column\n",
    "#print(clean_train[clean_train.isna().any(axis=1)])\n",
    "clean_train['Embarked'].fillna(clean_train['Embarked'].mode().iloc[0], inplace=True)"
   ]
  },
  {
   "cell_type": "code",
   "execution_count": 18,
   "id": "6fb0be43",
   "metadata": {},
   "outputs": [
    {
     "name": "stdout",
     "output_type": "stream",
     "text": [
      "HERE!\n"
     ]
    },
    {
     "data": {
      "text/plain": [
       "Survived    0\n",
       "Pclass      0\n",
       "Sex         0\n",
       "Age         0\n",
       "SibSp       0\n",
       "Parch       0\n",
       "Fare        0\n",
       "Embarked    0\n",
       "dtype: int64"
      ]
     },
     "execution_count": 18,
     "metadata": {},
     "output_type": "execute_result"
    }
   ],
   "source": [
    "print(\"HERE!\")\n",
    "clean_train.isnull().sum(axis=0)"
   ]
  },
  {
   "cell_type": "code",
   "execution_count": 19,
   "id": "3f725f1f",
   "metadata": {
    "scrolled": true
   },
   "outputs": [
    {
     "data": {
      "text/plain": [
       "<AxesSubplot:>"
      ]
     },
     "execution_count": 19,
     "metadata": {},
     "output_type": "execute_result"
    },
    {
     "data": {
      "image/png": "[encoded data removed]",
      "text/plain": [
       "<Figure size 1440x1080 with 2 Axes>"
      ]
     },
     "metadata": {
      "needs_background": "light"
     },
     "output_type": "display_data"
    }
   ],
   "source": [
    "# correlations between the columns\n",
    "plt.figure(figsize=(20, 15))\n",
    "sns.heatmap(clean_train.corr(), annot=True, cmap=sns.color_palette('RdBu',50), fmt='.2f')"
   ]
  },
  {
   "cell_type": "code",
   "execution_count": 20,
   "id": "5267448c",
   "metadata": {},
   "outputs": [
    {
     "name": "stdout",
     "output_type": "stream",
     "text": [
      "Correlation of each variable to Survived:\n"
     ]
    },
    {
     "data": {
      "text/plain": [
       "Survived    1.000000\n",
       "Pclass      0.351636\n",
       "Fare        0.252453\n",
       "Parch       0.076939\n",
       "Age         0.052087\n",
       "SibSp       0.040941\n",
       "Name: Survived, dtype: float64"
      ]
     },
     "execution_count": 20,
     "metadata": {},
     "output_type": "execute_result"
    }
   ],
   "source": [
    "corr = clean_train.corr().abs()\n",
    "sort = corr.sort_values(by=['Survived'],ascending=False)\n",
    "print(\"Correlation of each variable to Survived:\")\n",
    "sort['Survived']"
   ]
  },
  {
   "cell_type": "code",
   "execution_count": 21,
   "id": "e95edb7a",
   "metadata": {},
   "outputs": [
    {
     "data": {
      "image/png": "[encoded data removed]",
      "text/plain": [
       "<Figure size 432x288 with 1 Axes>"
      ]
     },
     "metadata": {
      "needs_background": "light"
     },
     "output_type": "display_data"
    }
   ],
   "source": [
    "#qqplot\n",
    "stats.probplot(clean_train['Fare'], dist=\"norm\", plot=pylab)\n",
    "pylab.show()"
   ]
  },
  {
   "cell_type": "code",
   "execution_count": 22,
   "id": "def3d301",
   "metadata": {},
   "outputs": [
    {
     "data": {
      "text/plain": [
       "0.052115247804479584"
      ]
     },
     "execution_count": 22,
     "metadata": {},
     "output_type": "execute_result"
    },
    {
     "data": {
      "image/png": "[encoded data removed]",
      "text/plain": [
       "<Figure size 432x288 with 1 Axes>"
      ]
     },
     "metadata": {
      "needs_background": "light"
     },
     "output_type": "display_data"
    }
   ],
   "source": [
    "#Transformation decreases correlation so not going to transform\n",
    "pt = PowerTransformer()\n",
    "fare_transformed = pt.fit_transform(clean_train['Fare'].values.reshape(-1, 1))\n",
    "sns.histplot(fare_transformed)\n",
    "\n",
    "# Compute the correlation between the transformed fare column and survival rate\n",
    "corr_transformed = pd.Series(fare_transformed.flatten()).corr(clean_train['Survived'])\n",
    "corr_transformed "
   ]
  },
  {
   "cell_type": "code",
   "execution_count": 23,
   "id": "15eb1a1c",
   "metadata": {},
   "outputs": [
    {
     "data": {
      "text/html": [
       "<div>\n",
       "<style scoped>\n",
       "    .dataframe tbody tr th:only-of-type {\n",
       "        vertical-align: middle;\n",
       "    }\n",
       "\n",
       "    .dataframe tbody tr th {\n",
       "        vertical-align: top;\n",
       "    }\n",
       "\n",
       "    .dataframe thead th {\n",
       "        text-align: right;\n",
       "    }\n",
       "</style>\n",
       "<table border=\"1\" class=\"dataframe\">\n",
       "  <thead>\n",
       "    <tr style=\"text-align: right;\">\n",
       "      <th></th>\n",
       "      <th>Survived</th>\n",
       "      <th>Pclass</th>\n",
       "      <th>Sex</th>\n",
       "      <th>Age</th>\n",
       "      <th>SibSp</th>\n",
       "      <th>Parch</th>\n",
       "      <th>Fare</th>\n",
       "      <th>Embarked</th>\n",
       "    </tr>\n",
       "  </thead>\n",
       "  <tbody>\n",
       "    <tr>\n",
       "      <th>0</th>\n",
       "      <td>0</td>\n",
       "      <td>3</td>\n",
       "      <td>male</td>\n",
       "      <td>22.0</td>\n",
       "      <td>1</td>\n",
       "      <td>0</td>\n",
       "      <td>7.2500</td>\n",
       "      <td>S</td>\n",
       "    </tr>\n",
       "    <tr>\n",
       "      <th>1</th>\n",
       "      <td>1</td>\n",
       "      <td>1</td>\n",
       "      <td>female</td>\n",
       "      <td>38.0</td>\n",
       "      <td>1</td>\n",
       "      <td>0</td>\n",
       "      <td>71.2833</td>\n",
       "      <td>C</td>\n",
       "    </tr>\n",
       "    <tr>\n",
       "      <th>2</th>\n",
       "      <td>1</td>\n",
       "      <td>3</td>\n",
       "      <td>female</td>\n",
       "      <td>26.0</td>\n",
       "      <td>0</td>\n",
       "      <td>0</td>\n",
       "      <td>7.9250</td>\n",
       "      <td>S</td>\n",
       "    </tr>\n",
       "    <tr>\n",
       "      <th>3</th>\n",
       "      <td>1</td>\n",
       "      <td>1</td>\n",
       "      <td>female</td>\n",
       "      <td>35.0</td>\n",
       "      <td>1</td>\n",
       "      <td>0</td>\n",
       "      <td>53.1000</td>\n",
       "      <td>S</td>\n",
       "    </tr>\n",
       "    <tr>\n",
       "      <th>4</th>\n",
       "      <td>0</td>\n",
       "      <td>3</td>\n",
       "      <td>male</td>\n",
       "      <td>35.0</td>\n",
       "      <td>0</td>\n",
       "      <td>0</td>\n",
       "      <td>8.0500</td>\n",
       "      <td>S</td>\n",
       "    </tr>\n",
       "  </tbody>\n",
       "</table>\n",
       "</div>"
      ],
      "text/plain": [
       "   Survived  Pclass     Sex   Age  SibSp  Parch     Fare Embarked\n",
       "0         0       3    male  22.0      1      0   7.2500        S\n",
       "1         1       1  female  38.0      1      0  71.2833        C\n",
       "2         1       3  female  26.0      0      0   7.9250        S\n",
       "3         1       1  female  35.0      1      0  53.1000        S\n",
       "4         0       3    male  35.0      0      0   8.0500        S"
      ]
     },
     "execution_count": 23,
     "metadata": {},
     "output_type": "execute_result"
    }
   ],
   "source": [
    "clean_train.head()"
   ]
  },
  {
   "cell_type": "markdown",
   "id": "be4cb888",
   "metadata": {},
   "source": [
    "**Duplicates**"
   ]
  },
  {
   "cell_type": "code",
   "execution_count": 24,
   "id": "f023e30e",
   "metadata": {},
   "outputs": [
    {
     "name": "stdout",
     "output_type": "stream",
     "text": [
      "Number of Duplicated Rows for Train: 0\n",
      "Number of Duplicated Rows for Test: 0\n"
     ]
    }
   ],
   "source": [
    "duplicated_rows = train.duplicated()\n",
    "print(f'Number of Duplicated Rows for Train: {duplicated_rows.sum()}')\n",
    "duplicated_rows = test.duplicated()\n",
    "print(f'Number of Duplicated Rows for Test: {duplicated_rows.sum()}')"
   ]
  },
  {
   "cell_type": "markdown",
   "id": "e2593b91",
   "metadata": {},
   "source": [
    "**One-hot Encoding**"
   ]
  },
  {
   "cell_type": "code",
   "execution_count": 25,
   "id": "508cd11d",
   "metadata": {},
   "outputs": [
    {
     "name": "stdout",
     "output_type": "stream",
     "text": [
      "     Survived  Pclass     Sex   Age  SibSp  Parch     Fare Embarked\n",
      "5           0       3    male  24.0      0      0   8.4583        Q\n",
      "16          0       3    male   2.0      4      1  29.1250        Q\n",
      "22          1       3  female  15.0      0      0   8.0292        Q\n",
      "28          1       3  female  24.0      0      0   7.8792        Q\n",
      "32          1       3  female  24.0      0      0   7.7500        Q\n",
      "..        ...     ...     ...   ...    ...    ...      ...      ...\n",
      "790         0       3    male  24.0      0      0   7.7500        Q\n",
      "825         0       3    male  24.0      0      0   6.9500        Q\n",
      "828         1       3    male  24.0      0      0   7.7500        Q\n",
      "885         0       3  female  39.0      0      5  29.1250        Q\n",
      "890         0       3    male  32.0      0      0   7.7500        Q\n",
      "\n",
      "[77 rows x 8 columns]\n"
     ]
    }
   ],
   "source": [
    "#clean_train.select_dtypes('object')\n",
    "#print(clean_train['Sex'].unique())\n",
    "#print(clean_train['Embarked'].unique())\n",
    "#print(type(clean_train['Embarked'][0]))\n",
    "q = clean_train[clean_train['Embarked']=='Q']\n",
    "print(q)\n",
    "#clean_train.dtypes"
   ]
  },
  {
   "cell_type": "code",
   "execution_count": 27,
   "id": "89af8c9e",
   "metadata": {},
   "outputs": [
    {
     "data": {
      "text/html": [
       "<div>\n",
       "<style scoped>\n",
       "    .dataframe tbody tr th:only-of-type {\n",
       "        vertical-align: middle;\n",
       "    }\n",
       "\n",
       "    .dataframe tbody tr th {\n",
       "        vertical-align: top;\n",
       "    }\n",
       "\n",
       "    .dataframe thead th {\n",
       "        text-align: right;\n",
       "    }\n",
       "</style>\n",
       "<table border=\"1\" class=\"dataframe\">\n",
       "  <thead>\n",
       "    <tr style=\"text-align: right;\">\n",
       "      <th></th>\n",
       "      <th>Survived</th>\n",
       "      <th>Pclass</th>\n",
       "      <th>Age</th>\n",
       "      <th>SibSp</th>\n",
       "      <th>Parch</th>\n",
       "      <th>Fare</th>\n",
       "      <th>Sex_female</th>\n",
       "      <th>Sex_male</th>\n",
       "      <th>Embarked_C</th>\n",
       "      <th>Embarked_Q</th>\n",
       "      <th>Embarked_S</th>\n",
       "    </tr>\n",
       "  </thead>\n",
       "  <tbody>\n",
       "    <tr>\n",
       "      <th>0</th>\n",
       "      <td>0</td>\n",
       "      <td>3</td>\n",
       "      <td>22.0</td>\n",
       "      <td>1</td>\n",
       "      <td>0</td>\n",
       "      <td>7.2500</td>\n",
       "      <td>0</td>\n",
       "      <td>1</td>\n",
       "      <td>0</td>\n",
       "      <td>0</td>\n",
       "      <td>1</td>\n",
       "    </tr>\n",
       "    <tr>\n",
       "      <th>1</th>\n",
       "      <td>1</td>\n",
       "      <td>1</td>\n",
       "      <td>38.0</td>\n",
       "      <td>1</td>\n",
       "      <td>0</td>\n",
       "      <td>71.2833</td>\n",
       "      <td>1</td>\n",
       "      <td>0</td>\n",
       "      <td>1</td>\n",
       "      <td>0</td>\n",
       "      <td>0</td>\n",
       "    </tr>\n",
       "    <tr>\n",
       "      <th>2</th>\n",
       "      <td>1</td>\n",
       "      <td>3</td>\n",
       "      <td>26.0</td>\n",
       "      <td>0</td>\n",
       "      <td>0</td>\n",
       "      <td>7.9250</td>\n",
       "      <td>1</td>\n",
       "      <td>0</td>\n",
       "      <td>0</td>\n",
       "      <td>0</td>\n",
       "      <td>1</td>\n",
       "    </tr>\n",
       "    <tr>\n",
       "      <th>3</th>\n",
       "      <td>1</td>\n",
       "      <td>1</td>\n",
       "      <td>35.0</td>\n",
       "      <td>1</td>\n",
       "      <td>0</td>\n",
       "      <td>53.1000</td>\n",
       "      <td>1</td>\n",
       "      <td>0</td>\n",
       "      <td>0</td>\n",
       "      <td>0</td>\n",
       "      <td>1</td>\n",
       "    </tr>\n",
       "    <tr>\n",
       "      <th>4</th>\n",
       "      <td>0</td>\n",
       "      <td>3</td>\n",
       "      <td>35.0</td>\n",
       "      <td>0</td>\n",
       "      <td>0</td>\n",
       "      <td>8.0500</td>\n",
       "      <td>0</td>\n",
       "      <td>1</td>\n",
       "      <td>0</td>\n",
       "      <td>0</td>\n",
       "      <td>1</td>\n",
       "    </tr>\n",
       "  </tbody>\n",
       "</table>\n",
       "</div>"
      ],
      "text/plain": [
       "   Survived  Pclass   Age  SibSp  Parch     Fare  Sex_female  Sex_male  \\\n",
       "0         0       3  22.0      1      0   7.2500           0         1   \n",
       "1         1       1  38.0      1      0  71.2833           1         0   \n",
       "2         1       3  26.0      0      0   7.9250           1         0   \n",
       "3         1       1  35.0      1      0  53.1000           1         0   \n",
       "4         0       3  35.0      0      0   8.0500           0         1   \n",
       "\n",
       "   Embarked_C  Embarked_Q  Embarked_S  \n",
       "0           0           0           1  \n",
       "1           1           0           0  \n",
       "2           0           0           1  \n",
       "3           0           0           1  \n",
       "4           0           0           1  "
      ]
     },
     "execution_count": 27,
     "metadata": {},
     "output_type": "execute_result"
    }
   ],
   "source": [
    "#Since only 2/7 columns are categorical, I'm using one-hot encoding since there won't be that much sparsity \n",
    "'''\n",
    "ohe = OneHotEncoder(handle_unknown='ignore')\n",
    "\n",
    "train_object = clean_train.select_dtypes('object')\n",
    "ohe.fit(train_object)\n",
    "\n",
    "codes = ohe.transform(train_object).toarray()\n",
    "feature_names = ohe.get_feature_names_out(['Sex', 'Embarked'])\n",
    "\n",
    "clean_train = pd.concat([clean_train.select_dtypes(exclude='object'), \n",
    "               pd.DataFrame(codes,columns=feature_names).astype(int)], axis=1)\n",
    "'''\n",
    "'''\n",
    "encoder = OneHotEncoder(handle_unknown='ignore')\n",
    "#perform one-hot encoding on columns \n",
    "encoder_df = pd.DataFrame(encoder.fit_transform(clean_train[['Sex', 'Embarked']]).toarray())\n",
    "#merge one-hot encoded columns back with original DataFrame\n",
    "clean_train = clean_train.join(encoder_df)\n",
    "#drop columns with strings\n",
    "clean_train = clean_train.drop(columns=['Sex', 'Embarked'])\n",
    "#showing new head\n",
    "clean_train.head()\n",
    "\n",
    "#x_cat_df.columns = ohenc.get_feature_names()\n",
    "'''\n",
    "\n",
    "'''\n",
    "encoder=OneHotEncoder(handle_unknown='ignore')\n",
    "\n",
    "clean_train_encoded = pd.DataFrame(encoder.fit_transform(clean_train[['Sex', 'Embarked']]))\n",
    "\n",
    "clean_train_encoded.columns = encoder.get_feature_names_out()\n",
    "\n",
    "clean_train = clean_train.drop(['Sex','Embarked'] ,axis=1, inplace=True)\n",
    "\n",
    "clean_train= pd.concat([clean_train, clean_train_encoded ], axis=1)\n",
    "clean_train.head()\n",
    "\n",
    "\n",
    "# put dummy in missing_df\n",
    "missing_df.drop('payment_type', axis=1, inplace=True)\n",
    "missing_df = pd.concat([missing_df, dummy], axis=1)\n",
    "'''\n",
    "clean_train = pd.get_dummies(data=clean_train, columns=['Sex', 'Embarked'])\n",
    "clean_train.head()"
   ]
  },
  {
   "cell_type": "code",
   "execution_count": 28,
   "id": "f0433fcb",
   "metadata": {},
   "outputs": [
    {
     "name": "stdout",
     "output_type": "stream",
     "text": [
      "Empty DataFrame\n",
      "Columns: [Survived, Pclass, Age, SibSp, Parch, Fare, Sex_female, Sex_male, Embarked_C, Embarked_Q, Embarked_S]\n",
      "Index: []\n"
     ]
    }
   ],
   "source": [
    "#30 rows with NaN are added after OneHotEncoder so I removed them all\n",
    "null_mask = clean_train.isnull().any(axis=1)\n",
    "null_rows = clean_train[null_mask]\n",
    "print(null_rows)\n",
    "#clean_train = clean_train.dropna()\n",
    "#msno.matrix(clean_train)"
   ]
  },
  {
   "cell_type": "markdown",
   "id": "1cee2da2",
   "metadata": {},
   "source": [
    "**Data Type Conversion**"
   ]
  },
  {
   "cell_type": "code",
   "execution_count": 170,
   "id": "a3690479",
   "metadata": {},
   "outputs": [
    {
     "data": {
      "text/plain": [
       "[['Survived', array([0., 1.])],\n",
       " ['Pclass', array([3., 1., 2.])],\n",
       " ['Age',\n",
       "  array([22.  , 38.  , 26.  , 35.  , 24.  , 54.  ,  2.  , 27.  , 14.  ,\n",
       "          4.  , 58.  , 20.  , 39.  , 55.  , 31.  , 34.  , 15.  , 28.  ,\n",
       "          8.  , 19.  , 40.  , 66.  , 42.  , 21.  , 18.  ,  3.  ,  7.  ,\n",
       "         49.  , 29.  , 65.  , 28.5 ,  5.  , 11.  , 45.  , 17.  , 32.  ,\n",
       "         16.  , 25.  ,  0.83, 30.  , 33.  , 23.  , 46.  , 59.  , 71.  ,\n",
       "         37.  , 47.  , 14.5 , 70.5 , 32.5 , 12.  ,  9.  , 36.5 , 51.  ,\n",
       "         55.5 , 40.5 , 44.  ,  1.  , 61.  , 56.  , 50.  , 36.  , 45.5 ,\n",
       "         20.5 , 62.  , 41.  , 52.  , 63.  , 23.5 ,  0.92, 43.  , 60.  ,\n",
       "         10.  , 64.  , 13.  , 48.  ,  0.75, 53.  , 57.  , 80.  , 70.  ,\n",
       "         24.5 ,  6.  ,  0.67, 30.5 ,  0.42, 34.5 , 74.  ])],\n",
       " ['SibSp', array([1., 0., 3., 4., 2., 5., 8.])],\n",
       " ['Parch', array([0., 1., 2., 5., 3., 4., 6.])],\n",
       " ['Fare',\n",
       "  array([  7.25  ,  71.2833,   7.925 ,  53.1   ,   8.05  ,   8.4583,\n",
       "          51.8625,  21.075 ,  11.1333,  30.0708,  16.7   ,  26.55  ,\n",
       "          31.275 ,   7.8542,  16.    ,  29.125 ,  13.    ,  18.    ,\n",
       "           7.225 ,  26.    ,   8.0292,  35.5   ,  31.3875, 263.    ,\n",
       "           7.8792,   7.8958,  27.7208, 146.5208,   7.75  ,  10.5   ,\n",
       "          82.1708,  52.    ,   7.2292,  11.2417,   9.475 ,  21.    ,\n",
       "          41.5792,  15.5   ,  21.6792,  17.8   ,  39.6875,   7.8   ,\n",
       "          76.7292,  61.9792,  27.75  ,  46.9   ,  80.    ,  83.475 ,\n",
       "          27.9   ,  15.2458,   8.1583,   8.6625,  73.5   ,  14.4542,\n",
       "          56.4958,   7.65  ,  29.    ,  12.475 ,   9.    ,   9.5   ,\n",
       "           7.7875,  47.1   ,  15.85  ,  34.375 ,  61.175 ,  20.575 ,\n",
       "          34.6542,  63.3583,  23.    ,  77.2875,   8.6542,   7.775 ,\n",
       "          24.15  ,   9.825 ,  14.4583, 247.5208,   7.1417,  22.3583,\n",
       "           6.975 ,   7.05  ,  14.5   ,  15.0458,  26.2833,   9.2167,\n",
       "          79.2   ,   6.75  ,  11.5   ,  36.75  ,   7.7958,  12.525 ,\n",
       "          66.6   ,   7.3125,  61.3792,   7.7333,  69.55  ,  16.1   ,\n",
       "          15.75  ,  20.525 ,  55.    ,  25.925 ,  33.5   ,  30.6958,\n",
       "          25.4667,  28.7125,  15.05  ,  39.    ,  22.025 ,  50.    ,\n",
       "           8.4042,   6.4958,  10.4625,  18.7875,  31.    , 113.275 ,\n",
       "          27.    ,  76.2917,  90.    ,   9.35  ,  13.5   ,   7.55  ,\n",
       "          26.25  ,  12.275 ,   7.125 ,  52.5542,  20.2125,  86.5   ,\n",
       "         512.3292,  79.65  , 153.4625, 135.6333,  19.5   ,  29.7   ,\n",
       "          77.9583,  20.25  ,  78.85  ,  91.0792,  12.875 ,   8.85  ,\n",
       "         151.55  ,  30.5   ,  23.25  ,  12.35  , 110.8833, 108.9   ,\n",
       "          24.    ,  56.9292,  83.1583, 262.375 ,  14.    , 164.8667,\n",
       "         134.5   ,   6.2375,  57.9792,  28.5   , 133.65  ,  15.9   ,\n",
       "           9.225 ,  35.    ,  75.25  ,  69.3   ,  55.4417, 211.5   ,\n",
       "           4.0125, 227.525 ,  15.7417,   7.7292,  12.    , 120.    ,\n",
       "          12.65  ,  18.75  ,   6.8583,  32.5   ,   7.875 ,  14.4   ,\n",
       "          55.9   ,   8.1125,  81.8583,  19.2583,  19.9667,  89.1042,\n",
       "          38.5   ,   7.725 ,  13.7917,   9.8375,   7.0458,   7.5208,\n",
       "          12.2875,   9.5875,  49.5042,  78.2667,  15.1   ,   7.6292,\n",
       "          22.525 ,  26.2875,  59.4   ,   7.4958,  34.0208,  93.5   ,\n",
       "         221.7792, 106.425 ,  49.5   ,  71.    ,  13.8625,   7.8292,\n",
       "          39.6   ,  17.4   ,  51.4792,  26.3875,  30.    ,  40.125 ,\n",
       "           8.7125,  15.    ,  33.    ,  42.4   ,  15.55  ,  65.    ,\n",
       "          32.3208,   7.0542,   8.4333,  25.5875,   9.8417,   8.1375,\n",
       "          10.1708, 211.3375,  57.    ,  13.4167,   7.7417,   9.4833,\n",
       "           7.7375,   8.3625,  23.45  ,  25.9292,   8.6833,   8.5167,\n",
       "           7.8875,  37.0042,   6.45  ,   6.95  ,   8.3   ,   6.4375,\n",
       "          39.4   ,  14.1083,  13.8583,  50.4958,   5.    ])],\n",
       " ['Sex_female', array([0., 1.])],\n",
       " ['Sex_male', array([1., 0.])],\n",
       " ['Embarked_C', array([0., 1.])],\n",
       " ['Embarked_Q', array([0., 1.])],\n",
       " ['Embarked_S', array([1., 0.])]]"
      ]
     },
     "execution_count": 170,
     "metadata": {},
     "output_type": "execute_result"
    }
   ],
   "source": [
    "#all values were converted to float after encoding\n",
    "unique = [[clean_train[i].name,clean_train[i].unique()] for i in clean_train.columns]\n",
    "unique"
   ]
  },
  {
   "cell_type": "code",
   "execution_count": 171,
   "id": "b5351b0f",
   "metadata": {},
   "outputs": [
    {
     "data": {
      "text/plain": [
       "Survived        int32\n",
       "Pclass          int32\n",
       "Age           float64\n",
       "SibSp           int32\n",
       "Parch           int32\n",
       "Fare          float64\n",
       "Sex_female      int32\n",
       "Sex_male        int32\n",
       "Embarked_C      int32\n",
       "Embarked_Q      int32\n",
       "Embarked_S      int32\n",
       "dtype: object"
      ]
     },
     "execution_count": 171,
     "metadata": {},
     "output_type": "execute_result"
    }
   ],
   "source": [
    "#converting float to int for all columns that have whole number as float type\n",
    "for col in clean_train.columns:\n",
    "    if clean_train[col].dtype == 'float64' and all(clean_train[col].apply(lambda x: x.is_integer())):\n",
    "        clean_train[col] = clean_train[col].astype(int)\n",
    "clean_train.dtypes"
   ]
  },
  {
   "cell_type": "markdown",
   "id": "267ec377",
   "metadata": {},
   "source": [
    "# **Feature Engineering**"
   ]
  },
  {
   "cell_type": "code",
   "execution_count": 172,
   "id": "02ce377e",
   "metadata": {},
   "outputs": [
    {
     "data": {
      "text/html": [
       "<div>\n",
       "<style scoped>\n",
       "    .dataframe tbody tr th:only-of-type {\n",
       "        vertical-align: middle;\n",
       "    }\n",
       "\n",
       "    .dataframe tbody tr th {\n",
       "        vertical-align: top;\n",
       "    }\n",
       "\n",
       "    .dataframe thead th {\n",
       "        text-align: right;\n",
       "    }\n",
       "</style>\n",
       "<table border=\"1\" class=\"dataframe\">\n",
       "  <thead>\n",
       "    <tr style=\"text-align: right;\">\n",
       "      <th></th>\n",
       "      <th>Survived</th>\n",
       "      <th>Pclass</th>\n",
       "      <th>Age</th>\n",
       "      <th>SibSp</th>\n",
       "      <th>Parch</th>\n",
       "      <th>Fare</th>\n",
       "      <th>Sex_female</th>\n",
       "      <th>Sex_male</th>\n",
       "      <th>Embarked_C</th>\n",
       "      <th>Embarked_Q</th>\n",
       "      <th>Embarked_S</th>\n",
       "      <th>age_Pclass_median</th>\n",
       "      <th>fare_Pclass_median</th>\n",
       "      <th>age_Pclass_std</th>\n",
       "      <th>fare_Pclass_std</th>\n",
       "      <th>SibSp_count</th>\n",
       "      <th>Parch_count</th>\n",
       "      <th>fare_median_diff</th>\n",
       "    </tr>\n",
       "  </thead>\n",
       "  <tbody>\n",
       "    <tr>\n",
       "      <th>341</th>\n",
       "      <td>1</td>\n",
       "      <td>1</td>\n",
       "      <td>24.0</td>\n",
       "      <td>3</td>\n",
       "      <td>2</td>\n",
       "      <td>263.0000</td>\n",
       "      <td>1</td>\n",
       "      <td>0</td>\n",
       "      <td>0</td>\n",
       "      <td>0</td>\n",
       "      <td>1</td>\n",
       "      <td>35.0</td>\n",
       "      <td>62.66875</td>\n",
       "      <td>14.686916</td>\n",
       "      <td>78.581058</td>\n",
       "      <td>208</td>\n",
       "      <td>208</td>\n",
       "      <td>200.33125</td>\n",
       "    </tr>\n",
       "    <tr>\n",
       "      <th>43</th>\n",
       "      <td>1</td>\n",
       "      <td>2</td>\n",
       "      <td>3.0</td>\n",
       "      <td>1</td>\n",
       "      <td>2</td>\n",
       "      <td>41.5792</td>\n",
       "      <td>1</td>\n",
       "      <td>0</td>\n",
       "      <td>1</td>\n",
       "      <td>0</td>\n",
       "      <td>0</td>\n",
       "      <td>29.0</td>\n",
       "      <td>15.04580</td>\n",
       "      <td>13.948199</td>\n",
       "      <td>13.149545</td>\n",
       "      <td>175</td>\n",
       "      <td>175</td>\n",
       "      <td>26.53340</td>\n",
       "    </tr>\n",
       "    <tr>\n",
       "      <th>36</th>\n",
       "      <td>1</td>\n",
       "      <td>3</td>\n",
       "      <td>24.0</td>\n",
       "      <td>0</td>\n",
       "      <td>0</td>\n",
       "      <td>7.2292</td>\n",
       "      <td>0</td>\n",
       "      <td>1</td>\n",
       "      <td>1</td>\n",
       "      <td>0</td>\n",
       "      <td>0</td>\n",
       "      <td>24.0</td>\n",
       "      <td>8.05000</td>\n",
       "      <td>10.666124</td>\n",
       "      <td>11.823268</td>\n",
       "      <td>478</td>\n",
       "      <td>478</td>\n",
       "      <td>-0.82080</td>\n",
       "    </tr>\n",
       "    <tr>\n",
       "      <th>486</th>\n",
       "      <td>1</td>\n",
       "      <td>1</td>\n",
       "      <td>35.0</td>\n",
       "      <td>1</td>\n",
       "      <td>0</td>\n",
       "      <td>90.0000</td>\n",
       "      <td>0</td>\n",
       "      <td>1</td>\n",
       "      <td>0</td>\n",
       "      <td>0</td>\n",
       "      <td>1</td>\n",
       "      <td>35.0</td>\n",
       "      <td>62.66875</td>\n",
       "      <td>14.686916</td>\n",
       "      <td>78.581058</td>\n",
       "      <td>208</td>\n",
       "      <td>208</td>\n",
       "      <td>27.33125</td>\n",
       "    </tr>\n",
       "    <tr>\n",
       "      <th>552</th>\n",
       "      <td>0</td>\n",
       "      <td>3</td>\n",
       "      <td>24.0</td>\n",
       "      <td>0</td>\n",
       "      <td>0</td>\n",
       "      <td>7.8292</td>\n",
       "      <td>0</td>\n",
       "      <td>1</td>\n",
       "      <td>0</td>\n",
       "      <td>1</td>\n",
       "      <td>0</td>\n",
       "      <td>24.0</td>\n",
       "      <td>8.05000</td>\n",
       "      <td>10.666124</td>\n",
       "      <td>11.823268</td>\n",
       "      <td>478</td>\n",
       "      <td>478</td>\n",
       "      <td>-0.22080</td>\n",
       "    </tr>\n",
       "    <tr>\n",
       "      <th>325</th>\n",
       "      <td>1</td>\n",
       "      <td>1</td>\n",
       "      <td>36.0</td>\n",
       "      <td>0</td>\n",
       "      <td>0</td>\n",
       "      <td>135.6333</td>\n",
       "      <td>1</td>\n",
       "      <td>0</td>\n",
       "      <td>0</td>\n",
       "      <td>1</td>\n",
       "      <td>0</td>\n",
       "      <td>35.0</td>\n",
       "      <td>62.66875</td>\n",
       "      <td>14.686916</td>\n",
       "      <td>78.581058</td>\n",
       "      <td>208</td>\n",
       "      <td>208</td>\n",
       "      <td>72.96455</td>\n",
       "    </tr>\n",
       "    <tr>\n",
       "      <th>631</th>\n",
       "      <td>0</td>\n",
       "      <td>3</td>\n",
       "      <td>51.0</td>\n",
       "      <td>0</td>\n",
       "      <td>0</td>\n",
       "      <td>7.0542</td>\n",
       "      <td>1</td>\n",
       "      <td>0</td>\n",
       "      <td>1</td>\n",
       "      <td>0</td>\n",
       "      <td>0</td>\n",
       "      <td>24.0</td>\n",
       "      <td>8.05000</td>\n",
       "      <td>10.666124</td>\n",
       "      <td>11.823268</td>\n",
       "      <td>478</td>\n",
       "      <td>478</td>\n",
       "      <td>-0.99580</td>\n",
       "    </tr>\n",
       "    <tr>\n",
       "      <th>62</th>\n",
       "      <td>0</td>\n",
       "      <td>1</td>\n",
       "      <td>45.0</td>\n",
       "      <td>1</td>\n",
       "      <td>0</td>\n",
       "      <td>83.4750</td>\n",
       "      <td>0</td>\n",
       "      <td>1</td>\n",
       "      <td>0</td>\n",
       "      <td>0</td>\n",
       "      <td>1</td>\n",
       "      <td>35.0</td>\n",
       "      <td>62.66875</td>\n",
       "      <td>14.686916</td>\n",
       "      <td>78.581058</td>\n",
       "      <td>208</td>\n",
       "      <td>208</td>\n",
       "      <td>20.80625</td>\n",
       "    </tr>\n",
       "    <tr>\n",
       "      <th>170</th>\n",
       "      <td>0</td>\n",
       "      <td>1</td>\n",
       "      <td>61.0</td>\n",
       "      <td>0</td>\n",
       "      <td>0</td>\n",
       "      <td>33.5000</td>\n",
       "      <td>0</td>\n",
       "      <td>1</td>\n",
       "      <td>0</td>\n",
       "      <td>0</td>\n",
       "      <td>1</td>\n",
       "      <td>35.0</td>\n",
       "      <td>62.66875</td>\n",
       "      <td>14.686916</td>\n",
       "      <td>78.581058</td>\n",
       "      <td>208</td>\n",
       "      <td>208</td>\n",
       "      <td>-29.16875</td>\n",
       "    </tr>\n",
       "    <tr>\n",
       "      <th>812</th>\n",
       "      <td>0</td>\n",
       "      <td>2</td>\n",
       "      <td>35.0</td>\n",
       "      <td>0</td>\n",
       "      <td>0</td>\n",
       "      <td>10.5000</td>\n",
       "      <td>0</td>\n",
       "      <td>1</td>\n",
       "      <td>1</td>\n",
       "      <td>0</td>\n",
       "      <td>0</td>\n",
       "      <td>29.0</td>\n",
       "      <td>15.04580</td>\n",
       "      <td>13.948199</td>\n",
       "      <td>13.149545</td>\n",
       "      <td>175</td>\n",
       "      <td>175</td>\n",
       "      <td>-4.54580</td>\n",
       "    </tr>\n",
       "  </tbody>\n",
       "</table>\n",
       "</div>"
      ],
      "text/plain": [
       "     Survived  Pclass   Age  SibSp  Parch      Fare  Sex_female  Sex_male  \\\n",
       "341         1       1  24.0      3      2  263.0000           1         0   \n",
       "43          1       2   3.0      1      2   41.5792           1         0   \n",
       "36          1       3  24.0      0      0    7.2292           0         1   \n",
       "486         1       1  35.0      1      0   90.0000           0         1   \n",
       "552         0       3  24.0      0      0    7.8292           0         1   \n",
       "325         1       1  36.0      0      0  135.6333           1         0   \n",
       "631         0       3  51.0      0      0    7.0542           1         0   \n",
       "62          0       1  45.0      1      0   83.4750           0         1   \n",
       "170         0       1  61.0      0      0   33.5000           0         1   \n",
       "812         0       2  35.0      0      0   10.5000           0         1   \n",
       "\n",
       "     Embarked_C  Embarked_Q  Embarked_S  age_Pclass_median  \\\n",
       "341           0           0           1               35.0   \n",
       "43            1           0           0               29.0   \n",
       "36            1           0           0               24.0   \n",
       "486           0           0           1               35.0   \n",
       "552           0           1           0               24.0   \n",
       "325           0           1           0               35.0   \n",
       "631           1           0           0               24.0   \n",
       "62            0           0           1               35.0   \n",
       "170           0           0           1               35.0   \n",
       "812           1           0           0               29.0   \n",
       "\n",
       "     fare_Pclass_median  age_Pclass_std  fare_Pclass_std  SibSp_count  \\\n",
       "341            62.66875       14.686916        78.581058          208   \n",
       "43             15.04580       13.948199        13.149545          175   \n",
       "36              8.05000       10.666124        11.823268          478   \n",
       "486            62.66875       14.686916        78.581058          208   \n",
       "552             8.05000       10.666124        11.823268          478   \n",
       "325            62.66875       14.686916        78.581058          208   \n",
       "631             8.05000       10.666124        11.823268          478   \n",
       "62             62.66875       14.686916        78.581058          208   \n",
       "170            62.66875       14.686916        78.581058          208   \n",
       "812            15.04580       13.948199        13.149545          175   \n",
       "\n",
       "     Parch_count  fare_median_diff  \n",
       "341          208         200.33125  \n",
       "43           175          26.53340  \n",
       "36           478          -0.82080  \n",
       "486          208          27.33125  \n",
       "552          478          -0.22080  \n",
       "325          208          72.96455  \n",
       "631          478          -0.99580  \n",
       "62           208          20.80625  \n",
       "170          208         -29.16875  \n",
       "812          175          -4.54580  "
      ]
     },
     "execution_count": 172,
     "metadata": {},
     "output_type": "execute_result"
    }
   ],
   "source": [
    "#categorical column = Pclass\n",
    "#Num columns to be aggregated = Age(median,std), SibSp(count), Parch(count), Fare(median,std,actual-median)\n",
    "\n",
    "grouped_train = clean_train.groupby('Pclass')\n",
    "\n",
    "#Since age and fare distrubutions are skewed, I chose median\n",
    "clean_train[['age_Pclass_median','fare_Pclass_median']] = grouped_train[['Age', 'Fare']].transform('median')\n",
    "\n",
    "clean_train[['age_Pclass_std','fare_Pclass_std']] = grouped_train[['Age', 'Fare']].transform('std')\n",
    "\n",
    "clean_train[['SibSp_count','Parch_count']] = grouped_train[['SibSp', 'Parch']].transform('count') \n",
    "\n",
    "#fare-median\n",
    "clean_train['fare_median_diff'] = clean_train['Fare']-clean_train['fare_Pclass_median']\n",
    "\n",
    "clean_train.sample(10)"
   ]
  },
  {
   "cell_type": "markdown",
   "id": "edeb61e4",
   "metadata": {},
   "source": [
    "# Cleaning test data"
   ]
  },
  {
   "cell_type": "code",
   "execution_count": 192,
   "id": "e91660e0",
   "metadata": {},
   "outputs": [
    {
     "name": "stdout",
     "output_type": "stream",
     "text": [
      "PassengerId       1045\n",
      "Pclass               3\n",
      "Sex             female\n",
      "Age               36.0\n",
      "SibSp                0\n",
      "Parch                2\n",
      "Fare           12.1833\n",
      "Embarked             S\n",
      "Name: 153, dtype: object\n",
      "\n",
      "PassengerId    NaN\n",
      "Pclass         NaN\n",
      "Age            NaN\n",
      "SibSp          NaN\n",
      "Parch          NaN\n",
      "Fare           NaN\n",
      "Sex_female     1.0\n",
      "Sex_male       0.0\n",
      "Embarked_C     0.0\n",
      "Embarked_Q     0.0\n",
      "Embarked_S     1.0\n",
      "Name: 152, dtype: float64\n",
      "\n",
      "     PassengerId  Pclass   Age  SibSp  Parch     Fare  Sex_female  Sex_male  \\\n",
      "152          NaN     NaN   NaN    NaN    NaN      NaN         1.0       0.0   \n",
      "266          NaN     NaN   NaN    NaN    NaN      NaN         1.0       0.0   \n",
      "372          NaN     NaN   NaN    NaN    NaN      NaN         1.0       0.0   \n",
      "415       1307.0     3.0  38.5    0.0    0.0   7.2500         NaN       NaN   \n",
      "416       1308.0     3.0  21.0    0.0    0.0   8.0500         NaN       NaN   \n",
      "417       1309.0     3.0  21.0    1.0    1.0  22.3583         NaN       NaN   \n",
      "\n",
      "     Embarked_C  Embarked_Q  Embarked_S  \n",
      "152         0.0         0.0         1.0  \n",
      "266         0.0         0.0         1.0  \n",
      "372         1.0         0.0         0.0  \n",
      "415         NaN         NaN         NaN  \n",
      "416         NaN         NaN         NaN  \n",
      "417         NaN         NaN         NaN  \n"
     ]
    }
   ],
   "source": [
    "clean_test = test.copy()\n",
    "def clean(clean_test):\n",
    "    clean_test = clean_test[clean_test['Fare']>0]\n",
    "    clean_test = clean_test.drop(columns=['Ticket'])\n",
    "    clean_test = clean_test.drop(columns=['Name'])\n",
    "    clean_test = clean_test.drop(columns=['Cabin'])\n",
    "    clean_test['Age'].fillna(clean_test['Age'].mode().iloc[0], inplace=True)\n",
    "    clean_test['Embarked'].fillna(clean_test['Embarked'].mode().iloc[0], inplace=True)\n",
    "    \n",
    "    print(clean_test.iloc[152])\n",
    "    print()\n",
    "    ohe = OneHotEncoder(handle_unknown='ignore') \n",
    "    test_object = clean_test.select_dtypes('object')\n",
    "    ohe.fit(test_object)\n",
    "    codes = ohe.transform(test_object).toarray()\n",
    "    feature_names = ohe.get_feature_names_out(['Sex', 'Embarked'])\n",
    "    clean_test = pd.concat([clean_test.select_dtypes(exclude='object'), \n",
    "                   pd.DataFrame(codes,columns=feature_names)], axis=1)\n",
    "    \n",
    "    \n",
    "    print(clean_test.iloc[152])\n",
    "    print()\n",
    "    #clean_test = clean_test.dropna() can't drop NA because submission requires 418 rows\n",
    "    nan_mask = clean_test.isna().any(axis=1)\n",
    "\n",
    "    # use the boolean mask to index the DataFrame and show only the rows with NaN values\n",
    "    rows_with_nan = clean_test.loc[nan_mask]\n",
    "    print(rows_with_nan)\n",
    "    \n",
    "    \n",
    "    \n",
    "    for col in clean_test.columns:\n",
    "        if clean_test[col].dtype == 'float64' and all(clean_test[col].apply(lambda x: x.is_integer())):\n",
    "            clean_test[col] = clean_test[col].astype(int)\n",
    "            \n",
    "    grouped_test = clean_test.groupby('Pclass')\n",
    "\n",
    "    clean_test[['age_Pclass_median','fare_Pclass_median']] = grouped_test[['Age', 'Fare']].transform('median')\n",
    "    clean_test[['age_Pclass_std','fare_Pclass_std']] = grouped_test[['Age', 'Fare']].transform('std')\n",
    "    clean_test[['SibSp_count','Parch_count']] = grouped_test[['SibSp', 'Parch']].transform('count') \n",
    "    clean_test['fare_median_diff'] = clean_test['Fare']-clean_test['fare_Pclass_median']\n",
    "    return clean_test\n",
    "\n",
    "clean_test = clean(clean_test)\n",
    "#clean_test.head()"
   ]
  },
  {
   "cell_type": "markdown",
   "id": "ffcfa575",
   "metadata": {},
   "source": [
    "**Duplicates after cleaning**"
   ]
  },
  {
   "cell_type": "code",
   "execution_count": 174,
   "id": "40f4bce0",
   "metadata": {},
   "outputs": [
    {
     "name": "stdout",
     "output_type": "stream",
     "text": [
      "Number of Duplicated Rows: 66\n",
      "Number of Duplicated Rows: 1\n",
      "Shape of train data before dropping Survived col:(861, 18)\n",
      "Shape of train data before dropping Survived col:(418, 18)\n"
     ]
    },
    {
     "data": {
      "text/html": [
       "<div>\n",
       "<style scoped>\n",
       "    .dataframe tbody tr th:only-of-type {\n",
       "        vertical-align: middle;\n",
       "    }\n",
       "\n",
       "    .dataframe tbody tr th {\n",
       "        vertical-align: top;\n",
       "    }\n",
       "\n",
       "    .dataframe thead th {\n",
       "        text-align: right;\n",
       "    }\n",
       "</style>\n",
       "<table border=\"1\" class=\"dataframe\">\n",
       "  <thead>\n",
       "    <tr style=\"text-align: right;\">\n",
       "      <th></th>\n",
       "      <th>PassengerId</th>\n",
       "      <th>Pclass</th>\n",
       "      <th>Age</th>\n",
       "      <th>SibSp</th>\n",
       "      <th>Parch</th>\n",
       "      <th>Fare</th>\n",
       "      <th>Sex_female</th>\n",
       "      <th>Sex_male</th>\n",
       "      <th>Embarked_C</th>\n",
       "      <th>Embarked_Q</th>\n",
       "      <th>Embarked_S</th>\n",
       "      <th>age_Pclass_median</th>\n",
       "      <th>fare_Pclass_median</th>\n",
       "      <th>age_Pclass_std</th>\n",
       "      <th>fare_Pclass_std</th>\n",
       "      <th>SibSp_count</th>\n",
       "      <th>Parch_count</th>\n",
       "      <th>fare_median_diff</th>\n",
       "    </tr>\n",
       "  </thead>\n",
       "  <tbody>\n",
       "    <tr>\n",
       "      <th>0</th>\n",
       "      <td>892.0</td>\n",
       "      <td>3.0</td>\n",
       "      <td>34.5</td>\n",
       "      <td>0.0</td>\n",
       "      <td>0.0</td>\n",
       "      <td>7.8292</td>\n",
       "      <td>0.0</td>\n",
       "      <td>1.0</td>\n",
       "      <td>0.0</td>\n",
       "      <td>1.0</td>\n",
       "      <td>0.0</td>\n",
       "      <td>21.0</td>\n",
       "      <td>7.8958</td>\n",
       "      <td>8.369618</td>\n",
       "      <td>10.803698</td>\n",
       "      <td>217.0</td>\n",
       "      <td>217.0</td>\n",
       "      <td>-0.0666</td>\n",
       "    </tr>\n",
       "    <tr>\n",
       "      <th>1</th>\n",
       "      <td>893.0</td>\n",
       "      <td>3.0</td>\n",
       "      <td>47.0</td>\n",
       "      <td>1.0</td>\n",
       "      <td>0.0</td>\n",
       "      <td>7.0000</td>\n",
       "      <td>1.0</td>\n",
       "      <td>0.0</td>\n",
       "      <td>0.0</td>\n",
       "      <td>0.0</td>\n",
       "      <td>1.0</td>\n",
       "      <td>21.0</td>\n",
       "      <td>7.8958</td>\n",
       "      <td>8.369618</td>\n",
       "      <td>10.803698</td>\n",
       "      <td>217.0</td>\n",
       "      <td>217.0</td>\n",
       "      <td>-0.8958</td>\n",
       "    </tr>\n",
       "    <tr>\n",
       "      <th>2</th>\n",
       "      <td>894.0</td>\n",
       "      <td>2.0</td>\n",
       "      <td>62.0</td>\n",
       "      <td>0.0</td>\n",
       "      <td>0.0</td>\n",
       "      <td>9.6875</td>\n",
       "      <td>0.0</td>\n",
       "      <td>1.0</td>\n",
       "      <td>0.0</td>\n",
       "      <td>1.0</td>\n",
       "      <td>0.0</td>\n",
       "      <td>26.0</td>\n",
       "      <td>15.7500</td>\n",
       "      <td>12.709790</td>\n",
       "      <td>13.991877</td>\n",
       "      <td>93.0</td>\n",
       "      <td>93.0</td>\n",
       "      <td>-6.0625</td>\n",
       "    </tr>\n",
       "    <tr>\n",
       "      <th>3</th>\n",
       "      <td>895.0</td>\n",
       "      <td>3.0</td>\n",
       "      <td>27.0</td>\n",
       "      <td>0.0</td>\n",
       "      <td>0.0</td>\n",
       "      <td>8.6625</td>\n",
       "      <td>0.0</td>\n",
       "      <td>1.0</td>\n",
       "      <td>0.0</td>\n",
       "      <td>0.0</td>\n",
       "      <td>1.0</td>\n",
       "      <td>21.0</td>\n",
       "      <td>7.8958</td>\n",
       "      <td>8.369618</td>\n",
       "      <td>10.803698</td>\n",
       "      <td>217.0</td>\n",
       "      <td>217.0</td>\n",
       "      <td>0.7667</td>\n",
       "    </tr>\n",
       "    <tr>\n",
       "      <th>4</th>\n",
       "      <td>896.0</td>\n",
       "      <td>3.0</td>\n",
       "      <td>22.0</td>\n",
       "      <td>1.0</td>\n",
       "      <td>1.0</td>\n",
       "      <td>12.2875</td>\n",
       "      <td>1.0</td>\n",
       "      <td>0.0</td>\n",
       "      <td>0.0</td>\n",
       "      <td>0.0</td>\n",
       "      <td>1.0</td>\n",
       "      <td>21.0</td>\n",
       "      <td>7.8958</td>\n",
       "      <td>8.369618</td>\n",
       "      <td>10.803698</td>\n",
       "      <td>217.0</td>\n",
       "      <td>217.0</td>\n",
       "      <td>4.3917</td>\n",
       "    </tr>\n",
       "  </tbody>\n",
       "</table>\n",
       "</div>"
      ],
      "text/plain": [
       "   PassengerId  Pclass   Age  SibSp  Parch     Fare  Sex_female  Sex_male  \\\n",
       "0        892.0     3.0  34.5    0.0    0.0   7.8292         0.0       1.0   \n",
       "1        893.0     3.0  47.0    1.0    0.0   7.0000         1.0       0.0   \n",
       "2        894.0     2.0  62.0    0.0    0.0   9.6875         0.0       1.0   \n",
       "3        895.0     3.0  27.0    0.0    0.0   8.6625         0.0       1.0   \n",
       "4        896.0     3.0  22.0    1.0    1.0  12.2875         1.0       0.0   \n",
       "\n",
       "   Embarked_C  Embarked_Q  Embarked_S  age_Pclass_median  fare_Pclass_median  \\\n",
       "0         0.0         1.0         0.0               21.0              7.8958   \n",
       "1         0.0         0.0         1.0               21.0              7.8958   \n",
       "2         0.0         1.0         0.0               26.0             15.7500   \n",
       "3         0.0         0.0         1.0               21.0              7.8958   \n",
       "4         0.0         0.0         1.0               21.0              7.8958   \n",
       "\n",
       "   age_Pclass_std  fare_Pclass_std  SibSp_count  Parch_count  fare_median_diff  \n",
       "0        8.369618        10.803698        217.0        217.0           -0.0666  \n",
       "1        8.369618        10.803698        217.0        217.0           -0.8958  \n",
       "2       12.709790        13.991877         93.0         93.0           -6.0625  \n",
       "3        8.369618        10.803698        217.0        217.0            0.7667  \n",
       "4        8.369618        10.803698        217.0        217.0            4.3917  "
      ]
     },
     "execution_count": 174,
     "metadata": {},
     "output_type": "execute_result"
    }
   ],
   "source": [
    "train_dup_rows = clean_train.duplicated()\n",
    "test_dup_rows = clean_test.duplicated()\n",
    "\n",
    "\n",
    "print(f'Number of Duplicated Rows: {train_dup_rows.sum()}')\n",
    "print(f'Number of Duplicated Rows: {test_dup_rows.sum()}')\n",
    "print(f'Shape of train data before dropping Survived col:{clean_train.shape}')\n",
    "print(f'Shape of train data before dropping Survived col:{clean_test.shape}')\n",
    "\n",
    "\n",
    "dup = clean_train[train_dup_rows]\n",
    "# display the duplicate rows\n",
    "#print(dup)\n",
    "clean_test.head()"
   ]
  },
  {
   "cell_type": "markdown",
   "id": "7db894cf",
   "metadata": {},
   "source": [
    "# **Baseline Model**"
   ]
  },
  {
   "cell_type": "code",
   "execution_count": 175,
   "id": "311cdc1a",
   "metadata": {},
   "outputs": [
    {
     "ename": "ValueError",
     "evalue": "Input X contains NaN.\nLogisticRegression does not accept missing values encoded as NaN natively. For supervised learning, you might want to consider sklearn.ensemble.HistGradientBoostingClassifier and Regressor which accept missing values encoded as NaNs natively. Alternatively, it is possible to preprocess the data, for instance by using an imputer transformer in a pipeline or drop samples with missing values. See https://scikit-learn.org/stable/modules/impute.html You can find a list of all estimators that handle NaN values at the following page: https://scikit-learn.org/stable/modules/impute.html#estimators-that-handle-nan-values",
     "output_type": "error",
     "traceback": [
      "\u001b[1;31m---------------------------------------------------------------------------\u001b[0m",
      "\u001b[1;31mValueError\u001b[0m                                Traceback (most recent call last)",
      "\u001b[1;32m~\\AppData\\Local\\Temp/ipykernel_21672/2356036769.py\u001b[0m in \u001b[0;36m<module>\u001b[1;34m\u001b[0m\n\u001b[0;32m     16\u001b[0m \u001b[1;33m\u001b[0m\u001b[0m\n\u001b[0;32m     17\u001b[0m \u001b[1;33m\u001b[0m\u001b[0m\n\u001b[1;32m---> 18\u001b[1;33m \u001b[0mpredictions\u001b[0m \u001b[1;33m=\u001b[0m \u001b[0mlogisticRegr\u001b[0m\u001b[1;33m.\u001b[0m\u001b[0mpredict\u001b[0m\u001b[1;33m(\u001b[0m\u001b[0mx_test\u001b[0m\u001b[1;33m)\u001b[0m\u001b[1;33m\u001b[0m\u001b[1;33m\u001b[0m\u001b[0m\n\u001b[0m\u001b[0;32m     19\u001b[0m \u001b[1;33m\u001b[0m\u001b[0m\n\u001b[0;32m     20\u001b[0m \u001b[1;31m#submission file\u001b[0m\u001b[1;33m\u001b[0m\u001b[1;33m\u001b[0m\u001b[0m\n",
      "\u001b[1;32m~\\AppData\\Local\\Programs\\Python\\Python39\\lib\\site-packages\\sklearn\\linear_model\\_base.py\u001b[0m in \u001b[0;36mpredict\u001b[1;34m(self, X)\u001b[0m\n\u001b[0;32m    417\u001b[0m         \"\"\"\n\u001b[0;32m    418\u001b[0m         \u001b[0mxp\u001b[0m\u001b[1;33m,\u001b[0m \u001b[0m_\u001b[0m \u001b[1;33m=\u001b[0m \u001b[0mget_namespace\u001b[0m\u001b[1;33m(\u001b[0m\u001b[0mX\u001b[0m\u001b[1;33m)\u001b[0m\u001b[1;33m\u001b[0m\u001b[1;33m\u001b[0m\u001b[0m\n\u001b[1;32m--> 419\u001b[1;33m         \u001b[0mscores\u001b[0m \u001b[1;33m=\u001b[0m \u001b[0mself\u001b[0m\u001b[1;33m.\u001b[0m\u001b[0mdecision_function\u001b[0m\u001b[1;33m(\u001b[0m\u001b[0mX\u001b[0m\u001b[1;33m)\u001b[0m\u001b[1;33m\u001b[0m\u001b[1;33m\u001b[0m\u001b[0m\n\u001b[0m\u001b[0;32m    420\u001b[0m         \u001b[1;32mif\u001b[0m \u001b[0mlen\u001b[0m\u001b[1;33m(\u001b[0m\u001b[0mscores\u001b[0m\u001b[1;33m.\u001b[0m\u001b[0mshape\u001b[0m\u001b[1;33m)\u001b[0m \u001b[1;33m==\u001b[0m \u001b[1;36m1\u001b[0m\u001b[1;33m:\u001b[0m\u001b[1;33m\u001b[0m\u001b[1;33m\u001b[0m\u001b[0m\n\u001b[0;32m    421\u001b[0m             \u001b[0mindices\u001b[0m \u001b[1;33m=\u001b[0m \u001b[0mxp\u001b[0m\u001b[1;33m.\u001b[0m\u001b[0mastype\u001b[0m\u001b[1;33m(\u001b[0m\u001b[0mscores\u001b[0m \u001b[1;33m>\u001b[0m \u001b[1;36m0\u001b[0m\u001b[1;33m,\u001b[0m \u001b[0mint\u001b[0m\u001b[1;33m)\u001b[0m\u001b[1;33m\u001b[0m\u001b[1;33m\u001b[0m\u001b[0m\n",
      "\u001b[1;32m~\\AppData\\Local\\Programs\\Python\\Python39\\lib\\site-packages\\sklearn\\linear_model\\_base.py\u001b[0m in \u001b[0;36mdecision_function\u001b[1;34m(self, X)\u001b[0m\n\u001b[0;32m    398\u001b[0m         \u001b[0mxp\u001b[0m\u001b[1;33m,\u001b[0m \u001b[0m_\u001b[0m \u001b[1;33m=\u001b[0m \u001b[0mget_namespace\u001b[0m\u001b[1;33m(\u001b[0m\u001b[0mX\u001b[0m\u001b[1;33m)\u001b[0m\u001b[1;33m\u001b[0m\u001b[1;33m\u001b[0m\u001b[0m\n\u001b[0;32m    399\u001b[0m \u001b[1;33m\u001b[0m\u001b[0m\n\u001b[1;32m--> 400\u001b[1;33m         \u001b[0mX\u001b[0m \u001b[1;33m=\u001b[0m \u001b[0mself\u001b[0m\u001b[1;33m.\u001b[0m\u001b[0m_validate_data\u001b[0m\u001b[1;33m(\u001b[0m\u001b[0mX\u001b[0m\u001b[1;33m,\u001b[0m \u001b[0maccept_sparse\u001b[0m\u001b[1;33m=\u001b[0m\u001b[1;34m\"csr\"\u001b[0m\u001b[1;33m,\u001b[0m \u001b[0mreset\u001b[0m\u001b[1;33m=\u001b[0m\u001b[1;32mFalse\u001b[0m\u001b[1;33m)\u001b[0m\u001b[1;33m\u001b[0m\u001b[1;33m\u001b[0m\u001b[0m\n\u001b[0m\u001b[0;32m    401\u001b[0m         \u001b[0mscores\u001b[0m \u001b[1;33m=\u001b[0m \u001b[0msafe_sparse_dot\u001b[0m\u001b[1;33m(\u001b[0m\u001b[0mX\u001b[0m\u001b[1;33m,\u001b[0m \u001b[0mself\u001b[0m\u001b[1;33m.\u001b[0m\u001b[0mcoef_\u001b[0m\u001b[1;33m.\u001b[0m\u001b[0mT\u001b[0m\u001b[1;33m,\u001b[0m \u001b[0mdense_output\u001b[0m\u001b[1;33m=\u001b[0m\u001b[1;32mTrue\u001b[0m\u001b[1;33m)\u001b[0m \u001b[1;33m+\u001b[0m \u001b[0mself\u001b[0m\u001b[1;33m.\u001b[0m\u001b[0mintercept_\u001b[0m\u001b[1;33m\u001b[0m\u001b[1;33m\u001b[0m\u001b[0m\n\u001b[0;32m    402\u001b[0m         \u001b[1;32mreturn\u001b[0m \u001b[0mxp\u001b[0m\u001b[1;33m.\u001b[0m\u001b[0mreshape\u001b[0m\u001b[1;33m(\u001b[0m\u001b[0mscores\u001b[0m\u001b[1;33m,\u001b[0m \u001b[1;33m-\u001b[0m\u001b[1;36m1\u001b[0m\u001b[1;33m)\u001b[0m \u001b[1;32mif\u001b[0m \u001b[0mscores\u001b[0m\u001b[1;33m.\u001b[0m\u001b[0mshape\u001b[0m\u001b[1;33m[\u001b[0m\u001b[1;36m1\u001b[0m\u001b[1;33m]\u001b[0m \u001b[1;33m==\u001b[0m \u001b[1;36m1\u001b[0m \u001b[1;32melse\u001b[0m \u001b[0mscores\u001b[0m\u001b[1;33m\u001b[0m\u001b[1;33m\u001b[0m\u001b[0m\n",
      "\u001b[1;32m~\\AppData\\Local\\Programs\\Python\\Python39\\lib\\site-packages\\sklearn\\base.py\u001b[0m in \u001b[0;36m_validate_data\u001b[1;34m(self, X, y, reset, validate_separately, **check_params)\u001b[0m\n\u001b[0;32m    563\u001b[0m             \u001b[1;32mraise\u001b[0m \u001b[0mValueError\u001b[0m\u001b[1;33m(\u001b[0m\u001b[1;34m\"Validation should be done on X, y or both.\"\u001b[0m\u001b[1;33m)\u001b[0m\u001b[1;33m\u001b[0m\u001b[1;33m\u001b[0m\u001b[0m\n\u001b[0;32m    564\u001b[0m         \u001b[1;32melif\u001b[0m \u001b[1;32mnot\u001b[0m \u001b[0mno_val_X\u001b[0m \u001b[1;32mand\u001b[0m \u001b[0mno_val_y\u001b[0m\u001b[1;33m:\u001b[0m\u001b[1;33m\u001b[0m\u001b[1;33m\u001b[0m\u001b[0m\n\u001b[1;32m--> 565\u001b[1;33m             \u001b[0mX\u001b[0m \u001b[1;33m=\u001b[0m \u001b[0mcheck_array\u001b[0m\u001b[1;33m(\u001b[0m\u001b[0mX\u001b[0m\u001b[1;33m,\u001b[0m \u001b[0minput_name\u001b[0m\u001b[1;33m=\u001b[0m\u001b[1;34m\"X\"\u001b[0m\u001b[1;33m,\u001b[0m \u001b[1;33m**\u001b[0m\u001b[0mcheck_params\u001b[0m\u001b[1;33m)\u001b[0m\u001b[1;33m\u001b[0m\u001b[1;33m\u001b[0m\u001b[0m\n\u001b[0m\u001b[0;32m    566\u001b[0m             \u001b[0mout\u001b[0m \u001b[1;33m=\u001b[0m \u001b[0mX\u001b[0m\u001b[1;33m\u001b[0m\u001b[1;33m\u001b[0m\u001b[0m\n\u001b[0;32m    567\u001b[0m         \u001b[1;32melif\u001b[0m \u001b[0mno_val_X\u001b[0m \u001b[1;32mand\u001b[0m \u001b[1;32mnot\u001b[0m \u001b[0mno_val_y\u001b[0m\u001b[1;33m:\u001b[0m\u001b[1;33m\u001b[0m\u001b[1;33m\u001b[0m\u001b[0m\n",
      "\u001b[1;32m~\\AppData\\Local\\Programs\\Python\\Python39\\lib\\site-packages\\sklearn\\utils\\validation.py\u001b[0m in \u001b[0;36mcheck_array\u001b[1;34m(array, accept_sparse, accept_large_sparse, dtype, order, copy, force_all_finite, ensure_2d, allow_nd, ensure_min_samples, ensure_min_features, estimator, input_name)\u001b[0m\n\u001b[0;32m    919\u001b[0m \u001b[1;33m\u001b[0m\u001b[0m\n\u001b[0;32m    920\u001b[0m         \u001b[1;32mif\u001b[0m \u001b[0mforce_all_finite\u001b[0m\u001b[1;33m:\u001b[0m\u001b[1;33m\u001b[0m\u001b[1;33m\u001b[0m\u001b[0m\n\u001b[1;32m--> 921\u001b[1;33m             _assert_all_finite(\n\u001b[0m\u001b[0;32m    922\u001b[0m                 \u001b[0marray\u001b[0m\u001b[1;33m,\u001b[0m\u001b[1;33m\u001b[0m\u001b[1;33m\u001b[0m\u001b[0m\n\u001b[0;32m    923\u001b[0m                 \u001b[0minput_name\u001b[0m\u001b[1;33m=\u001b[0m\u001b[0minput_name\u001b[0m\u001b[1;33m,\u001b[0m\u001b[1;33m\u001b[0m\u001b[1;33m\u001b[0m\u001b[0m\n",
      "\u001b[1;32m~\\AppData\\Local\\Programs\\Python\\Python39\\lib\\site-packages\\sklearn\\utils\\validation.py\u001b[0m in \u001b[0;36m_assert_all_finite\u001b[1;34m(X, allow_nan, msg_dtype, estimator_name, input_name)\u001b[0m\n\u001b[0;32m    159\u001b[0m                 \u001b[1;34m\"#estimators-that-handle-nan-values\"\u001b[0m\u001b[1;33m\u001b[0m\u001b[1;33m\u001b[0m\u001b[0m\n\u001b[0;32m    160\u001b[0m             )\n\u001b[1;32m--> 161\u001b[1;33m         \u001b[1;32mraise\u001b[0m \u001b[0mValueError\u001b[0m\u001b[1;33m(\u001b[0m\u001b[0mmsg_err\u001b[0m\u001b[1;33m)\u001b[0m\u001b[1;33m\u001b[0m\u001b[1;33m\u001b[0m\u001b[0m\n\u001b[0m\u001b[0;32m    162\u001b[0m \u001b[1;33m\u001b[0m\u001b[0m\n\u001b[0;32m    163\u001b[0m \u001b[1;33m\u001b[0m\u001b[0m\n",
      "\u001b[1;31mValueError\u001b[0m: Input X contains NaN.\nLogisticRegression does not accept missing values encoded as NaN natively. For supervised learning, you might want to consider sklearn.ensemble.HistGradientBoostingClassifier and Regressor which accept missing values encoded as NaNs natively. Alternatively, it is possible to preprocess the data, for instance by using an imputer transformer in a pipeline or drop samples with missing values. See https://scikit-learn.org/stable/modules/impute.html You can find a list of all estimators that handle NaN values at the following page: https://scikit-learn.org/stable/modules/impute.html#estimators-that-handle-nan-values"
     ]
    }
   ],
   "source": [
    "#log regression; only using Pclass variable as it has highest correlation with Survived\n",
    "\n",
    "y_train = clean_train['Survived']\n",
    "x_train = clean_train.drop(columns=['Survived'])\n",
    "\n",
    "x_test = clean_test.drop(columns=['PassengerId'])\n",
    "ids = clean_test['PassengerId'].values\n",
    "\n",
    "\n",
    "sc=StandardScaler()\n",
    "x_train=sc.fit_transform(x_train)\n",
    "x_test=sc.transform(x_test)\n",
    "\n",
    "baseline = LogisticRegression(class_weight=\"balanced\")\n",
    "baseline.fit(x_train, y_train)\n",
    "\n",
    "\n",
    "predictions = logisticRegr.predict(x_test)\n",
    "\n",
    "#submission file\n",
    "sub = pd.DataFrame()\n",
    "sub['PassengerId'] = ids.astype('int')\n",
    "sub['Survived'] = predictions\n",
    "\n",
    "subfolder_name = 'Submission'\n",
    "filename = 'baseline.csv'\n",
    "filepath = os.path.join(subfolder_name, filename)\n",
    "sub.to_csv(filepath, index=False, float_format='%.5f')\n",
    "print(\"Done!\")"
   ]
  },
  {
   "cell_type": "code",
   "execution_count": null,
   "id": "8a39196d",
   "metadata": {},
   "outputs": [],
   "source": []
  }
 ],
 "metadata": {
  "kernelspec": {
   "display_name": "Python 3 (ipykernel)",
   "language": "python",
   "name": "python3"
  },
  "language_info": {
   "codemirror_mode": {
    "name": "ipython",
    "version": 3
   },
   "file_extension": ".py",
   "mimetype": "text/x-python",
   "name": "python",
   "nbconvert_exporter": "python",
   "pygments_lexer": "ipython3",
   "version": "3.9.7"
  }
 },
 "nbformat": 4,
 "nbformat_minor": 5
}
